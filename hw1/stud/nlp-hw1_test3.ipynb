{
 "cells": [
  {
   "cell_type": "markdown",
   "id": "caf91902",
   "metadata": {},
   "source": [
    "DISCLAIMER: Check \"model/\" folder for the complete code!"
   ]
  },
  {
   "cell_type": "markdown",
   "id": "3fe2040e",
   "metadata": {
    "papermill": {
     "duration": 0.078963,
     "end_time": "2022-03-31T22:14:09.386664",
     "exception": false,
     "start_time": "2022-03-31T22:14:09.307701",
     "status": "completed"
    },
    "tags": []
   },
   "source": [
    "# Prerequisites"
   ]
  },
  {
   "cell_type": "code",
   "execution_count": 11,
   "id": "37e2eadd",
   "metadata": {},
   "outputs": [],
   "source": [
    "import sys, os\n",
    "\n",
    "import torch\n",
    "import numpy as np"
   ]
  },
  {
   "cell_type": "markdown",
   "id": "5424a631",
   "metadata": {
    "papermill": {
     "duration": 0.049244,
     "end_time": "2022-03-31T22:14:12.552634",
     "exception": false,
     "start_time": "2022-03-31T22:14:12.503390",
     "status": "completed"
    },
    "tags": []
   },
   "source": [
    "Important paths for the notebook:"
   ]
  },
  {
   "cell_type": "code",
   "execution_count": 12,
   "id": "6fbfdcef",
   "metadata": {
    "execution": {
     "iopub.execute_input": "2022-03-31T22:14:12.655134Z",
     "iopub.status.busy": "2022-03-31T22:14:12.654206Z",
     "iopub.status.idle": "2022-03-31T22:14:12.655841Z",
     "shell.execute_reply": "2022-03-31T22:14:12.656413Z",
     "shell.execute_reply.started": "2022-03-31T20:28:59.800660Z"
    },
    "papermill": {
     "duration": 0.055973,
     "end_time": "2022-03-31T22:14:12.656573",
     "exception": false,
     "start_time": "2022-03-31T22:14:12.600600",
     "status": "completed"
    },
    "tags": []
   },
   "outputs": [],
   "source": [
    "test_number = 3\n",
    "\n",
    "homework_root_path = '../../'\n",
    "data_root_path = '../../data/'\n",
    "\n",
    "data_train_path = os.path.join( data_root_path , 'train.tsv' )\n",
    "data_dev_path = os.path.join( data_root_path , 'dev.tsv' )\n",
    "\n",
    "models_classes_path = '../../model/test' + str(test_number) + '/'\n",
    "models_saves_path = '../../model/test' + str(test_number) + '/saves/'"
   ]
  },
  {
   "cell_type": "code",
   "execution_count": 13,
   "id": "4b0c798e",
   "metadata": {
    "execution": {
     "iopub.execute_input": "2022-03-31T22:14:12.809023Z",
     "iopub.status.busy": "2022-03-31T22:14:12.808258Z",
     "iopub.status.idle": "2022-03-31T22:14:12.811988Z",
     "shell.execute_reply": "2022-03-31T22:14:12.812486Z",
     "shell.execute_reply.started": "2022-03-31T20:28:59.818499Z"
    },
    "papermill": {
     "duration": 0.107653,
     "end_time": "2022-03-31T22:14:12.812655",
     "exception": false,
     "start_time": "2022-03-31T22:14:12.705002",
     "status": "completed"
    },
    "tags": []
   },
   "outputs": [
    {
     "data": {
      "text/plain": [
       "'cuda'"
      ]
     },
     "execution_count": 13,
     "metadata": {},
     "output_type": "execute_result"
    }
   ],
   "source": [
    "device = 'cuda' if torch.cuda.is_available() else 'cpu'\n",
    "device"
   ]
  },
  {
   "cell_type": "markdown",
   "id": "c7bc95ee",
   "metadata": {
    "papermill": {
     "duration": 0.048851,
     "end_time": "2022-03-31T22:14:13.015246",
     "exception": false,
     "start_time": "2022-03-31T22:14:12.966395",
     "status": "completed"
    },
    "tags": []
   },
   "source": [
    "Setting the seed for reproducibility:"
   ]
  },
  {
   "cell_type": "code",
   "execution_count": 14,
   "id": "1e1e06c9",
   "metadata": {
    "execution": {
     "iopub.execute_input": "2022-03-31T22:14:13.121157Z",
     "iopub.status.busy": "2022-03-31T22:14:13.120220Z",
     "iopub.status.idle": "2022-03-31T22:14:13.127565Z",
     "shell.execute_reply": "2022-03-31T22:14:13.127040Z",
     "shell.execute_reply.started": "2022-03-31T20:28:59.852666Z"
    },
    "papermill": {
     "duration": 0.061579,
     "end_time": "2022-03-31T22:14:13.127705",
     "exception": false,
     "start_time": "2022-03-31T22:14:13.066126",
     "status": "completed"
    },
    "tags": []
   },
   "outputs": [],
   "source": [
    "SEED = 28\n",
    "\n",
    "# random.seed(SEED) # not used\n",
    "np.random.seed(SEED)\n",
    "torch.manual_seed(SEED)\n",
    "torch.backends.cudnn.deterministic = True"
   ]
  },
  {
   "cell_type": "markdown",
   "id": "fd77f147",
   "metadata": {},
   "source": [
    "Path:"
   ]
  },
  {
   "cell_type": "code",
   "execution_count": 15,
   "id": "91a2cee8",
   "metadata": {},
   "outputs": [
    {
     "name": "stdout",
     "output_type": "stream",
     "text": [
      "The autoreload extension is already loaded. To reload it, use:\n",
      "  %reload_ext autoreload\n"
     ]
    }
   ],
   "source": [
    "sys.path.append( models_classes_path )\n",
    "\n",
    "%load_ext autoreload\n",
    "%autoreload 2"
   ]
  },
  {
   "cell_type": "markdown",
   "id": "640ecaf2",
   "metadata": {},
   "source": [
    "# Global parameters"
   ]
  },
  {
   "cell_type": "markdown",
   "id": "d3f0b42f",
   "metadata": {},
   "source": [
    "These parameters are needed in various classes, so they will be saved so to be used in the final model:"
   ]
  },
  {
   "cell_type": "code",
   "execution_count": 16,
   "id": "26a4b136",
   "metadata": {},
   "outputs": [],
   "source": [
    "globalParams = {\n",
    "    'PAD_TOKEN': '<pad>',\n",
    "    'PAD_INDEX': -1,\n",
    "    'UNK_TOKEN': '<unk>',\n",
    "    'window_size': 41,\n",
    "    'window_shift': 41 - 20\n",
    "}"
   ]
  },
  {
   "cell_type": "markdown",
   "id": "69878b8e",
   "metadata": {},
   "source": [
    "# Using GloVe as embedding"
   ]
  },
  {
   "cell_type": "markdown",
   "id": "5b2d575a",
   "metadata": {},
   "source": [
    "After the first test done with \"test1\" and by seeing the results done in \"test2\", I sticked with GloVe word vector representation. <br>\n",
    "The padding and the unknown tokens were added at the extracted embedding layer and also at the vocabulary mappings."
   ]
  },
  {
   "cell_type": "code",
   "execution_count": 17,
   "id": "c352c495",
   "metadata": {},
   "outputs": [
    {
     "name": "stderr",
     "output_type": "stream",
     "text": [
      "/home/marco/miniconda3/envs/nlp2022-hw1/lib/python3.9/site-packages/gensim/similarities/__init__.py:15: UserWarning: The gensim.similarities.levenshtein submodule is disabled, because the optional Levenshtein package <https://pypi.org/project/python-Levenshtein/> is unavailable. Install Levenhstein (e.g. `pip install python-Levenshtein`) to suppress this warning.\n",
      "  warnings.warn(msg)\n"
     ]
    }
   ],
   "source": [
    "import gensim.downloader as gensim_api\n",
    "\n",
    "embedding_keyedvectors = gensim_api.load('glove-wiki-gigaword-300')"
   ]
  },
  {
   "cell_type": "markdown",
   "id": "08b1fc0c",
   "metadata": {},
   "source": [
    "Observing the space:"
   ]
  },
  {
   "cell_type": "code",
   "execution_count": 18,
   "id": "2bcc5227",
   "metadata": {
    "execution": {
     "iopub.execute_input": "2022-03-31T22:14:46.925098Z",
     "iopub.status.busy": "2022-03-31T22:14:46.922325Z",
     "iopub.status.idle": "2022-03-31T22:14:47.299728Z",
     "shell.execute_reply": "2022-03-31T22:14:47.299150Z",
     "shell.execute_reply.started": "2022-03-31T20:29:31.606374Z"
    },
    "papermill": {
     "duration": 0.440592,
     "end_time": "2022-03-31T22:14:47.299872",
     "exception": false,
     "start_time": "2022-03-31T22:14:46.859280",
     "status": "completed"
    },
    "tags": []
   },
   "outputs": [
    {
     "data": {
      "image/png": "[encoded data removed]",
      "text/plain": [
       "<Figure size 432x288 with 1 Axes>"
      ]
     },
     "metadata": {
      "needs_background": "light"
     },
     "output_type": "display_data"
    }
   ],
   "source": [
    "from sklearn.decomposition import PCA\n",
    "import matplotlib.pyplot as plt\n",
    "\n",
    "def plot_some_data():\n",
    "    # pick some words to visualise\n",
    "    words = ['film','washington','comedy','university','wrestling','london','china','microsoft','comic','nintendo']\n",
    "    \n",
    "    # retrieve the trained embeddings\n",
    "    coords = [embedding_keyedvectors[word] for word in words]\n",
    "    \n",
    "\n",
    "    # perform PCA to reduce our Nd embeddings to 2d points that can be plotted\n",
    "    pca = PCA(n_components=2)\n",
    "    pca_result = pca.fit_transform(coords) # .t() transpose the embeddings\n",
    "    \n",
    "    for i,(x,y) in enumerate(pca_result):\n",
    "        plt.plot(x, y, 'ro')\n",
    "        plt.text(x, y, words[i], fontsize=12) # add a point label, shifted wrt to the point\n",
    "    plt.title('PCA on Embedding')\n",
    "    plt.show()\n",
    "    \n",
    "plot_some_data()"
   ]
  },
  {
   "cell_type": "code",
   "execution_count": 19,
   "id": "fad86530",
   "metadata": {},
   "outputs": [],
   "source": [
    "def create_embedding_from_keyedvectors(keyedvectors, freeze = False):\n",
    "    vectors = keyedvectors.vectors\n",
    "    padding_idx = vectors.shape[0]\n",
    "    # pad vector is all zeros\n",
    "    pad = np.zeros((1, vectors.shape[1]))\n",
    "    # unk vector is the mean vector\n",
    "    unk = np.mean(vectors, axis=0, keepdims=True)\n",
    "    # concatenate\n",
    "    weights = torch.FloatTensor( np.concatenate((vectors,pad,unk)) )\n",
    "    return torch.nn.Embedding.from_pretrained(weights, padding_idx=padding_idx, freeze=freeze)"
   ]
  },
  {
   "cell_type": "code",
   "execution_count": 20,
   "id": "d37da158",
   "metadata": {},
   "outputs": [],
   "source": [
    "embedding_layer = create_embedding_from_keyedvectors(embedding_keyedvectors, freeze = True)"
   ]
  },
  {
   "cell_type": "code",
   "execution_count": 21,
   "id": "a7581392",
   "metadata": {},
   "outputs": [
    {
     "data": {
      "text/plain": [
       "(400002, 300)"
      ]
     },
     "execution_count": 21,
     "metadata": {},
     "output_type": "execute_result"
    }
   ],
   "source": [
    "embedding_layer.num_embeddings, embedding_layer.embedding_dim"
   ]
  },
  {
   "cell_type": "code",
   "execution_count": 22,
   "id": "c02f1b77",
   "metadata": {},
   "outputs": [],
   "source": [
    "def create_vocabulary_from_keyedvectors(keyedvectors, globalParams):\n",
    "    index_to_key = keyedvectors.index_to_key.copy()\n",
    "    key_to_index = keyedvectors.key_to_index.copy()\n",
    "    \n",
    "    index_to_key.append(globalParams['PAD_TOKEN'])\n",
    "    index_to_key.append(globalParams['UNK_TOKEN'])\n",
    "\n",
    "    key_to_index[globalParams['PAD_TOKEN']] = len(key_to_index)\n",
    "    key_to_index[globalParams['UNK_TOKEN']] = len(key_to_index)\n",
    "\n",
    "    return {'key_to_index':key_to_index, 'index_to_key':index_to_key}"
   ]
  },
  {
   "cell_type": "code",
   "execution_count": 23,
   "id": "e0530800",
   "metadata": {},
   "outputs": [],
   "source": [
    "vocabulary = create_vocabulary_from_keyedvectors(embedding_keyedvectors, globalParams)"
   ]
  },
  {
   "cell_type": "code",
   "execution_count": 24,
   "id": "8241a78b",
   "metadata": {},
   "outputs": [
    {
     "data": {
      "text/plain": [
       "('<pad>', '<unk>')"
      ]
     },
     "execution_count": 24,
     "metadata": {},
     "output_type": "execute_result"
    }
   ],
   "source": [
    "vocabulary['index_to_key'][-2], vocabulary['index_to_key'][-1]"
   ]
  },
  {
   "cell_type": "code",
   "execution_count": 25,
   "id": "e9c3eac2",
   "metadata": {},
   "outputs": [
    {
     "data": {
      "text/plain": [
       "(400000, 400001)"
      ]
     },
     "execution_count": 25,
     "metadata": {},
     "output_type": "execute_result"
    }
   ],
   "source": [
    "vocabulary['key_to_index'][globalParams['PAD_TOKEN']], vocabulary['key_to_index'][globalParams['UNK_TOKEN']]"
   ]
  },
  {
   "cell_type": "markdown",
   "id": "9b3e880b",
   "metadata": {},
   "source": [
    "# Dataset"
   ]
  },
  {
   "cell_type": "markdown",
   "id": "6d1b7c56",
   "metadata": {},
   "source": [
    "The dataset is still the same as in the second test"
   ]
  },
  {
   "cell_type": "code",
   "execution_count": 26,
   "id": "779681a4",
   "metadata": {},
   "outputs": [],
   "source": [
    "from NERDataset import NERDataset"
   ]
  },
  {
   "cell_type": "code",
   "execution_count": 27,
   "id": "8621c7f4",
   "metadata": {},
   "outputs": [],
   "source": [
    "dataset_train = NERDataset(data_train_path, vocabulary = vocabulary, params = globalParams)\n",
    "dataset_dev = NERDataset(data_dev_path, vocabulary = None, params = globalParams)"
   ]
  },
  {
   "cell_type": "markdown",
   "id": "db98be9d",
   "metadata": {},
   "source": [
    "Checking how many OOVs are in the training"
   ]
  },
  {
   "cell_type": "code",
   "execution_count": 28,
   "id": "2c2e035a",
   "metadata": {},
   "outputs": [
    {
     "name": "stdout",
     "output_type": "stream",
     "text": [
      "3399 words not present out of 29966\n"
     ]
    }
   ],
   "source": [
    "words_in_train = list(set(word for sample in dataset_train for word in sample['inputs']))\n",
    "words_not_present = [w for w in words_in_train if w not in vocabulary['key_to_index']]\n",
    "print( len( words_not_present ) , 'words not present out of' , len(words_in_train))"
   ]
  },
  {
   "cell_type": "markdown",
   "id": "3f867a65",
   "metadata": {},
   "source": [
    "Saving everything for later"
   ]
  },
  {
   "cell_type": "code",
   "execution_count": 29,
   "id": "750cc849",
   "metadata": {},
   "outputs": [
    {
     "name": "stderr",
     "output_type": "stream",
     "text": [
      "/home/marco/miniconda3/envs/nlp2022-hw1/lib/python3.9/site-packages/numpy/lib/npyio.py:528: VisibleDeprecationWarning: Creating an ndarray from ragged nested sequences (which is a list-or-tuple of lists-or-tuples-or ndarrays with different lengths or shapes) is deprecated. If you meant to do this, you must specify 'dtype=object' when creating the ndarray.\n",
      "  arr = np.asanyarray(arr)\n"
     ]
    }
   ],
   "source": [
    "dataset_train.save_labels( os.path.join(models_saves_path,'dataset_labels.npy') )"
   ]
  },
  {
   "cell_type": "code",
   "execution_count": 30,
   "id": "4a4cc430",
   "metadata": {},
   "outputs": [],
   "source": [
    "dataset_train.save_vocabulary( os.path.join(models_saves_path,'dataset_vocabulary.npy') )"
   ]
  },
  {
   "cell_type": "markdown",
   "id": "f86a635c",
   "metadata": {},
   "source": [
    "Creating the Dataloader:"
   ]
  },
  {
   "cell_type": "code",
   "execution_count": 31,
   "id": "5418b584",
   "metadata": {},
   "outputs": [],
   "source": [
    "BATCH_SIZE = 32\n",
    "EPOCHS = 200"
   ]
  },
  {
   "cell_type": "code",
   "execution_count": 32,
   "id": "e7143209",
   "metadata": {},
   "outputs": [],
   "source": [
    "prepare_batch = NERDataset.prepare_batch_fn(dataset_train.vocabulary, dataset_train.label2id, globalParams['UNK_TOKEN'])"
   ]
  },
  {
   "cell_type": "code",
   "execution_count": 33,
   "id": "5197bedb",
   "metadata": {
    "execution": {
     "iopub.execute_input": "2022-03-31T22:14:56.662765Z",
     "iopub.status.busy": "2022-03-31T22:14:56.661814Z",
     "iopub.status.idle": "2022-03-31T22:14:56.663623Z",
     "shell.execute_reply": "2022-03-31T22:14:56.664069Z",
     "shell.execute_reply.started": "2022-03-31T20:29:36.203830Z"
    },
    "papermill": {
     "duration": 0.2055,
     "end_time": "2022-03-31T22:14:56.664253",
     "exception": false,
     "start_time": "2022-03-31T22:14:56.458753",
     "status": "completed"
    },
    "tags": []
   },
   "outputs": [],
   "source": [
    "from torch.utils.data import DataLoader\n",
    "\n",
    "dataloader_train = DataLoader(dataset_train, batch_size=BATCH_SIZE, shuffle=True, collate_fn=prepare_batch)\n",
    "dataloader_dev = DataLoader(dataset_dev, batch_size=BATCH_SIZE, shuffle=False, collate_fn=prepare_batch)"
   ]
  },
  {
   "cell_type": "code",
   "execution_count": 34,
   "id": "1a9de416",
   "metadata": {
    "execution": {
     "iopub.execute_input": "2022-03-31T22:14:57.065083Z",
     "iopub.status.busy": "2022-03-31T22:14:57.064510Z",
     "iopub.status.idle": "2022-03-31T22:14:57.082805Z",
     "shell.execute_reply": "2022-03-31T22:14:57.082242Z",
     "shell.execute_reply.started": "2022-03-31T20:29:36.216587Z"
    },
    "papermill": {
     "duration": 0.222557,
     "end_time": "2022-03-31T22:14:57.082942",
     "exception": false,
     "start_time": "2022-03-31T22:14:56.860385",
     "status": "completed"
    },
    "tags": []
   },
   "outputs": [
    {
     "data": {
      "text/plain": [
       "(32, 41)"
      ]
     },
     "execution_count": 34,
     "metadata": {},
     "output_type": "execute_result"
    }
   ],
   "source": [
    "for x in dataloader_dev:\n",
    "    generic_element = x\n",
    "    break\n",
    "np.array(generic_element['inputs']).shape # (batch_size, window_size)"
   ]
  },
  {
   "cell_type": "code",
   "execution_count": 35,
   "id": "e0a1fb11",
   "metadata": {},
   "outputs": [
    {
     "name": "stdout",
     "output_type": "stream",
     "text": [
      "Input\n",
      "tensor([    13,      0,    122,      3,      0,   3160,    785,   9414,   4606,\n",
      "           145,   3385, 400001,     69,     38,     40,   1315,   2141,      2,\n",
      "        400000, 400000, 400000, 400000, 400000, 400000, 400000, 400000, 400000,\n",
      "        400000, 400000, 400000, 400000, 400000, 400000, 400000, 400000, 400000,\n",
      "        400000, 400000, 400000, 400000, 400000])\n",
      "Output\n",
      "tensor([12, 12, 12, 12, 12, 12,  4, 10, 12, 12, 12, 12, 12, 12, 12, 12, 12, 12,\n",
      "        -1, -1, -1, -1, -1, -1, -1, -1, -1, -1, -1, -1, -1, -1, -1, -1, -1, -1,\n",
      "        -1, -1, -1, -1, -1])\n"
     ]
    }
   ],
   "source": [
    "print('Input')\n",
    "print(generic_element['inputs'][0])\n",
    "print('Output')\n",
    "print(generic_element['outputs'][0])"
   ]
  },
  {
   "cell_type": "code",
   "execution_count": 36,
   "id": "7b3cdde3",
   "metadata": {},
   "outputs": [
    {
     "name": "stdout",
     "output_type": "stream",
     "text": [
      "input_size:  400002 \n",
      "max input_length train:  41 \n",
      "max input_length dev:  41 \n",
      "n_labels:  13\n"
     ]
    }
   ],
   "source": [
    "input_size = len(vocabulary['key_to_index']) # how many different words?\n",
    "input_length_train = max([len(sentence_list['inputs']) for sentence_list in dataset_train]) # maximum length of sentence\n",
    "input_length_dev = max([len(sentence_list['inputs']) for sentence_list in dataset_dev]) # maximum length of sentence (dev)\n",
    "n_labels = len(dataset_train.label2id)\n",
    "\n",
    "print('input_size: ', input_size, '\\nmax input_length train: ', input_length_train, '\\nmax input_length dev: ', input_length_dev, '\\nn_labels: ', n_labels)"
   ]
  },
  {
   "cell_type": "markdown",
   "id": "7ec97b88",
   "metadata": {
    "papermill": {
     "duration": 0.196716,
     "end_time": "2022-03-31T22:14:52.785982",
     "exception": false,
     "start_time": "2022-03-31T22:14:52.589266",
     "status": "completed"
    },
    "tags": []
   },
   "source": [
    "# The Model"
   ]
  },
  {
   "cell_type": "markdown",
   "id": "6c156f86",
   "metadata": {},
   "source": [
    "The model here is changed: the CRF layer is added! In addition, the model is generalized in order to do hyper-parameter tuning"
   ]
  },
  {
   "cell_type": "markdown",
   "id": "aac90aa8",
   "metadata": {},
   "source": [
    "The loss function if CRF is not used:"
   ]
  },
  {
   "cell_type": "code",
   "execution_count": 37,
   "id": "953c0404",
   "metadata": {
    "execution": {
     "iopub.execute_input": "2022-03-31T22:14:57.931921Z",
     "iopub.status.busy": "2022-03-31T22:14:57.930683Z",
     "iopub.status.idle": "2022-03-31T22:14:57.932628Z",
     "shell.execute_reply": "2022-03-31T22:14:57.933062Z",
     "shell.execute_reply.started": "2022-03-31T20:29:36.252147Z"
    },
    "papermill": {
     "duration": 0.21099,
     "end_time": "2022-03-31T22:14:57.933235",
     "exception": false,
     "start_time": "2022-03-31T22:14:57.722245",
     "status": "completed"
    },
    "tags": []
   },
   "outputs": [],
   "source": [
    "loss_function = torch.nn.CrossEntropyLoss(ignore_index=globalParams['PAD_INDEX']) # !"
   ]
  },
  {
   "cell_type": "markdown",
   "id": "173bea27",
   "metadata": {},
   "source": [
    "These are all the parameters needed to initialize the model:"
   ]
  },
  {
   "cell_type": "code",
   "execution_count": 41,
   "id": "90307266",
   "metadata": {},
   "outputs": [],
   "source": [
    "globalParams['embedding_shape'] = ( embedding_layer.num_embeddings , embedding_layer.embedding_dim )\n",
    "globalParams['n_labels'] = n_labels\n",
    "globalParams['seq_encoder_parameters'] = [\n",
    "    {'hidden_size':80,'bidirectional':True, 'num_layers':2, 'dropout':0.2},\n",
    "]\n",
    "globalParams['use_crf'] = False"
   ]
  },
  {
   "cell_type": "markdown",
   "id": "15baf7b6",
   "metadata": {},
   "source": [
    "Saving global variables..."
   ]
  },
  {
   "cell_type": "code",
   "execution_count": 42,
   "id": "c5d97abf",
   "metadata": {},
   "outputs": [],
   "source": [
    "np.save(os.path.join(models_saves_path, 'global_params.npy'), globalParams)"
   ]
  },
  {
   "cell_type": "code",
   "execution_count": 43,
   "id": "0303d31a",
   "metadata": {},
   "outputs": [
    {
     "data": {
      "text/plain": [
       "{'PAD_TOKEN': '<pad>',\n",
       " 'PAD_INDEX': -1,\n",
       " 'UNK_TOKEN': '<unk>',\n",
       " 'window_size': 41,\n",
       " 'window_shift': 21,\n",
       " 'embedding_shape': (400002, 300),\n",
       " 'n_labels': 13,\n",
       " 'seq_encoder_parameters': [{'hidden_size': 80,\n",
       "   'bidirectional': True,\n",
       "   'num_layers': 2,\n",
       "   'dropout': 0.2}],\n",
       " 'use_crf': False}"
      ]
     },
     "execution_count": 43,
     "metadata": {},
     "output_type": "execute_result"
    }
   ],
   "source": [
    "globalParams = np.load(os.path.join(models_saves_path, 'global_params.npy'), allow_pickle=True).tolist()\n",
    "globalParams"
   ]
  },
  {
   "cell_type": "markdown",
   "id": "86af82a0",
   "metadata": {},
   "source": [
    "# Putting everything together"
   ]
  },
  {
   "cell_type": "code",
   "execution_count": 192,
   "id": "60bbf654",
   "metadata": {
    "execution": {
     "iopub.execute_input": "2022-03-31T22:14:54.822017Z",
     "iopub.status.busy": "2022-03-31T22:14:54.821056Z",
     "iopub.status.idle": "2022-03-31T22:14:54.823436Z",
     "shell.execute_reply": "2022-03-31T22:14:54.823882Z",
     "shell.execute_reply.started": "2022-03-31T20:29:36.184601Z"
    },
    "papermill": {
     "duration": 0.20449,
     "end_time": "2022-03-31T22:14:54.824045",
     "exception": false,
     "start_time": "2022-03-31T22:14:54.619555",
     "status": "completed"
    },
    "tags": []
   },
   "outputs": [],
   "source": [
    "from FinalModel import FinalModel"
   ]
  },
  {
   "cell_type": "code",
   "execution_count": 193,
   "id": "dcc34d2d",
   "metadata": {},
   "outputs": [],
   "source": [
    "if 'embedding_layer' not in locals() or embedding_layer is None:\n",
    "    print('|WARN| embedding_layer NOT INITIALIZED')\n",
    "    embedding_layer = None\n",
    "\n",
    "if 'loss_function' not in locals() or loss_function is None:\n",
    "    print('|WARN| loss_function NOT INITIALIZED')\n",
    "    loss_function = None"
   ]
  },
  {
   "cell_type": "code",
   "execution_count": 194,
   "id": "eb126c2c",
   "metadata": {},
   "outputs": [
    {
     "name": "stdout",
     "output_type": "stream",
     "text": [
      "Creating final model...\n",
      "Creating model...\n",
      "Loading model weights...\n",
      "Loading model weights failed with strict=True, trying with False...\n",
      "Init done\n"
     ]
    }
   ],
   "source": [
    "# cross-entropy will not be used if there's the crf layer\n",
    "student = FinalModel(\n",
    "    models_saves_path, \n",
    "    model_save_file_name = 'nernet_weights_nocrf.pth',\n",
    "    load_model = True, \n",
    "    custom_embedding_layer = embedding_layer, \n",
    "    loss_fn = loss_function\n",
    ")"
   ]
  },
  {
   "cell_type": "code",
   "execution_count": 213,
   "id": "577cb534",
   "metadata": {},
   "outputs": [
    {
     "name": "stdout",
     "output_type": "stream",
     "text": [
      "Hardcoding transition matrix, fixing gradient...\n"
     ]
    },
    {
     "data": {
      "image/png": "[encoded data removed]",
      "text/plain": [
       "<Figure size 792x792 with 2 Axes>"
      ]
     },
     "metadata": {
      "needs_background": "light"
     },
     "output_type": "display_data"
    }
   ],
   "source": [
    "from sklearn.metrics import ConfusionMatrixDisplay\n",
    "\n",
    "debug_freeze = False\n",
    "debug_transition = True\n",
    "\n",
    "if debug_freeze:\n",
    "    print('Freezing all layers except CRF...')\n",
    "    # freezing until the layer of CRF !\n",
    "    for param in student.model.embedding.parameters():\n",
    "        param.requires_grad = False\n",
    "    for lstm in student.model.seq_encoder:\n",
    "        for param in lstm.parameters():\n",
    "            param.requires_grad = False\n",
    "    for param in student.model.classifier.parameters():\n",
    "        param.requires_grad = False\n",
    "\n",
    "    EPOCHS = 30 # setting new epochs limit\n",
    "\n",
    "if debug_transition:\n",
    "    print('Hardcoding transition matrix, fixing gradient...')\n",
    "    # setting matrix\n",
    "    t_mat = torch.full(student.model.crf.trans_matrix.shape,0.1,device=device)\n",
    "    for i in range(0,6): # B -> I same class\n",
    "        t_mat[i,i+6] = 0.6\n",
    "    for i in range(0,6): # I -> I same class\n",
    "        t_mat[i+6,i+6] = 0.4\n",
    "    for i in range(0,6): # O -> any B\n",
    "        t_mat[12,i] = 0.3\n",
    "    for i in range(0,6): # O -> any I\n",
    "        t_mat[12,i+6] = 0\n",
    "    for i in range(0,6): # B -> O\n",
    "        t_mat[i,12] = 0.45\n",
    "    for i in range(0,6): # I -> O\n",
    "        t_mat[i+6,12] = 0.55\n",
    "    for i in range(0,6): # B-X -> B-X or B-Y\n",
    "        for j in range(0,6):\n",
    "            if i == j: # B-X -> B-X\n",
    "                t_mat[i,j] = 0\n",
    "    for i in range(0,6): # I-X -> B-X or B-Y\n",
    "        for j in range(0,6):\n",
    "            if i == j: # I-X -> B-X\n",
    "                t_mat[i+6,j] = 0\n",
    "    t_mat[12,12] = 0.5 # O -> O\n",
    "    \n",
    "    student.model.crf.trans_matrix = torch.nn.parameter.Parameter( t_mat , requires_grad=False )\n",
    "\n",
    "    mtrx = student.model.crf.trans_matrix.cpu().detach().numpy()\n",
    "    cmdx = ConfusionMatrixDisplay(mtrx, display_labels=dataset_train.id2label)\n",
    "    figx, axx = plt.subplots(figsize=(11,11))\n",
    "    cmdx.plot(ax=axx)\n",
    "    cmdx.ax_.set_xlabel('TO')\n",
    "    cmdx.ax_.set_ylabel('FROM')"
   ]
  },
  {
   "cell_type": "markdown",
   "id": "3ef0ab6e",
   "metadata": {},
   "source": [
    "Unfortunately, torch.summary or torchinfo doesn't work with some implementations of CRF, so a fallback was necessary"
   ]
  },
  {
   "cell_type": "code",
   "execution_count": 140,
   "id": "f1e8dba2",
   "metadata": {},
   "outputs": [
    {
     "name": "stdout",
     "output_type": "stream",
     "text": [
      "NERNet(\n",
      "  (embedding): Embedding(400002, 300, padding_idx=400000)\n",
      "  (seq_encoder): ModuleList(\n",
      "    (0): LSTM(300, 80, num_layers=2, batch_first=True, dropout=0.2, bidirectional=True)\n",
      "  )\n",
      "  (classifier): Linear(in_features=160, out_features=13, bias=True)\n",
      "  (crf): CRF()\n",
      ")\n",
      "----------------------\n",
      "parameters: 120,402,248\n",
      "trainable parameters: 401,479\n",
      "non-trainable parameters: 120,000,769\n"
     ]
    }
   ],
   "source": [
    "from torchinfo import summary\n",
    "\n",
    "print_summary_extended = False\n",
    "\n",
    "def print_summary(model):\n",
    "    print(model)\n",
    "    print('----------------------')\n",
    "    p = sum(p.numel() for p in model.parameters())\n",
    "    tp = sum(p.numel() for p in model.parameters() if p.requires_grad)\n",
    "    ntp = p - tp\n",
    "    print('parameters:', f'{p:,}')\n",
    "    print('trainable parameters:', f'{tp:,}')\n",
    "    print('non-trainable parameters:', f'{ntp:,}')\n",
    "\n",
    "\n",
    "if print_summary_extended:\n",
    "    summary(student.model, \n",
    "            input_data=generic_element['inputs'], \n",
    "            col_names=[\"kernel_size\", \"output_size\", \"num_params\"])\n",
    "else:\n",
    "    print_summary(student.model)\n",
    "    "
   ]
  },
  {
   "cell_type": "markdown",
   "id": "6e58b039",
   "metadata": {
    "papermill": {
     "duration": 0.326497,
     "end_time": "2022-03-31T22:14:55.381233",
     "exception": false,
     "start_time": "2022-03-31T22:14:55.054736",
     "status": "completed"
    },
    "tags": []
   },
   "source": [
    "# Training Phase"
   ]
  },
  {
   "cell_type": "markdown",
   "id": "b2036e60",
   "metadata": {
    "papermill": {
     "duration": 0.195298,
     "end_time": "2022-03-31T22:14:58.323776",
     "exception": false,
     "start_time": "2022-03-31T22:14:58.128478",
     "status": "completed"
    },
    "tags": []
   },
   "source": [
    "This training function was taken and modified from the notebook #5:"
   ]
  },
  {
   "cell_type": "code",
   "execution_count": 125,
   "id": "32322dde",
   "metadata": {
    "execution": {
     "iopub.execute_input": "2022-03-31T22:14:58.728664Z",
     "iopub.status.busy": "2022-03-31T22:14:58.722353Z",
     "iopub.status.idle": "2022-03-31T22:14:58.731515Z",
     "shell.execute_reply": "2022-03-31T22:14:58.730951Z",
     "shell.execute_reply.started": "2022-03-31T20:29:36.259144Z"
    },
    "papermill": {
     "duration": 0.214129,
     "end_time": "2022-03-31T22:14:58.731653",
     "exception": false,
     "start_time": "2022-03-31T22:14:58.517524",
     "status": "completed"
    },
    "tags": []
   },
   "outputs": [],
   "source": [
    "from seqeval.metrics import accuracy_score, f1_score\n",
    "\n",
    "def train_and_evaluate(\n",
    "    final_model,\n",
    "    optimizer: torch.optim.Optimizer,\n",
    "    train_dataloader: DataLoader,\n",
    "    valid_dataloader: DataLoader = None,\n",
    "    valid_data_input = None,\n",
    "    valid_data_output = None,\n",
    "    epochs: int = 5,\n",
    "    verbose: bool = True,\n",
    "    device = 'cpu'\n",
    "):\n",
    "\n",
    "    train_history = []\n",
    "    valid_loss_history = []\n",
    "    valid_f1_history = []\n",
    "\n",
    "    final_model.model.to(device)\n",
    "\n",
    "    for epoch in range(epochs):\n",
    "        losses = []\n",
    "        \n",
    "        final_model.model.train()\n",
    "\n",
    "        # batches of the training set\n",
    "        for step, sample in enumerate(train_dataloader):\n",
    "            inputs = sample['inputs'].to(device)\n",
    "            labels = sample['outputs']\n",
    "            \n",
    "            optimizer.zero_grad()\n",
    "            \n",
    "            predictions = final_model.model.compute_outputs(inputs)\n",
    "\n",
    "            if final_model.model.crf is not None:\n",
    "                predictions = torch.tensor(predictions)\n",
    "            else:\n",
    "                predictions = predictions.view(-1, predictions.shape[-1]) # (batch , sentence , n_labels) -> (batch*sentence , n_labels)\n",
    "                labels = labels.view(-1) # (batch , sentence) -> (batch*sentence)\n",
    "\n",
    "            predictions = predictions.to(device)\n",
    "            labels = labels.to(device)\n",
    "            sample_loss = final_model.model.compute_loss( predictions, labels, ~labels.eq(-1) )\n",
    "\n",
    "            sample_loss.backward()\n",
    "            optimizer.step()\n",
    "\n",
    "            losses.append(sample_loss.item())\n",
    "            \n",
    "\n",
    "        mean_loss = sum(losses) / len(losses)\n",
    "        train_history.append(mean_loss)\n",
    "        \n",
    "        if verbose or epoch == epochs - 1:\n",
    "            print(f'  Epoch {epoch:3d} => avg_loss: {mean_loss:0.6f}')\n",
    "        \n",
    "        if valid_data_output is not None and valid_dataloader is not None:\n",
    "            f1_s = evaluate_f1(final_model, valid_data_input, valid_data_output, device)\n",
    "            valid_loss = evaluate_loss(final_model, valid_dataloader, device)\n",
    "            valid_loss_history.append(valid_loss)\n",
    "            valid_f1_history.append(f1_s)\n",
    "            if verbose:\n",
    "                print(f'    Validation loss => {valid_loss:0.6f} f1-score => {f1_s:0.6f}')\n",
    "                print()\n",
    "                \n",
    "        \n",
    "    return {'train_history':train_history, 'valid_loss_history':valid_loss_history, 'valid_f1_history':valid_f1_history}\n",
    "\n",
    "def evaluate_f1(final_model, valid_data_input, valid_data_label, device):\n",
    "    final_model.model.eval()\n",
    "    final_model.model.to(device)\n",
    "    with torch.no_grad():\n",
    "        data_eval_predict = final_model.predict(valid_data_input)\n",
    "    f1_s = f1_score(valid_data_label, data_eval_predict, average=\"macro\")\n",
    "    return f1_s\n",
    "\n",
    "def evaluate_loss(final_model, valid_dataset, device):\n",
    "    valid_loss = 0.0\n",
    "    final_model.model.eval()\n",
    "    final_model.model.to(device)\n",
    "    with torch.no_grad():\n",
    "        for sample in valid_dataset:\n",
    "            inputs = sample['inputs'].to(device)\n",
    "            labels = sample['outputs']\n",
    "\n",
    "            predictions = final_model.model.compute_outputs(inputs)\n",
    "            \n",
    "            if final_model.model.crf is not None:\n",
    "                predictions = torch.tensor(predictions)\n",
    "            else:\n",
    "                predictions = predictions.view(-1, predictions.shape[-1]).to(device) # (batch , sentence , n_labels) -> (batch*sentence , n_labels)\n",
    "                labels = labels.view(-1) # (batch , sentence) -> (batch*sentence)\n",
    "\n",
    "            predictions = predictions.to(device)\n",
    "            labels = labels.to(device)\n",
    "\n",
    "            sample_loss = final_model.model.compute_loss( predictions, labels, ~labels.eq(-1) )\n",
    "            valid_loss += sample_loss.tolist()\n",
    "\n",
    "    return valid_loss / len(valid_dataset)"
   ]
  },
  {
   "cell_type": "code",
   "execution_count": 126,
   "id": "f71ff20d",
   "metadata": {
    "execution": {
     "iopub.execute_input": "2022-03-31T22:14:59.177230Z",
     "iopub.status.busy": "2022-03-31T22:14:59.176272Z",
     "iopub.status.idle": "2022-03-31T23:43:54.623282Z",
     "shell.execute_reply": "2022-03-31T23:43:54.623879Z",
     "shell.execute_reply.started": "2022-03-31T20:29:36.278255Z"
    },
    "papermill": {
     "duration": 5335.697332,
     "end_time": "2022-03-31T23:43:54.624051",
     "exception": false,
     "start_time": "2022-03-31T22:14:58.926719",
     "status": "completed"
    },
    "scrolled": true,
    "tags": []
   },
   "outputs": [
    {
     "name": "stderr",
     "output_type": "stream",
     "text": [
      "/tmp/ipykernel_729/1022068399.py:36: UserWarning: To copy construct from a tensor, it is recommended to use sourceTensor.clone().detach() or sourceTensor.clone().detach().requires_grad_(True), rather than torch.tensor(sourceTensor).\n",
      "  predictions = torch.tensor(predictions)\n"
     ]
    },
    {
     "name": "stdout",
     "output_type": "stream",
     "text": [
      "  Epoch   0 => avg_loss: 2.012379\n"
     ]
    },
    {
     "name": "stderr",
     "output_type": "stream",
     "text": [
      "/tmp/ipykernel_729/1022068399.py:89: UserWarning: To copy construct from a tensor, it is recommended to use sourceTensor.clone().detach() or sourceTensor.clone().detach().requires_grad_(True), rather than torch.tensor(sourceTensor).\n",
      "  predictions = torch.tensor(predictions)\n"
     ]
    },
    {
     "name": "stdout",
     "output_type": "stream",
     "text": [
      "    Validation loss => 3.500026 f1-score => 0.612587\n",
      "\n",
      "  Epoch   1 => avg_loss: 1.889090\n",
      "    Validation loss => 3.410215 f1-score => 0.623136\n",
      "\n",
      "  Epoch   2 => avg_loss: 1.825148\n",
      "    Validation loss => 3.351537 f1-score => 0.623580\n",
      "\n",
      "  Epoch   3 => avg_loss: 1.776440\n",
      "    Validation loss => 3.310906 f1-score => 0.626542\n",
      "\n",
      "  Epoch   4 => avg_loss: 1.736827\n",
      "    Validation loss => 3.280653 f1-score => 0.625562\n",
      "\n",
      "  Epoch   5 => avg_loss: 1.717327\n",
      "    Validation loss => 3.257633 f1-score => 0.624883\n",
      "\n",
      "  Epoch   6 => avg_loss: 1.691870\n",
      "    Validation loss => 3.239586 f1-score => 0.628049\n",
      "\n",
      "  Epoch   7 => avg_loss: 1.678347\n",
      "    Validation loss => 3.224196 f1-score => 0.626260\n",
      "\n",
      "  Epoch   8 => avg_loss: 1.654008\n",
      "    Validation loss => 3.211360 f1-score => 0.625304\n",
      "\n",
      "  Epoch   9 => avg_loss: 1.670354\n",
      "    Validation loss => 3.200704 f1-score => 0.625497\n",
      "\n",
      "  Epoch  10 => avg_loss: 1.638448\n",
      "    Validation loss => 3.191675 f1-score => 0.628035\n",
      "\n",
      "  Epoch  11 => avg_loss: 1.624987\n",
      "    Validation loss => 3.183878 f1-score => 0.623535\n",
      "\n",
      "  Epoch  12 => avg_loss: 1.645512\n",
      "    Validation loss => 3.177193 f1-score => 0.626373\n",
      "\n",
      "  Epoch  13 => avg_loss: 1.627279\n",
      "    Validation loss => 3.170723 f1-score => 0.624632\n",
      "\n",
      "  Epoch  14 => avg_loss: 1.616286\n",
      "    Validation loss => 3.165231 f1-score => 0.623639\n",
      "\n",
      "  Epoch  15 => avg_loss: 1.612993\n",
      "    Validation loss => 3.160771 f1-score => 0.625158\n",
      "\n",
      "  Epoch  16 => avg_loss: 1.613363\n",
      "    Validation loss => 3.156549 f1-score => 0.625663\n",
      "\n",
      "  Epoch  17 => avg_loss: 1.600673\n",
      "    Validation loss => 3.152169 f1-score => 0.626234\n",
      "\n",
      "  Epoch  18 => avg_loss: 1.600857\n",
      "    Validation loss => 3.149045 f1-score => 0.628327\n",
      "\n",
      "  Epoch  19 => avg_loss: 1.593304\n",
      "    Validation loss => 3.145506 f1-score => 0.623515\n",
      "\n",
      "  Epoch  20 => avg_loss: 1.586006\n",
      "    Validation loss => 3.142694 f1-score => 0.623463\n",
      "\n",
      "  Epoch  21 => avg_loss: 1.585617\n",
      "    Validation loss => 3.139593 f1-score => 0.624213\n",
      "\n",
      "  Epoch  22 => avg_loss: 1.593069\n",
      "    Validation loss => 3.137191 f1-score => 0.623940\n",
      "\n",
      "  Epoch  23 => avg_loss: 1.602995\n",
      "    Validation loss => 3.135637 f1-score => 0.627342\n",
      "\n",
      "  Epoch  24 => avg_loss: 1.575387\n",
      "    Validation loss => 3.132936 f1-score => 0.627038\n",
      "\n",
      "  Epoch  25 => avg_loss: 1.578171\n",
      "    Validation loss => 3.130743 f1-score => 0.624903\n",
      "\n",
      "  Epoch  26 => avg_loss: 1.581677\n",
      "    Validation loss => 3.129115 f1-score => 0.626415\n",
      "\n",
      "  Epoch  27 => avg_loss: 1.571002\n",
      "    Validation loss => 3.127882 f1-score => 0.625689\n",
      "\n",
      "  Epoch  28 => avg_loss: 1.580091\n",
      "    Validation loss => 3.125683 f1-score => 0.625726\n",
      "\n",
      "  Epoch  29 => avg_loss: 1.570263\n",
      "    Validation loss => 3.124253 f1-score => 0.624073\n",
      "\n"
     ]
    }
   ],
   "source": [
    "import torch.optim as optim\n",
    "\n",
    "train_model = True\n",
    "\n",
    "if train_model:\n",
    "\n",
    "    optimizer = optim.SGD(student.model.parameters(), lr=0.0016, momentum=0.9)\n",
    "    # optimizer = optim.Adam(student.model.parameters(), lr=0.0016)\n",
    "\n",
    "    data_eval_input = []\n",
    "    data_eval_label = []\n",
    "    for sentence in NERDataset.read_dataset(data_dev_path):\n",
    "        data_eval_input.append(sentence['inputs'])\n",
    "        data_eval_label.append(sentence['outputs'])\n",
    "\n",
    "    history = train_and_evaluate(   student, optimizer, dataloader_train, dataloader_dev,\n",
    "                                    data_eval_input, data_eval_label, epochs=EPOCHS, verbose=True, device=device)"
   ]
  },
  {
   "cell_type": "markdown",
   "id": "9005bd0e",
   "metadata": {
    "papermill": {
     "duration": 0.260085,
     "end_time": "2022-03-31T23:43:55.147085",
     "exception": false,
     "start_time": "2022-03-31T23:43:54.887000",
     "status": "completed"
    },
    "tags": []
   },
   "source": [
    "# Saving..."
   ]
  },
  {
   "cell_type": "code",
   "execution_count": 59,
   "id": "97df34de",
   "metadata": {
    "execution": {
     "iopub.execute_input": "2022-03-31T23:43:55.687386Z",
     "iopub.status.busy": "2022-03-31T23:43:55.686739Z",
     "iopub.status.idle": "2022-03-31T23:43:55.702630Z",
     "shell.execute_reply": "2022-03-31T23:43:55.702081Z",
     "shell.execute_reply.started": "2022-03-31T22:11:46.659124Z"
    },
    "papermill": {
     "duration": 0.290321,
     "end_time": "2022-03-31T23:43:55.702775",
     "exception": false,
     "start_time": "2022-03-31T23:43:55.412454",
     "status": "completed"
    },
    "tags": []
   },
   "outputs": [],
   "source": [
    "save_model = True\n",
    "\n",
    "if save_model:\n",
    "    student.model.save_weights(os.path.join(models_saves_path,'nernet_weights_crf2.pth'))"
   ]
  },
  {
   "cell_type": "markdown",
   "id": "2a9830fc",
   "metadata": {},
   "source": [
    "Displaying the transition matrix in the CRF layer"
   ]
  },
  {
   "cell_type": "code",
   "execution_count": 173,
   "id": "37c36dc1",
   "metadata": {},
   "outputs": [
    {
     "data": {
      "image/png": "[encoded data removed]",
      "text/plain": [
       "<Figure size 792x792 with 2 Axes>"
      ]
     },
     "metadata": {
      "needs_background": "light"
     },
     "output_type": "display_data"
    }
   ],
   "source": [
    "from sklearn.metrics import ConfusionMatrixDisplay\n",
    "\n",
    "if student.model.crf is not None:\n",
    "    mtrx = student.model.crf.trans_matrix.cpu().detach().numpy()\n",
    "    # mtrx = np.exp(mtrx)\n",
    "    cmdx = ConfusionMatrixDisplay(mtrx, display_labels=dataset_train.id2label)\n",
    "    figx, axx = plt.subplots(figsize=(11,11))\n",
    "    cmdx.plot(ax=axx)\n",
    "    cmdx.ax_.set_xlabel('TO')\n",
    "    cmdx.ax_.set_ylabel('FROM')"
   ]
  },
  {
   "cell_type": "code",
   "execution_count": 119,
   "id": "61d23eb8",
   "metadata": {
    "execution": {
     "iopub.execute_input": "2022-03-31T23:44:06.618677Z",
     "iopub.status.busy": "2022-03-31T23:44:06.617335Z",
     "iopub.status.idle": "2022-03-31T23:44:06.998690Z",
     "shell.execute_reply": "2022-03-31T23:44:06.998156Z",
     "shell.execute_reply.started": "2022-03-31T22:11:46.664934Z"
    },
    "papermill": {
     "duration": 0.984485,
     "end_time": "2022-03-31T23:44:06.998822",
     "exception": false,
     "start_time": "2022-03-31T23:44:06.014337",
     "status": "completed"
    },
    "tags": []
   },
   "outputs": [
    {
     "data": {
      "image/png": "[encoded data removed]",
      "text/plain": [
       "<Figure size 576x576 with 1 Axes>"
      ]
     },
     "metadata": {
      "needs_background": "light"
     },
     "output_type": "display_data"
    }
   ],
   "source": [
    "import matplotlib.pyplot as plt\n",
    "\n",
    "# {'train_history':train_history, 'valid_acc_history':valid_acc_history, 'valid_f1_history':valid_f1_history}\n",
    "\n",
    "if train_model:\n",
    "    plt.figure(figsize=(8,8))\n",
    "    plt.plot([i for i in range(len(history['train_history']))], history['train_history'], label='train')\n",
    "    plt.plot([i for i in range(len(history['valid_loss_history']))], history['valid_loss_history'], label='val_loss')\n",
    "    plt.plot([i for i in range(len(history['valid_f1_history']))], history['valid_f1_history'], label='val_f1')\n",
    "    plt.xlabel('epochs')\n",
    "    plt.ylabel('value')\n",
    "    plt.title('Model learning')\n",
    "    plt.legend()\n",
    "    plt.show()"
   ]
  },
  {
   "cell_type": "markdown",
   "id": "6fe41381",
   "metadata": {},
   "source": [
    "# Evaluating with other metrics..."
   ]
  },
  {
   "cell_type": "code",
   "execution_count": 239,
   "id": "a7f76dde",
   "metadata": {
    "papermill": {
     "duration": 0.260407,
     "end_time": "2022-03-31T23:44:10.630580",
     "exception": false,
     "start_time": "2022-03-31T23:44:10.370173",
     "status": "completed"
    },
    "tags": []
   },
   "outputs": [],
   "source": [
    "def remove_indices_from_lists(y_pred, y_true, black_list):\n",
    "    '''\n",
    "    Removes from y_pred and y_true the values contained in black_list that matches with y_true\n",
    "    '''\n",
    "    y_pred_refined, y_true_refined = [], []\n",
    "    for p,l in zip(y_pred, y_true):\n",
    "        if l not in black_list:\n",
    "            y_pred_refined.append(p) \n",
    "            y_true_refined.append(l)\n",
    "    return y_pred_refined, y_true_refined\n",
    "\n",
    "def obtain_pred_labels(model, valid_dataset, device):\n",
    "    model.to(device)\n",
    "    model.eval() # dropout to 0\n",
    "\n",
    "    y_true_total = []\n",
    "    y_pred_total = []\n",
    "    \n",
    "    with torch.no_grad():\n",
    "        for sample in valid_dataset:\n",
    "            inputs = sample['inputs'].to(device)\n",
    "            y_true = sample['outputs']\n",
    "\n",
    "            y_pred = model( inputs, mask = ~y_true.eq(-1) )\n",
    "            if model.crf is None:\n",
    "                y_pred = model.get_indices(y_pred)\n",
    "                y_pred = y_pred.view(-1)\n",
    "                y_true = y_true.view(-1)\n",
    "            else:\n",
    "                y_pred = torch.tensor([val for row in y_pred for val in row])\n",
    "                y_true = torch.tensor([val for row in y_true for val in row if val != -1])\n",
    "\n",
    "            y_pred_total.append(y_pred)\n",
    "            y_true_total.append(y_true)\n",
    "\n",
    "    y_pred, y_true = torch.cat(y_pred_total, dim=0).cpu().numpy(), torch.cat(y_true_total, dim=0).cpu().numpy()\n",
    "    assert len(y_pred) == len(y_true)\n",
    "    y_pred, y_true = remove_indices_from_lists(y_pred, y_true, [-1])\n",
    "    return y_pred, y_true"
   ]
  },
  {
   "cell_type": "code",
   "execution_count": 240,
   "id": "cbfedfd4",
   "metadata": {},
   "outputs": [],
   "source": [
    "y_pred, y_true = obtain_pred_labels(student.model, dataloader_dev, device)"
   ]
  },
  {
   "cell_type": "code",
   "execution_count": 241,
   "id": "27aba241",
   "metadata": {},
   "outputs": [
    {
     "name": "stdout",
     "output_type": "stream",
     "text": [
      "              precision    recall  f1-score   support\n",
      "\n",
      "      B-CORP       0.76      0.60      0.67       136\n",
      "        B-CW       0.49      0.47      0.48       173\n",
      "       B-GRP       0.77      0.70      0.74       193\n",
      "       B-LOC       0.84      0.83      0.83       252\n",
      "       B-PER       0.89      0.86      0.87       315\n",
      "      B-PROD       0.58      0.45      0.51       157\n",
      "      I-CORP       0.74      0.60      0.67       121\n",
      "        I-CW       0.63      0.65      0.64       271\n",
      "       I-GRP       0.86      0.74      0.80       397\n",
      "       I-LOC       0.77      0.77      0.77       159\n",
      "       I-PER       0.88      0.88      0.88       349\n",
      "      I-PROD       0.58      0.57      0.57        91\n",
      "           O       0.96      0.98      0.97     11013\n",
      "\n",
      "    accuracy                           0.93     13627\n",
      "   macro avg       0.75      0.70      0.72     13627\n",
      "weighted avg       0.92      0.93      0.92     13627\n",
      "\n"
     ]
    }
   ],
   "source": [
    "from sklearn.metrics import classification_report\n",
    "\n",
    "print( classification_report(y_true, y_pred, target_names=dataset_train.id2label) )"
   ]
  },
  {
   "cell_type": "code",
   "execution_count": 230,
   "id": "d3edc49e",
   "metadata": {},
   "outputs": [
    {
     "data": {
      "text/plain": [
       "<sklearn.metrics._plot.confusion_matrix.ConfusionMatrixDisplay at 0x7fc73b9294c0>"
      ]
     },
     "execution_count": 230,
     "metadata": {},
     "output_type": "execute_result"
    },
    {
     "data": {
      "image/png": "[encoded data removed]",
      "text/plain": [
       "<Figure size 792x792 with 2 Axes>"
      ]
     },
     "metadata": {
      "needs_background": "light"
     },
     "output_type": "display_data"
    }
   ],
   "source": [
    "from sklearn.metrics import ConfusionMatrixDisplay, confusion_matrix\n",
    "\n",
    "cm = confusion_matrix(y_true, y_pred, normalize='pred') # normalized over predicted label: the sum of each column is 1\n",
    "cmd = ConfusionMatrixDisplay(cm, display_labels=dataset_train.id2label)\n",
    "fig, ax = plt.subplots(figsize=(11,11))\n",
    "cmd.plot(ax=ax)"
   ]
  },
  {
   "cell_type": "code",
   "execution_count": 214,
   "id": "493b994e",
   "metadata": {},
   "outputs": [
    {
     "name": "stdout",
     "output_type": "stream",
     "text": [
      "# accuracy: 0.9258\n",
      "# f1: 0.6140\n"
     ]
    }
   ],
   "source": [
    "data_eval_input = []\n",
    "data_eval_label = []\n",
    "for sentence in NERDataset.read_dataset(data_dev_path):\n",
    "    data_eval_input.append(sentence['inputs'])\n",
    "    data_eval_label.append(sentence['outputs'])\n",
    "\n",
    "data_eval_predict = student.predict(data_eval_input)\n",
    "\n",
    "from seqeval.metrics import accuracy_score, f1_score\n",
    "\n",
    "acc = accuracy_score(data_eval_label, data_eval_predict)\n",
    "f = f1_score(data_eval_label, data_eval_predict, average=\"macro\")\n",
    "\n",
    "print(f\"# accuracy: {acc:.4f}\")\n",
    "print(f\"# f1: {f:.4f}\")"
   ]
  },
  {
   "cell_type": "markdown",
   "id": "f69d4b82",
   "metadata": {},
   "source": [
    "# Testing usability..."
   ]
  },
  {
   "cell_type": "code",
   "execution_count": 210,
   "id": "5fb9b18b",
   "metadata": {},
   "outputs": [
    {
     "name": "stdout",
     "output_type": "stream",
     "text": [
      "[['O', 'O', 'O', 'O', 'O', 'O', 'O', 'O', 'B-PER', 'I-PER', 'O']]\n"
     ]
    }
   ],
   "source": [
    "y_true_sample = ['B-PER','I-PER','O','B-CORP','O','O','O','O','B-LOC','I-LOC','O']\n",
    "input_sample = ['John','Lucas','joined','Aiimi','as','data','scientist','in','New','York','.']\n",
    "\n",
    "print( student.predict([input_sample]) )"
   ]
  },
  {
   "cell_type": "markdown",
   "id": "cc72a309",
   "metadata": {},
   "source": [
    "Testing a long phrase..."
   ]
  },
  {
   "cell_type": "code",
   "execution_count": 209,
   "id": "76213f39",
   "metadata": {},
   "outputs": [
    {
     "name": "stdout",
     "output_type": "stream",
     "text": [
      "83 83\n",
      "[('childhood', 'O'), ('friends', 'O'), ('Bill', 'B-PER'), ('Gates', 'I-PER'), ('and', 'O'), ('Paul', 'B-PER'), ('Allen', 'I-PER'), ('sought', 'O'), ('to', 'O'), ('make', 'O'), ('a', 'O'), ('business', 'O'), ('using', 'O'), ('their', 'O'), ('skills', 'O'), ('in', 'O'), ('computer', 'O'), ('programming.', 'O'), ('in', 'O'), ('1972,', 'B-CORP'), ('they', 'O'), ('founded', 'O'), ('traf-o-data,', 'B-CORP'), ('which', 'O'), ('sold', 'O'), ('a', 'O'), ('rudimentary', 'O'), ('computer', 'O'), ('to', 'O'), ('track', 'O'), ('and', 'O'), ('analyze', 'O'), ('automobile', 'O'), ('traffic', 'O'), ('data', 'O'), ('.', 'O'), ('gates', 'O'), ('enrolled', 'O'), ('at', 'O'), ('harvard', 'B-GRP'), ('university', 'I-GRP'), ('while', 'O'), ('allen', 'O'), ('pursued', 'O'), ('a', 'O'), ('degree', 'O'), ('in', 'O'), ('computer', 'O'), ('science', 'O'), ('at', 'O'), ('washington', 'B-GRP'), ('state', 'I-GRP'), ('university', 'I-GRP'), (',', 'O'), ('though', 'O'), ('he', 'O'), ('later', 'O'), ('dropped', 'O'), ('out', 'O'), ('to', 'O'), ('work', 'O'), ('at', 'O'), ('honeywell', 'B-CORP'), ('.', 'O'), ('the', 'O'), ('january', 'O'), ('1975', 'O'), ('issue', 'O'), ('of', 'O'), ('popular', 'O'), ('electronics', 'O'), ('featured', 'O'), ('micro', 'O'), ('instrumentation', 'O'), ('and', 'O'), ('telemetry', 'O'), ('systems', 'O'), ('(', 'O'), ('mits', 'O'), (')', 'O'), ('altair', 'B-PROD'), ('8800', 'I-PROD'), ('microcomputer', 'I-PROD')]\n"
     ]
    }
   ],
   "source": [
    "long_sample = [ 'childhood', 'friends', 'Bill', 'Gates', 'and', 'Paul', 'Allen', 'sought', 'to', 'make', 'a', 'business', 'using', 'their', 'skills', 'in', 'computer', \n",
    "                'programming.', 'in', '1972,', 'they', 'founded', 'traf-o-data,', 'which', 'sold', 'a', 'rudimentary', 'computer', 'to', 'track', 'and', 'analyze', \n",
    "                'automobile', 'traffic', 'data', '.', 'gates', 'enrolled', 'at', 'harvard', 'university', 'while', 'allen', 'pursued', 'a', 'degree', 'in', 'computer', \n",
    "                'science', 'at', 'washington', 'state', 'university', ',', 'though', 'he', 'later', 'dropped', 'out', 'to', 'work', 'at', 'honeywell', '.', 'the', 'january', \n",
    "                '1975', 'issue', 'of', 'popular', 'electronics', 'featured', 'micro', 'instrumentation', 'and', 'telemetry', \"systems\", '(', 'mits', ')', 'altair', '8800', 'microcomputer']\n",
    "long_sample_predictions = student.predict([long_sample])\n",
    "print(len(long_sample), len(long_sample_predictions[0]))\n",
    "print(list(zip(long_sample,long_sample_predictions[0])))"
   ]
  },
  {
   "cell_type": "code",
   "execution_count": null,
   "id": "047d3796",
   "metadata": {},
   "outputs": [],
   "source": []
  },
  {
   "cell_type": "code",
   "execution_count": 45,
   "id": "d1d7f5dc",
   "metadata": {},
   "outputs": [
    {
     "name": "stdout",
     "output_type": "stream",
     "text": [
      "Creating final model...\n",
      "Creating model...\n",
      "Loading model weights...\n",
      "Init done\n"
     ]
    }
   ],
   "source": [
    "from FinalModel import FinalModel\n",
    "student = FinalModel(\n",
    "    models_saves_path,\n",
    "    'nernet_weights_nocrf.pth',\n",
    "    loss_fn = loss_function\n",
    ")"
   ]
  },
  {
   "cell_type": "code",
   "execution_count": 46,
   "id": "31bebd8d",
   "metadata": {},
   "outputs": [
    {
     "name": "stdout",
     "output_type": "stream",
     "text": [
      "# accuracy: 0.9244\n",
      "# f1: 0.5836\n"
     ]
    }
   ],
   "source": [
    "data_eval_input = []\n",
    "data_eval_label = []\n",
    "for sentence in NERDataset.read_dataset(data_dev_path):\n",
    "    data_eval_input.append(sentence['inputs'])\n",
    "    data_eval_label.append(sentence['outputs'])\n",
    "\n",
    "data_eval_predict = student.predict(data_eval_input)\n",
    "\n",
    "from seqeval.metrics import accuracy_score, f1_score\n",
    "\n",
    "acc = accuracy_score(data_eval_label, data_eval_predict)\n",
    "f = f1_score(data_eval_label, data_eval_predict, average=\"macro\")\n",
    "\n",
    "print(f\"# accuracy: {acc:.4f}\")\n",
    "print(f\"# f1: {f:.4f}\")"
   ]
  },
  {
   "cell_type": "code",
   "execution_count": 59,
   "id": "0f33ef54",
   "metadata": {},
   "outputs": [
    {
     "name": "stdout",
     "output_type": "stream",
     "text": [
      "[['O', 'O', 'B-PER', 'I-PER', 'O', 'B-PER', 'I-PER', 'O', 'O', 'O', 'O', 'O', 'O', 'O', 'O', 'O', 'O', 'O', 'O', 'B-CORP', 'O', 'O', 'B-CORP', 'O', 'O', 'O', 'O', 'O', 'O', 'O', 'O', 'O', 'O', 'O', 'O', 'O', 'O', 'O', 'O', 'B-GRP', 'I-GRP', 'O', 'O', 'O', 'O', 'O', 'O', 'O', 'O', 'O', 'B-GRP', 'I-GRP', 'I-GRP', 'O', 'O', 'O', 'O', 'O', 'O', 'O', 'O', 'O', 'B-CORP', 'O', 'O', 'O', 'O', 'O', 'O', 'O', 'O', 'O', 'O', 'O', 'O', 'O', 'O', 'O', 'O', 'O', 'B-PROD', 'I-PROD', 'I-PROD']]\n"
     ]
    }
   ],
   "source": [
    "input_sample  = [ 'childhood', 'friends', 'Bill', 'Gates', 'and', 'Paul', 'Allen', 'sought', 'to', 'make', 'a', 'business', 'using', 'their', 'skills', 'in', 'computer', \n",
    "                'programming.', 'in', '1972,', 'they', 'founded', 'traf-o-data,', 'which', 'sold', 'a', 'rudimentary', 'computer', 'to', 'track', 'and', 'analyze', \n",
    "                'automobile', 'traffic', 'data', '.', 'gates', 'enrolled', 'at', 'harvard', 'university', 'while', 'allen', 'pursued', 'a', 'degree', 'in', 'computer', \n",
    "                'science', 'at', 'washington', 'state', 'university', ',', 'though', 'he', 'later', 'dropped', 'out', 'to', 'work', 'at', 'honeywell', '.', 'the', 'january', \n",
    "                '1975', 'issue', 'of', 'popular', 'electronics', 'featured', 'micro', 'instrumentation', 'and', 'telemetry', \"systems\", '(', 'mits', ')', 'altair', '8800', 'microcomputer']\n",
    "\n",
    "\n",
    "print( student.predict([input_sample]) )"
   ]
  },
  {
   "cell_type": "code",
   "execution_count": 60,
   "id": "8e4a2f57",
   "metadata": {},
   "outputs": [
    {
     "name": "stdout",
     "output_type": "stream",
     "text": [
      "tensor([[12, 12,  4, 10, 12,  4, 10, 12, 12, 12, 12, 12, 12, 12, 12, 12, 12, 12,\n",
      "         12, 12, 12, 12,  0, 12, 12, 12, 12, 12, 12, 12, 12, 12, 12, 12, 12, 12,\n",
      "         12, 12, 12,  2,  8, 12, 12, 12, 12, 12, 12, 12, 12, 12,  2,  8,  8, 12,\n",
      "         12, 12, 12, 12, 12, 12, 12, 12,  0, 12, 12, 12, 12, 12, 12, 12, 12, 12,\n",
      "         12, 12, 12, 12, 12, 12, 12, 12, 12, 11, 12]], device='cuda:0')\n"
     ]
    }
   ],
   "source": [
    "from NERDataset import NERDataset\n",
    "e_input = NERDataset.encode_sentence_words(input_sample, student.vocabulary, student.globalParams['UNK_TOKEN'])\n",
    "student.model.eval()\n",
    "with torch.no_grad():\n",
    "    print( student.model.get_indices( student.model( torch.tensor([e_input]).to(device) ) ) )"
   ]
  },
  {
   "cell_type": "code",
   "execution_count": null,
   "id": "f2b62aea",
   "metadata": {},
   "outputs": [],
   "source": []
  }
 ],
 "metadata": {
  "kernelspec": {
   "display_name": "Python 3",
   "language": "python",
   "name": "python3"
  },
  "language_info": {
   "codemirror_mode": {
    "name": "ipython",
    "version": 3
   },
   "file_extension": ".py",
   "mimetype": "text/x-python",
   "name": "python",
   "nbconvert_exporter": "python",
   "pygments_lexer": "ipython3",
   "version": "3.9.11"
  },
  "papermill": {
   "default_parameters": {},
   "duration": 5413.597386,
   "end_time": "2022-03-31T23:44:13.855326",
   "environment_variables": {},
   "exception": null,
   "input_path": "__notebook__.ipynb",
   "output_path": "__notebook__.ipynb",
   "parameters": {},
   "start_time": "2022-03-31T22:14:00.257940",
   "version": "2.3.3"
  }
 },
 "nbformat": 4,
 "nbformat_minor": 5
}
