{
 "cells": [
  {
   "cell_type": "markdown",
   "id": "13582ad4",
   "metadata": {},
   "source": [
    "DISCLAIMER: Check \"model/\" folder for the complete code!"
   ]
  },
  {
   "cell_type": "markdown",
   "id": "3fe2040e",
   "metadata": {
    "papermill": {
     "duration": 0.078963,
     "end_time": "2022-03-31T22:14:09.386664",
     "exception": false,
     "start_time": "2022-03-31T22:14:09.307701",
     "status": "completed"
    },
    "tags": []
   },
   "source": [
    "# Prerequisites"
   ]
  },
  {
   "cell_type": "code",
   "execution_count": 8,
   "id": "37e2eadd",
   "metadata": {},
   "outputs": [],
   "source": [
    "import sys, os\n",
    "\n",
    "import torch\n",
    "import numpy as np"
   ]
  },
  {
   "cell_type": "markdown",
   "id": "5424a631",
   "metadata": {
    "papermill": {
     "duration": 0.049244,
     "end_time": "2022-03-31T22:14:12.552634",
     "exception": false,
     "start_time": "2022-03-31T22:14:12.503390",
     "status": "completed"
    },
    "tags": []
   },
   "source": [
    "Important paths for the notebook:"
   ]
  },
  {
   "cell_type": "code",
   "execution_count": 9,
   "id": "6fbfdcef",
   "metadata": {
    "execution": {
     "iopub.execute_input": "2022-03-31T22:14:12.655134Z",
     "iopub.status.busy": "2022-03-31T22:14:12.654206Z",
     "iopub.status.idle": "2022-03-31T22:14:12.655841Z",
     "shell.execute_reply": "2022-03-31T22:14:12.656413Z",
     "shell.execute_reply.started": "2022-03-31T20:28:59.800660Z"
    },
    "papermill": {
     "duration": 0.055973,
     "end_time": "2022-03-31T22:14:12.656573",
     "exception": false,
     "start_time": "2022-03-31T22:14:12.600600",
     "status": "completed"
    },
    "tags": []
   },
   "outputs": [],
   "source": [
    "homework_root_path = '../../'\n",
    "data_root_path = '../../data/'\n",
    "\n",
    "data_train_path = os.path.join( data_root_path , 'train.tsv' )\n",
    "data_dev_path = os.path.join( data_root_path , 'dev.tsv' )\n",
    "\n",
    "models_classes_path = '../../model/test2/'\n",
    "models_saves_path = '../../model/test2/saves/'"
   ]
  },
  {
   "cell_type": "code",
   "execution_count": 10,
   "id": "4b0c798e",
   "metadata": {
    "execution": {
     "iopub.execute_input": "2022-03-31T22:14:12.809023Z",
     "iopub.status.busy": "2022-03-31T22:14:12.808258Z",
     "iopub.status.idle": "2022-03-31T22:14:12.811988Z",
     "shell.execute_reply": "2022-03-31T22:14:12.812486Z",
     "shell.execute_reply.started": "2022-03-31T20:28:59.818499Z"
    },
    "papermill": {
     "duration": 0.107653,
     "end_time": "2022-03-31T22:14:12.812655",
     "exception": false,
     "start_time": "2022-03-31T22:14:12.705002",
     "status": "completed"
    },
    "tags": []
   },
   "outputs": [
    {
     "data": {
      "text/plain": [
       "'cuda'"
      ]
     },
     "execution_count": 10,
     "metadata": {},
     "output_type": "execute_result"
    }
   ],
   "source": [
    "device = 'cuda' if torch.cuda.is_available() else 'cpu'\n",
    "device"
   ]
  },
  {
   "cell_type": "markdown",
   "id": "c7bc95ee",
   "metadata": {
    "papermill": {
     "duration": 0.048851,
     "end_time": "2022-03-31T22:14:13.015246",
     "exception": false,
     "start_time": "2022-03-31T22:14:12.966395",
     "status": "completed"
    },
    "tags": []
   },
   "source": [
    "Setting the seed for reproducibility:"
   ]
  },
  {
   "cell_type": "code",
   "execution_count": 11,
   "id": "1e1e06c9",
   "metadata": {
    "execution": {
     "iopub.execute_input": "2022-03-31T22:14:13.121157Z",
     "iopub.status.busy": "2022-03-31T22:14:13.120220Z",
     "iopub.status.idle": "2022-03-31T22:14:13.127565Z",
     "shell.execute_reply": "2022-03-31T22:14:13.127040Z",
     "shell.execute_reply.started": "2022-03-31T20:28:59.852666Z"
    },
    "papermill": {
     "duration": 0.061579,
     "end_time": "2022-03-31T22:14:13.127705",
     "exception": false,
     "start_time": "2022-03-31T22:14:13.066126",
     "status": "completed"
    },
    "tags": []
   },
   "outputs": [],
   "source": [
    "SEED = 28\n",
    "\n",
    "# random.seed(SEED) # not used\n",
    "np.random.seed(SEED)\n",
    "torch.manual_seed(SEED)\n",
    "torch.backends.cudnn.deterministic = True"
   ]
  },
  {
   "cell_type": "markdown",
   "id": "fd77f147",
   "metadata": {},
   "source": [
    "Path:"
   ]
  },
  {
   "cell_type": "code",
   "execution_count": 12,
   "id": "91a2cee8",
   "metadata": {},
   "outputs": [],
   "source": [
    "sys.path.append( models_classes_path )\n",
    "\n",
    "%load_ext autoreload\n",
    "%autoreload 2"
   ]
  },
  {
   "cell_type": "markdown",
   "id": "640ecaf2",
   "metadata": {},
   "source": [
    "# Global parameters"
   ]
  },
  {
   "cell_type": "markdown",
   "id": "d3f0b42f",
   "metadata": {},
   "source": [
    "These parameters are needed in various classes, so they will be saved so to be used in the final model:"
   ]
  },
  {
   "cell_type": "code",
   "execution_count": 59,
   "id": "26a4b136",
   "metadata": {},
   "outputs": [],
   "source": [
    "globalParams = {\n",
    "    'PAD_TOKEN': '<pad>',\n",
    "    'PAD_INDEX': -1,\n",
    "    'UNK_TOKEN': '<unk>',\n",
    "    'window_size': 41,\n",
    "    'window_shift': 41 - 8\n",
    "}"
   ]
  },
  {
   "cell_type": "markdown",
   "id": "69878b8e",
   "metadata": {},
   "source": [
    "# Using GloVe as embedding"
   ]
  },
  {
   "cell_type": "markdown",
   "id": "5b2d575a",
   "metadata": {},
   "source": [
    "After the first test done with \"test1\", I wanted to check if a bigger vocabulary of words is better than a smaller one (for performances limit reasons) but with a lot of n-grams (FastText implementation). <br>\n",
    "To do so, a new embedding is created, which uses a pretrained model from the gensim repository: it contains a vocabulary of 400'000 words with the GloVe word vector representation. <br>\n",
    "The padding and the unknown tokens were added at the extracted embedding layer and also at the vocabulary mappings."
   ]
  },
  {
   "cell_type": "code",
   "execution_count": 16,
   "id": "c352c495",
   "metadata": {},
   "outputs": [
    {
     "name": "stderr",
     "output_type": "stream",
     "text": [
      "/home/marco/miniconda3/envs/nlp2022-hw1/lib/python3.9/site-packages/gensim/similarities/__init__.py:15: UserWarning: The gensim.similarities.levenshtein submodule is disabled, because the optional Levenshtein package <https://pypi.org/project/python-Levenshtein/> is unavailable. Install Levenhstein (e.g. `pip install python-Levenshtein`) to suppress this warning.\n",
      "  warnings.warn(msg)\n"
     ]
    }
   ],
   "source": [
    "import gensim.downloader as gensim_api\n",
    "\n",
    "embedding_keyedvectors = gensim_api.load('glove-wiki-gigaword-300')"
   ]
  },
  {
   "cell_type": "markdown",
   "id": "08b1fc0c",
   "metadata": {},
   "source": [
    "Observing the space:"
   ]
  },
  {
   "cell_type": "code",
   "execution_count": 17,
   "id": "2bcc5227",
   "metadata": {
    "execution": {
     "iopub.execute_input": "2022-03-31T22:14:46.925098Z",
     "iopub.status.busy": "2022-03-31T22:14:46.922325Z",
     "iopub.status.idle": "2022-03-31T22:14:47.299728Z",
     "shell.execute_reply": "2022-03-31T22:14:47.299150Z",
     "shell.execute_reply.started": "2022-03-31T20:29:31.606374Z"
    },
    "papermill": {
     "duration": 0.440592,
     "end_time": "2022-03-31T22:14:47.299872",
     "exception": false,
     "start_time": "2022-03-31T22:14:46.859280",
     "status": "completed"
    },
    "tags": []
   },
   "outputs": [
    {
     "data": {
      "image/png": "[encoded data removed]",
      "text/plain": [
       "<Figure size 432x288 with 1 Axes>"
      ]
     },
     "metadata": {
      "needs_background": "light"
     },
     "output_type": "display_data"
    }
   ],
   "source": [
    "from sklearn.decomposition import PCA\n",
    "import matplotlib.pyplot as plt\n",
    "\n",
    "def plot_some_data():\n",
    "    # pick some words to visualise\n",
    "    words = ['film','washington','comedy','university','wrestling','london','china','microsoft','comic','nintendo']\n",
    "    \n",
    "    # retrieve the trained embeddings\n",
    "    coords = [embedding_keyedvectors[word] for word in words]\n",
    "    \n",
    "\n",
    "    # perform PCA to reduce our Nd embeddings to 2d points that can be plotted\n",
    "    pca = PCA(n_components=2)\n",
    "    pca_result = pca.fit_transform(coords) # .t() transpose the embeddings\n",
    "    \n",
    "    for i,(x,y) in enumerate(pca_result):\n",
    "        plt.plot(x, y, 'ro')\n",
    "        plt.text(x, y, words[i], fontsize=12) # add a point label, shifted wrt to the point\n",
    "    plt.title('PCA on Embedding')\n",
    "    plt.show()\n",
    "    \n",
    "plot_some_data()"
   ]
  },
  {
   "cell_type": "code",
   "execution_count": 18,
   "id": "fad86530",
   "metadata": {},
   "outputs": [],
   "source": [
    "def create_embedding_from_keyedvectors(keyedvectors, freeze = False):\n",
    "    vectors = keyedvectors.vectors\n",
    "    padding_idx = vectors.shape[0]\n",
    "    # pad vector is all zeros\n",
    "    pad = np.zeros((1, vectors.shape[1]))\n",
    "    # unk vector is the mean vector\n",
    "    unk = np.mean(vectors, axis=0, keepdims=True)\n",
    "    # concatenate\n",
    "    weights = torch.FloatTensor( np.concatenate((vectors,pad,unk)) )\n",
    "    return torch.nn.Embedding.from_pretrained(weights, padding_idx=padding_idx, freeze=freeze)"
   ]
  },
  {
   "cell_type": "code",
   "execution_count": 19,
   "id": "d37da158",
   "metadata": {},
   "outputs": [],
   "source": [
    "embedding_layer = create_embedding_from_keyedvectors(embedding_keyedvectors, freeze = True)"
   ]
  },
  {
   "cell_type": "code",
   "execution_count": 20,
   "id": "a7581392",
   "metadata": {},
   "outputs": [
    {
     "data": {
      "text/plain": [
       "(400002, 300)"
      ]
     },
     "execution_count": 20,
     "metadata": {},
     "output_type": "execute_result"
    }
   ],
   "source": [
    "embedding_layer.num_embeddings, embedding_layer.embedding_dim"
   ]
  },
  {
   "cell_type": "code",
   "execution_count": 22,
   "id": "c02f1b77",
   "metadata": {},
   "outputs": [],
   "source": [
    "def create_vocabulary_from_keyedvectors(keyedvectors, globalParams):\n",
    "    index_to_key = keyedvectors.index_to_key.copy()\n",
    "    key_to_index = keyedvectors.key_to_index.copy()\n",
    "    \n",
    "    index_to_key.append(globalParams['PAD_TOKEN'])\n",
    "    index_to_key.append(globalParams['UNK_TOKEN'])\n",
    "\n",
    "    key_to_index[globalParams['PAD_TOKEN']] = len(key_to_index)\n",
    "    key_to_index[globalParams['UNK_TOKEN']] = len(key_to_index)\n",
    "\n",
    "    return {'key_to_index':key_to_index, 'index_to_key':index_to_key}"
   ]
  },
  {
   "cell_type": "code",
   "execution_count": 23,
   "id": "e0530800",
   "metadata": {},
   "outputs": [],
   "source": [
    "vocabulary = create_vocabulary_from_keyedvectors(embedding_keyedvectors, globalParams)"
   ]
  },
  {
   "cell_type": "code",
   "execution_count": 24,
   "id": "8241a78b",
   "metadata": {},
   "outputs": [
    {
     "data": {
      "text/plain": [
       "('<pad>', '<unk>')"
      ]
     },
     "execution_count": 24,
     "metadata": {},
     "output_type": "execute_result"
    }
   ],
   "source": [
    "vocabulary['index_to_key'][-2], vocabulary['index_to_key'][-1]"
   ]
  },
  {
   "cell_type": "code",
   "execution_count": 25,
   "id": "e9c3eac2",
   "metadata": {},
   "outputs": [
    {
     "data": {
      "text/plain": [
       "(400000, 400001)"
      ]
     },
     "execution_count": 25,
     "metadata": {},
     "output_type": "execute_result"
    }
   ],
   "source": [
    "vocabulary['key_to_index'][globalParams['PAD_TOKEN']], vocabulary['key_to_index'][globalParams['UNK_TOKEN']]"
   ]
  },
  {
   "cell_type": "markdown",
   "id": "9b3e880b",
   "metadata": {},
   "source": [
    "# Dataset"
   ]
  },
  {
   "cell_type": "code",
   "execution_count": 26,
   "id": "779681a4",
   "metadata": {},
   "outputs": [],
   "source": [
    "from NERDataset import NERDataset"
   ]
  },
  {
   "cell_type": "code",
   "execution_count": 27,
   "id": "8621c7f4",
   "metadata": {},
   "outputs": [],
   "source": [
    "dataset_train = NERDataset(data_train_path, vocabulary = vocabulary, params = globalParams)\n",
    "dataset_dev = NERDataset(data_dev_path, vocabulary = None, params = globalParams)"
   ]
  },
  {
   "cell_type": "code",
   "execution_count": 28,
   "id": "750cc849",
   "metadata": {},
   "outputs": [
    {
     "name": "stderr",
     "output_type": "stream",
     "text": [
      "/home/marco/miniconda3/envs/nlp2022-hw1/lib/python3.9/site-packages/numpy/lib/npyio.py:528: VisibleDeprecationWarning: Creating an ndarray from ragged nested sequences (which is a list-or-tuple of lists-or-tuples-or ndarrays with different lengths or shapes) is deprecated. If you meant to do this, you must specify 'dtype=object' when creating the ndarray.\n",
      "  arr = np.asanyarray(arr)\n"
     ]
    }
   ],
   "source": [
    "dataset_train.save_labels( os.path.join(models_saves_path,'dataset_labels.npy') )"
   ]
  },
  {
   "cell_type": "code",
   "execution_count": 29,
   "id": "4a4cc430",
   "metadata": {},
   "outputs": [],
   "source": [
    "dataset_train.save_vocabulary( os.path.join(models_saves_path,'dataset_vocabulary.npy') )"
   ]
  },
  {
   "cell_type": "markdown",
   "id": "f86a635c",
   "metadata": {},
   "source": [
    "Creating the Dataloader:"
   ]
  },
  {
   "cell_type": "code",
   "execution_count": 30,
   "id": "5418b584",
   "metadata": {},
   "outputs": [],
   "source": [
    "BATCH_SIZE = 32\n",
    "EPOCHS = 200"
   ]
  },
  {
   "cell_type": "code",
   "execution_count": 31,
   "id": "e7143209",
   "metadata": {},
   "outputs": [],
   "source": [
    "prepare_batch = NERDataset.prepare_batch_fn(dataset_train.vocabulary, dataset_train.label2id, globalParams['UNK_TOKEN'])"
   ]
  },
  {
   "cell_type": "code",
   "execution_count": 32,
   "id": "5197bedb",
   "metadata": {
    "execution": {
     "iopub.execute_input": "2022-03-31T22:14:56.662765Z",
     "iopub.status.busy": "2022-03-31T22:14:56.661814Z",
     "iopub.status.idle": "2022-03-31T22:14:56.663623Z",
     "shell.execute_reply": "2022-03-31T22:14:56.664069Z",
     "shell.execute_reply.started": "2022-03-31T20:29:36.203830Z"
    },
    "papermill": {
     "duration": 0.2055,
     "end_time": "2022-03-31T22:14:56.664253",
     "exception": false,
     "start_time": "2022-03-31T22:14:56.458753",
     "status": "completed"
    },
    "tags": []
   },
   "outputs": [],
   "source": [
    "from torch.utils.data import DataLoader\n",
    "\n",
    "dataloader_train = DataLoader(dataset_train, batch_size=BATCH_SIZE, shuffle=True, collate_fn=prepare_batch)\n",
    "dataloader_dev = DataLoader(dataset_dev, batch_size=BATCH_SIZE, shuffle=False, collate_fn=prepare_batch)"
   ]
  },
  {
   "cell_type": "code",
   "execution_count": 33,
   "id": "1a9de416",
   "metadata": {
    "execution": {
     "iopub.execute_input": "2022-03-31T22:14:57.065083Z",
     "iopub.status.busy": "2022-03-31T22:14:57.064510Z",
     "iopub.status.idle": "2022-03-31T22:14:57.082805Z",
     "shell.execute_reply": "2022-03-31T22:14:57.082242Z",
     "shell.execute_reply.started": "2022-03-31T20:29:36.216587Z"
    },
    "papermill": {
     "duration": 0.222557,
     "end_time": "2022-03-31T22:14:57.082942",
     "exception": false,
     "start_time": "2022-03-31T22:14:56.860385",
     "status": "completed"
    },
    "tags": []
   },
   "outputs": [
    {
     "data": {
      "text/plain": [
       "(32, 41)"
      ]
     },
     "execution_count": 33,
     "metadata": {},
     "output_type": "execute_result"
    }
   ],
   "source": [
    "for x in dataloader_dev:\n",
    "    generic_element = x\n",
    "    break\n",
    "np.array(generic_element['inputs']).shape # (batch_size, window_size)"
   ]
  },
  {
   "cell_type": "code",
   "execution_count": 77,
   "id": "e0a1fb11",
   "metadata": {},
   "outputs": [
    {
     "name": "stdout",
     "output_type": "stream",
     "text": [
      "Input\n",
      "tensor([    13,      0,    122,      3,      0,   3160,    785,   9414,   4606,\n",
      "           145,   3385, 400001,     69,     38,     40,   1315,   2141,      2,\n",
      "        400000, 400000, 400000, 400000, 400000, 400000, 400000, 400000, 400000,\n",
      "        400000, 400000, 400000, 400000, 400000, 400000, 400000, 400000, 400000,\n",
      "        400000, 400000, 400000, 400000, 400000])\n",
      "Output\n",
      "tensor([12, 12, 12, 12, 12, 12,  4, 10, 12, 12, 12, 12, 12, 12, 12, 12, 12, 12,\n",
      "        -1, -1, -1, -1, -1, -1, -1, -1, -1, -1, -1, -1, -1, -1, -1, -1, -1, -1,\n",
      "        -1, -1, -1, -1, -1])\n"
     ]
    }
   ],
   "source": [
    "print('Input')\n",
    "print(generic_element['inputs'][0])\n",
    "print('Output')\n",
    "print(generic_element['outputs'][0])"
   ]
  },
  {
   "cell_type": "code",
   "execution_count": 78,
   "id": "7b3cdde3",
   "metadata": {},
   "outputs": [
    {
     "name": "stdout",
     "output_type": "stream",
     "text": [
      "input_size:  400002 \n",
      "max input_length train:  41 \n",
      "max input_length dev:  41 \n",
      "n_labels:  13\n"
     ]
    }
   ],
   "source": [
    "input_size = len(vocabulary['key_to_index']) # how many different words?\n",
    "input_length_train = max([len(sentence_list['inputs']) for sentence_list in dataset_train]) # maximum length of sentence\n",
    "input_length_dev = max([len(sentence_list['inputs']) for sentence_list in dataset_dev]) # maximum length of sentence (dev)\n",
    "n_labels = len(dataset_train.label2id)\n",
    "\n",
    "print('input_size: ', input_size, '\\nmax input_length train: ', input_length_train, '\\nmax input_length dev: ', input_length_dev, '\\nn_labels: ', n_labels)"
   ]
  },
  {
   "cell_type": "code",
   "execution_count": 79,
   "id": "90307266",
   "metadata": {},
   "outputs": [],
   "source": [
    "globalParams['embedding_shape'] = ( embedding_layer.num_embeddings , embedding_layer.embedding_dim )\n",
    "globalParams['n_labels'] = n_labels"
   ]
  },
  {
   "cell_type": "markdown",
   "id": "7ec97b88",
   "metadata": {
    "papermill": {
     "duration": 0.196716,
     "end_time": "2022-03-31T22:14:52.785982",
     "exception": false,
     "start_time": "2022-03-31T22:14:52.589266",
     "status": "completed"
    },
    "tags": []
   },
   "source": [
    "# The Model"
   ]
  },
  {
   "cell_type": "code",
   "execution_count": 14,
   "id": "8d62f6e2",
   "metadata": {},
   "outputs": [],
   "source": [
    "from NERNet import NERNet"
   ]
  },
  {
   "cell_type": "code",
   "execution_count": 34,
   "id": "60bbf654",
   "metadata": {
    "execution": {
     "iopub.execute_input": "2022-03-31T22:14:54.822017Z",
     "iopub.status.busy": "2022-03-31T22:14:54.821056Z",
     "iopub.status.idle": "2022-03-31T22:14:54.823436Z",
     "shell.execute_reply": "2022-03-31T22:14:54.823882Z",
     "shell.execute_reply.started": "2022-03-31T20:29:36.184601Z"
    },
    "papermill": {
     "duration": 0.20449,
     "end_time": "2022-03-31T22:14:54.824045",
     "exception": false,
     "start_time": "2022-03-31T22:14:54.619555",
     "status": "completed"
    },
    "tags": []
   },
   "outputs": [
    {
     "name": "stdout",
     "output_type": "stream",
     "text": [
      "Loading weights...\n",
      "Loaded\n"
     ]
    }
   ],
   "source": [
    "load_model = True\n",
    "\n",
    "if load_model:\n",
    "    print('Loading weights...')\n",
    "    model = NERNet(custom_embedding_layer=embedding_layer, output_size=len(dataset_train.id2label), device=device)\n",
    "    model.load_weights(os.path.join(models_saves_path, 'nernet_weights.pth'))\n",
    "    print('Loaded')\n",
    "else:\n",
    "    model = NERNet(custom_embedding_layer=embedding_layer, output_size=len(dataset_train.id2label), device=device)"
   ]
  },
  {
   "cell_type": "code",
   "execution_count": 35,
   "id": "ec06d403",
   "metadata": {},
   "outputs": [
    {
     "data": {
      "text/plain": [
       "===================================================================================================================\n",
       "Layer (type:depth-idx)                   Kernel Shape              Output Shape              Param #\n",
       "===================================================================================================================\n",
       "NERNet                                   --                        --                        --\n",
       "├─Embedding: 1-1                         [300, 400002]             [32, 41, 300]             (120,000,600)\n",
       "├─LSTM: 1-2                              --                        [32, 41, 160]             399,360\n",
       "├─Linear: 1-3                            [160, 13]                 [32, 41, 13]              2,093\n",
       "===================================================================================================================\n",
       "Total params: 120,402,053\n",
       "Trainable params: 401,453\n",
       "Non-trainable params: 120,000,600\n",
       "Total mult-adds (G): 4.36\n",
       "===================================================================================================================\n",
       "Input size (MB): 0.01\n",
       "Forward/backward pass size (MB): 4.96\n",
       "Params size (MB): 481.61\n",
       "Estimated Total Size (MB): 486.58\n",
       "==================================================================================================================="
      ]
     },
     "execution_count": 35,
     "metadata": {},
     "output_type": "execute_result"
    }
   ],
   "source": [
    "from torchinfo import summary\n",
    "\n",
    "summary(model, \n",
    "        input_size=(BATCH_SIZE, globalParams['window_size']), \n",
    "        dtypes=[torch.int64],\n",
    "        col_names=[\"kernel_size\", \"output_size\", \"num_params\"])"
   ]
  },
  {
   "cell_type": "markdown",
   "id": "6e58b039",
   "metadata": {
    "papermill": {
     "duration": 0.326497,
     "end_time": "2022-03-31T22:14:55.381233",
     "exception": false,
     "start_time": "2022-03-31T22:14:55.054736",
     "status": "completed"
    },
    "tags": []
   },
   "source": [
    "# Training Phase"
   ]
  },
  {
   "cell_type": "markdown",
   "id": "1842c9db",
   "metadata": {
    "papermill": {
     "duration": 0.238463,
     "end_time": "2022-03-31T22:14:57.519837",
     "exception": false,
     "start_time": "2022-03-31T22:14:57.281374",
     "status": "completed"
    },
    "tags": []
   },
   "source": [
    "Using the optimizer:"
   ]
  },
  {
   "cell_type": "code",
   "execution_count": 82,
   "id": "953c0404",
   "metadata": {
    "execution": {
     "iopub.execute_input": "2022-03-31T22:14:57.931921Z",
     "iopub.status.busy": "2022-03-31T22:14:57.930683Z",
     "iopub.status.idle": "2022-03-31T22:14:57.932628Z",
     "shell.execute_reply": "2022-03-31T22:14:57.933062Z",
     "shell.execute_reply.started": "2022-03-31T20:29:36.252147Z"
    },
    "papermill": {
     "duration": 0.21099,
     "end_time": "2022-03-31T22:14:57.933235",
     "exception": false,
     "start_time": "2022-03-31T22:14:57.722245",
     "status": "completed"
    },
    "tags": []
   },
   "outputs": [],
   "source": [
    "import torch.optim as optim\n",
    "\n",
    "loss_function = torch.nn.CrossEntropyLoss(ignore_index=globalParams['PAD_INDEX']) # !\n",
    "optimizer = optim.SGD(model.parameters(), lr=0.0016, momentum=0.9)"
   ]
  },
  {
   "cell_type": "markdown",
   "id": "b2036e60",
   "metadata": {
    "papermill": {
     "duration": 0.195298,
     "end_time": "2022-03-31T22:14:58.323776",
     "exception": false,
     "start_time": "2022-03-31T22:14:58.128478",
     "status": "completed"
    },
    "tags": []
   },
   "source": [
    "This training function was taken and modified from the notebook #5:"
   ]
  },
  {
   "cell_type": "code",
   "execution_count": 39,
   "id": "32322dde",
   "metadata": {
    "execution": {
     "iopub.execute_input": "2022-03-31T22:14:58.728664Z",
     "iopub.status.busy": "2022-03-31T22:14:58.722353Z",
     "iopub.status.idle": "2022-03-31T22:14:58.731515Z",
     "shell.execute_reply": "2022-03-31T22:14:58.730951Z",
     "shell.execute_reply.started": "2022-03-31T20:29:36.259144Z"
    },
    "papermill": {
     "duration": 0.214129,
     "end_time": "2022-03-31T22:14:58.731653",
     "exception": false,
     "start_time": "2022-03-31T22:14:58.517524",
     "status": "completed"
    },
    "tags": []
   },
   "outputs": [],
   "source": [
    "def train_and_evaluate(\n",
    "    model: torch.nn.Module,\n",
    "    loss_function,\n",
    "    optimizer: torch.optim.Optimizer,\n",
    "    train_dataloader: DataLoader,\n",
    "    valid_dataloader: DataLoader = None,\n",
    "    epochs: int = 5,\n",
    "    verbose: bool = True,\n",
    "    device = 'cpu'\n",
    "):\n",
    "\n",
    "    train_history = []\n",
    "    valid_history = []\n",
    "    \n",
    "    model.to(device)\n",
    "\n",
    "    for epoch in range(epochs):\n",
    "        losses = []\n",
    "        \n",
    "        model.train()\n",
    "\n",
    "        # batches of the training set\n",
    "        for step, sample in enumerate(train_dataloader):\n",
    "            inputs = sample['inputs'].to(device)\n",
    "            labels = sample['outputs']\n",
    "            \n",
    "            optimizer.zero_grad()\n",
    "            predictions = model(inputs)\n",
    "            \n",
    "            predictions = predictions.view(-1, predictions.shape[-1]).to(device) # (batch , sentence , n_labels) -> (batch*sentence , n_labels)\n",
    "            \n",
    "            labels = labels.view(-1).to(device) # (batch , sentence) -> (batch*sentence)\n",
    "            \n",
    "            sample_loss = loss_function(predictions, labels)\n",
    "            sample_loss.backward()\n",
    "            optimizer.step()\n",
    "            losses.append(sample_loss.item())\n",
    "            \n",
    "\n",
    "        mean_loss = sum(losses) / len(losses)\n",
    "        train_history.append(mean_loss)\n",
    "        \n",
    "        if verbose or epoch == epochs - 1:\n",
    "            print(f'  Epoch {epoch:3d} => avg_loss: {mean_loss:0.6f}')\n",
    "        \n",
    "        if valid_dataloader:\n",
    "            valid_loss = evaluate(model, valid_dataloader, loss_function, device)\n",
    "            valid_history.append(valid_loss)\n",
    "            if verbose:\n",
    "                print(f'    Validation avg_loss => {valid_loss:0.6f}')\n",
    "                print()\n",
    "                \n",
    "        ''''''\n",
    "    return {'train_history':train_history, 'valid_history':valid_history}\n",
    "\n",
    "def evaluate(model, valid_dataset, loss_function, device):\n",
    "    valid_loss = 0.0\n",
    "    model.to(device)\n",
    "    # set dropout to 0!! Needed when we are in inference mode.\n",
    "    model.eval()\n",
    "    with torch.no_grad():\n",
    "        for sample in valid_dataset:\n",
    "            inputs = sample['inputs'].to(device)\n",
    "            labels = sample['outputs']\n",
    "\n",
    "            predictions = model(inputs)\n",
    "            \n",
    "            predictions = predictions.view(-1, predictions.shape[-1]).to(device)\n",
    "            labels = labels.view(-1).to(device)\n",
    "\n",
    "            sample_loss = loss_function(predictions, labels)\n",
    "            valid_loss += sample_loss.tolist()\n",
    "\n",
    "    return valid_loss / len(valid_dataset)"
   ]
  },
  {
   "cell_type": "code",
   "execution_count": 216,
   "id": "f71ff20d",
   "metadata": {
    "execution": {
     "iopub.execute_input": "2022-03-31T22:14:59.177230Z",
     "iopub.status.busy": "2022-03-31T22:14:59.176272Z",
     "iopub.status.idle": "2022-03-31T23:43:54.623282Z",
     "shell.execute_reply": "2022-03-31T23:43:54.623879Z",
     "shell.execute_reply.started": "2022-03-31T20:29:36.278255Z"
    },
    "papermill": {
     "duration": 5335.697332,
     "end_time": "2022-03-31T23:43:54.624051",
     "exception": false,
     "start_time": "2022-03-31T22:14:58.926719",
     "status": "completed"
    },
    "scrolled": true,
    "tags": []
   },
   "outputs": [
    {
     "name": "stdout",
     "output_type": "stream",
     "text": [
      "  Epoch   0 => avg_loss: 1.172766\n",
      "    Validation avg_loss => 0.943896\n",
      "\n",
      "  Epoch   1 => avg_loss: 0.936410\n",
      "    Validation avg_loss => 0.923961\n",
      "\n",
      "  Epoch   2 => avg_loss: 0.917920\n",
      "    Validation avg_loss => 0.905708\n",
      "\n",
      "  Epoch   3 => avg_loss: 0.900236\n",
      "    Validation avg_loss => 0.886654\n",
      "\n",
      "  Epoch   4 => avg_loss: 0.881106\n",
      "    Validation avg_loss => 0.865930\n",
      "\n",
      "  Epoch   5 => avg_loss: 0.858738\n",
      "    Validation avg_loss => 0.843008\n",
      "\n",
      "  Epoch   6 => avg_loss: 0.835229\n",
      "    Validation avg_loss => 0.819034\n",
      "\n",
      "  Epoch   7 => avg_loss: 0.811431\n",
      "    Validation avg_loss => 0.795516\n",
      "\n",
      "  Epoch   8 => avg_loss: 0.788932\n",
      "    Validation avg_loss => 0.774273\n",
      "\n",
      "  Epoch   9 => avg_loss: 0.768930\n",
      "    Validation avg_loss => 0.756172\n",
      "\n",
      "  Epoch  10 => avg_loss: 0.752849\n",
      "    Validation avg_loss => 0.740763\n",
      "\n",
      "  Epoch  11 => avg_loss: 0.738090\n",
      "    Validation avg_loss => 0.727322\n",
      "\n",
      "  Epoch  12 => avg_loss: 0.725736\n",
      "    Validation avg_loss => 0.715174\n",
      "\n",
      "  Epoch  13 => avg_loss: 0.713863\n",
      "    Validation avg_loss => 0.703499\n",
      "\n",
      "  Epoch  14 => avg_loss: 0.702328\n",
      "    Validation avg_loss => 0.691797\n",
      "\n",
      "  Epoch  15 => avg_loss: 0.690673\n",
      "    Validation avg_loss => 0.679916\n",
      "\n",
      "  Epoch  16 => avg_loss: 0.678747\n",
      "    Validation avg_loss => 0.667825\n",
      "\n",
      "  Epoch  17 => avg_loss: 0.666692\n",
      "    Validation avg_loss => 0.655434\n",
      "\n",
      "  Epoch  18 => avg_loss: 0.655501\n",
      "    Validation avg_loss => 0.643467\n",
      "\n",
      "  Epoch  19 => avg_loss: 0.643784\n",
      "    Validation avg_loss => 0.631533\n",
      "\n",
      "  Epoch  20 => avg_loss: 0.633008\n",
      "    Validation avg_loss => 0.620378\n",
      "\n",
      "  Epoch  21 => avg_loss: 0.621945\n",
      "    Validation avg_loss => 0.609456\n",
      "\n",
      "  Epoch  22 => avg_loss: 0.610018\n",
      "    Validation avg_loss => 0.599050\n",
      "\n",
      "  Epoch  23 => avg_loss: 0.598767\n",
      "    Validation avg_loss => 0.588050\n",
      "\n",
      "  Epoch  24 => avg_loss: 0.588595\n",
      "    Validation avg_loss => 0.577356\n",
      "\n",
      "  Epoch  25 => avg_loss: 0.577325\n",
      "    Validation avg_loss => 0.567041\n",
      "\n",
      "  Epoch  26 => avg_loss: 0.566814\n",
      "    Validation avg_loss => 0.556784\n",
      "\n",
      "  Epoch  27 => avg_loss: 0.555708\n",
      "    Validation avg_loss => 0.547234\n",
      "\n",
      "  Epoch  28 => avg_loss: 0.545762\n",
      "    Validation avg_loss => 0.537354\n",
      "\n",
      "  Epoch  29 => avg_loss: 0.536212\n",
      "    Validation avg_loss => 0.528203\n",
      "\n",
      "  Epoch  30 => avg_loss: 0.525861\n",
      "    Validation avg_loss => 0.519045\n",
      "\n",
      "  Epoch  31 => avg_loss: 0.516961\n",
      "    Validation avg_loss => 0.509728\n",
      "\n",
      "  Epoch  32 => avg_loss: 0.507670\n",
      "    Validation avg_loss => 0.501323\n",
      "\n",
      "  Epoch  33 => avg_loss: 0.498474\n",
      "    Validation avg_loss => 0.493251\n",
      "\n",
      "  Epoch  34 => avg_loss: 0.490000\n",
      "    Validation avg_loss => 0.484078\n",
      "\n",
      "  Epoch  35 => avg_loss: 0.482326\n",
      "    Validation avg_loss => 0.477059\n",
      "\n",
      "  Epoch  36 => avg_loss: 0.474120\n",
      "    Validation avg_loss => 0.468007\n",
      "\n",
      "  Epoch  37 => avg_loss: 0.466486\n",
      "    Validation avg_loss => 0.460891\n",
      "\n",
      "  Epoch  38 => avg_loss: 0.459611\n",
      "    Validation avg_loss => 0.455423\n",
      "\n",
      "  Epoch  39 => avg_loss: 0.452617\n",
      "    Validation avg_loss => 0.450721\n",
      "\n",
      "  Epoch  40 => avg_loss: 0.446227\n",
      "    Validation avg_loss => 0.442294\n",
      "\n",
      "  Epoch  41 => avg_loss: 0.438866\n",
      "    Validation avg_loss => 0.436736\n",
      "\n",
      "  Epoch  42 => avg_loss: 0.433913\n",
      "    Validation avg_loss => 0.432340\n",
      "\n",
      "  Epoch  43 => avg_loss: 0.427936\n",
      "    Validation avg_loss => 0.426093\n",
      "\n",
      "  Epoch  44 => avg_loss: 0.422878\n",
      "    Validation avg_loss => 0.421296\n",
      "\n",
      "  Epoch  45 => avg_loss: 0.417427\n",
      "    Validation avg_loss => 0.417004\n",
      "\n",
      "  Epoch  46 => avg_loss: 0.414237\n",
      "    Validation avg_loss => 0.412628\n",
      "\n",
      "  Epoch  47 => avg_loss: 0.408917\n",
      "    Validation avg_loss => 0.409552\n",
      "\n",
      "  Epoch  48 => avg_loss: 0.403589\n",
      "    Validation avg_loss => 0.403217\n",
      "\n",
      "  Epoch  49 => avg_loss: 0.399639\n",
      "    Validation avg_loss => 0.399893\n",
      "\n",
      "  Epoch  50 => avg_loss: 0.395306\n",
      "    Validation avg_loss => 0.396772\n",
      "\n",
      "  Epoch  51 => avg_loss: 0.390344\n",
      "    Validation avg_loss => 0.392204\n",
      "\n",
      "  Epoch  52 => avg_loss: 0.386696\n",
      "    Validation avg_loss => 0.390721\n",
      "\n",
      "  Epoch  53 => avg_loss: 0.383883\n",
      "    Validation avg_loss => 0.385654\n",
      "\n",
      "  Epoch  54 => avg_loss: 0.379680\n",
      "    Validation avg_loss => 0.382799\n",
      "\n",
      "  Epoch  55 => avg_loss: 0.375692\n",
      "    Validation avg_loss => 0.379240\n",
      "\n",
      "  Epoch  56 => avg_loss: 0.372938\n",
      "    Validation avg_loss => 0.376849\n",
      "\n",
      "  Epoch  57 => avg_loss: 0.369205\n",
      "    Validation avg_loss => 0.374191\n",
      "\n",
      "  Epoch  58 => avg_loss: 0.365591\n",
      "    Validation avg_loss => 0.372432\n",
      "\n",
      "  Epoch  59 => avg_loss: 0.361987\n",
      "    Validation avg_loss => 0.366209\n",
      "\n",
      "  Epoch  60 => avg_loss: 0.358558\n",
      "    Validation avg_loss => 0.365287\n",
      "\n",
      "  Epoch  61 => avg_loss: 0.355434\n",
      "    Validation avg_loss => 0.359756\n",
      "\n",
      "  Epoch  62 => avg_loss: 0.353083\n",
      "    Validation avg_loss => 0.358510\n",
      "\n",
      "  Epoch  63 => avg_loss: 0.349505\n",
      "    Validation avg_loss => 0.356239\n",
      "\n",
      "  Epoch  64 => avg_loss: 0.345863\n",
      "    Validation avg_loss => 0.354190\n",
      "\n",
      "  Epoch  65 => avg_loss: 0.343366\n",
      "    Validation avg_loss => 0.350554\n",
      "\n",
      "  Epoch  66 => avg_loss: 0.340515\n",
      "    Validation avg_loss => 0.352456\n",
      "\n",
      "  Epoch  67 => avg_loss: 0.338086\n",
      "    Validation avg_loss => 0.346034\n",
      "\n",
      "  Epoch  68 => avg_loss: 0.335433\n",
      "    Validation avg_loss => 0.343720\n",
      "\n",
      "  Epoch  69 => avg_loss: 0.332831\n",
      "    Validation avg_loss => 0.340019\n",
      "\n",
      "  Epoch  70 => avg_loss: 0.329025\n",
      "    Validation avg_loss => 0.342285\n",
      "\n",
      "  Epoch  71 => avg_loss: 0.327416\n",
      "    Validation avg_loss => 0.336681\n",
      "\n",
      "  Epoch  72 => avg_loss: 0.324180\n",
      "    Validation avg_loss => 0.337157\n",
      "\n",
      "  Epoch  73 => avg_loss: 0.321739\n",
      "    Validation avg_loss => 0.332661\n",
      "\n",
      "  Epoch  74 => avg_loss: 0.319392\n",
      "    Validation avg_loss => 0.329528\n",
      "\n",
      "  Epoch  75 => avg_loss: 0.317376\n",
      "    Validation avg_loss => 0.327556\n",
      "\n",
      "  Epoch  76 => avg_loss: 0.314707\n",
      "    Validation avg_loss => 0.330195\n",
      "\n",
      "  Epoch  77 => avg_loss: 0.311446\n",
      "    Validation avg_loss => 0.324476\n",
      "\n",
      "  Epoch  78 => avg_loss: 0.310589\n",
      "    Validation avg_loss => 0.323833\n",
      "\n",
      "  Epoch  79 => avg_loss: 0.307576\n",
      "    Validation avg_loss => 0.322158\n",
      "\n",
      "  Epoch  80 => avg_loss: 0.304986\n",
      "    Validation avg_loss => 0.318954\n",
      "\n",
      "  Epoch  81 => avg_loss: 0.303149\n",
      "    Validation avg_loss => 0.316983\n",
      "\n",
      "  Epoch  82 => avg_loss: 0.301326\n",
      "    Validation avg_loss => 0.324024\n",
      "\n",
      "  Epoch  83 => avg_loss: 0.299908\n",
      "    Validation avg_loss => 0.315310\n",
      "\n",
      "  Epoch  84 => avg_loss: 0.296258\n",
      "    Validation avg_loss => 0.311961\n",
      "\n",
      "  Epoch  85 => avg_loss: 0.296546\n",
      "    Validation avg_loss => 0.312570\n",
      "\n",
      "  Epoch  86 => avg_loss: 0.292672\n",
      "    Validation avg_loss => 0.309070\n",
      "\n",
      "  Epoch  87 => avg_loss: 0.291289\n",
      "    Validation avg_loss => 0.307507\n",
      "\n",
      "  Epoch  88 => avg_loss: 0.288736\n",
      "    Validation avg_loss => 0.306639\n",
      "\n",
      "  Epoch  89 => avg_loss: 0.286536\n",
      "    Validation avg_loss => 0.305963\n",
      "\n",
      "  Epoch  90 => avg_loss: 0.286191\n",
      "    Validation avg_loss => 0.303863\n",
      "\n",
      "  Epoch  91 => avg_loss: 0.284241\n",
      "    Validation avg_loss => 0.303784\n",
      "\n",
      "  Epoch  92 => avg_loss: 0.281893\n",
      "    Validation avg_loss => 0.302342\n",
      "\n",
      "  Epoch  93 => avg_loss: 0.280315\n",
      "    Validation avg_loss => 0.299016\n",
      "\n",
      "  Epoch  94 => avg_loss: 0.278181\n",
      "    Validation avg_loss => 0.299841\n",
      "\n",
      "  Epoch  95 => avg_loss: 0.277181\n",
      "    Validation avg_loss => 0.296939\n",
      "\n",
      "  Epoch  96 => avg_loss: 0.274865\n",
      "    Validation avg_loss => 0.296744\n",
      "\n",
      "  Epoch  97 => avg_loss: 0.275202\n",
      "    Validation avg_loss => 0.296518\n",
      "\n",
      "  Epoch  98 => avg_loss: 0.272517\n",
      "    Validation avg_loss => 0.294576\n",
      "\n",
      "  Epoch  99 => avg_loss: 0.269463\n",
      "    Validation avg_loss => 0.295777\n",
      "\n",
      "  Epoch 100 => avg_loss: 0.268094\n",
      "    Validation avg_loss => 0.292899\n",
      "\n",
      "  Epoch 101 => avg_loss: 0.268001\n",
      "    Validation avg_loss => 0.290339\n",
      "\n",
      "  Epoch 102 => avg_loss: 0.265809\n",
      "    Validation avg_loss => 0.290104\n",
      "\n",
      "  Epoch 103 => avg_loss: 0.265576\n",
      "    Validation avg_loss => 0.289450\n",
      "\n",
      "  Epoch 104 => avg_loss: 0.262920\n",
      "    Validation avg_loss => 0.286819\n",
      "\n",
      "  Epoch 105 => avg_loss: 0.261788\n",
      "    Validation avg_loss => 0.288560\n",
      "\n",
      "  Epoch 106 => avg_loss: 0.260124\n",
      "    Validation avg_loss => 0.286942\n",
      "\n",
      "  Epoch 107 => avg_loss: 0.259358\n",
      "    Validation avg_loss => 0.285993\n",
      "\n",
      "  Epoch 108 => avg_loss: 0.257407\n",
      "    Validation avg_loss => 0.286324\n",
      "\n",
      "  Epoch 109 => avg_loss: 0.256073\n",
      "    Validation avg_loss => 0.284347\n",
      "\n",
      "  Epoch 110 => avg_loss: 0.255016\n",
      "    Validation avg_loss => 0.281552\n",
      "\n",
      "  Epoch 111 => avg_loss: 0.252927\n",
      "    Validation avg_loss => 0.282856\n",
      "\n",
      "  Epoch 112 => avg_loss: 0.252113\n",
      "    Validation avg_loss => 0.282339\n",
      "\n",
      "  Epoch 113 => avg_loss: 0.251782\n",
      "    Validation avg_loss => 0.282014\n",
      "\n",
      "  Epoch 114 => avg_loss: 0.250032\n",
      "    Validation avg_loss => 0.278895\n",
      "\n",
      "  Epoch 115 => avg_loss: 0.249305\n",
      "    Validation avg_loss => 0.283336\n",
      "\n",
      "  Epoch 116 => avg_loss: 0.247409\n",
      "    Validation avg_loss => 0.279669\n",
      "\n",
      "  Epoch 117 => avg_loss: 0.247022\n",
      "    Validation avg_loss => 0.276952\n",
      "\n",
      "  Epoch 118 => avg_loss: 0.244515\n",
      "    Validation avg_loss => 0.276134\n",
      "\n",
      "  Epoch 119 => avg_loss: 0.244000\n",
      "    Validation avg_loss => 0.276510\n",
      "\n",
      "  Epoch 120 => avg_loss: 0.241983\n",
      "    Validation avg_loss => 0.275269\n",
      "\n",
      "  Epoch 121 => avg_loss: 0.241108\n",
      "    Validation avg_loss => 0.274691\n",
      "\n",
      "  Epoch 122 => avg_loss: 0.240941\n",
      "    Validation avg_loss => 0.273957\n",
      "\n",
      "  Epoch 123 => avg_loss: 0.238452\n",
      "    Validation avg_loss => 0.273011\n",
      "\n",
      "  Epoch 124 => avg_loss: 0.238084\n",
      "    Validation avg_loss => 0.272965\n",
      "\n",
      "  Epoch 125 => avg_loss: 0.236215\n",
      "    Validation avg_loss => 0.273266\n",
      "\n",
      "  Epoch 126 => avg_loss: 0.234920\n",
      "    Validation avg_loss => 0.272464\n",
      "\n",
      "  Epoch 127 => avg_loss: 0.234306\n",
      "    Validation avg_loss => 0.270619\n",
      "\n",
      "  Epoch 128 => avg_loss: 0.233630\n",
      "    Validation avg_loss => 0.270478\n",
      "\n",
      "  Epoch 129 => avg_loss: 0.232653\n",
      "    Validation avg_loss => 0.269517\n",
      "\n",
      "  Epoch 130 => avg_loss: 0.231473\n",
      "    Validation avg_loss => 0.269645\n",
      "\n",
      "  Epoch 131 => avg_loss: 0.229752\n",
      "    Validation avg_loss => 0.268233\n",
      "\n",
      "  Epoch 132 => avg_loss: 0.228386\n",
      "    Validation avg_loss => 0.269546\n",
      "\n",
      "  Epoch 133 => avg_loss: 0.227100\n",
      "    Validation avg_loss => 0.267648\n",
      "\n",
      "  Epoch 134 => avg_loss: 0.226609\n",
      "    Validation avg_loss => 0.267368\n",
      "\n",
      "  Epoch 135 => avg_loss: 0.225859\n",
      "    Validation avg_loss => 0.266789\n",
      "\n",
      "  Epoch 136 => avg_loss: 0.224300\n",
      "    Validation avg_loss => 0.266759\n",
      "\n",
      "  Epoch 137 => avg_loss: 0.223683\n",
      "    Validation avg_loss => 0.270052\n",
      "\n",
      "  Epoch 138 => avg_loss: 0.221825\n",
      "    Validation avg_loss => 0.264545\n",
      "\n",
      "  Epoch 139 => avg_loss: 0.221511\n",
      "    Validation avg_loss => 0.267808\n",
      "\n",
      "  Epoch 140 => avg_loss: 0.221504\n",
      "    Validation avg_loss => 0.273932\n",
      "\n",
      "  Epoch 141 => avg_loss: 0.219369\n",
      "    Validation avg_loss => 0.266628\n",
      "\n",
      "  Epoch 142 => avg_loss: 0.218338\n",
      "    Validation avg_loss => 0.264249\n",
      "\n",
      "  Epoch 143 => avg_loss: 0.217248\n",
      "    Validation avg_loss => 0.263211\n",
      "\n",
      "  Epoch 144 => avg_loss: 0.216309\n",
      "    Validation avg_loss => 0.262353\n",
      "\n",
      "  Epoch 145 => avg_loss: 0.216416\n",
      "    Validation avg_loss => 0.262266\n",
      "\n",
      "  Epoch 146 => avg_loss: 0.214169\n",
      "    Validation avg_loss => 0.262792\n",
      "\n",
      "  Epoch 147 => avg_loss: 0.213796\n",
      "    Validation avg_loss => 0.264085\n",
      "\n",
      "  Epoch 148 => avg_loss: 0.212150\n",
      "    Validation avg_loss => 0.262311\n",
      "\n",
      "  Epoch 149 => avg_loss: 0.211204\n",
      "    Validation avg_loss => 0.263387\n",
      "\n",
      "  Epoch 150 => avg_loss: 0.210757\n",
      "    Validation avg_loss => 0.260316\n",
      "\n",
      "  Epoch 151 => avg_loss: 0.209815\n",
      "    Validation avg_loss => 0.260568\n",
      "\n",
      "  Epoch 152 => avg_loss: 0.208191\n",
      "    Validation avg_loss => 0.260599\n",
      "\n",
      "  Epoch 153 => avg_loss: 0.209093\n",
      "    Validation avg_loss => 0.263588\n",
      "\n",
      "  Epoch 154 => avg_loss: 0.207892\n",
      "    Validation avg_loss => 0.259307\n",
      "\n",
      "  Epoch 155 => avg_loss: 0.205905\n",
      "    Validation avg_loss => 0.260868\n",
      "\n",
      "  Epoch 156 => avg_loss: 0.205191\n",
      "    Validation avg_loss => 0.258844\n",
      "\n",
      "  Epoch 157 => avg_loss: 0.203501\n",
      "    Validation avg_loss => 0.260487\n",
      "\n",
      "  Epoch 158 => avg_loss: 0.202954\n",
      "    Validation avg_loss => 0.258140\n",
      "\n",
      "  Epoch 159 => avg_loss: 0.202383\n",
      "    Validation avg_loss => 0.261392\n",
      "\n",
      "  Epoch 160 => avg_loss: 0.201596\n",
      "    Validation avg_loss => 0.258529\n",
      "\n",
      "  Epoch 161 => avg_loss: 0.200622\n",
      "    Validation avg_loss => 0.258604\n",
      "\n",
      "  Epoch 162 => avg_loss: 0.199946\n",
      "    Validation avg_loss => 0.258604\n",
      "\n",
      "  Epoch 163 => avg_loss: 0.199069\n",
      "    Validation avg_loss => 0.258253\n",
      "\n",
      "  Epoch 164 => avg_loss: 0.198984\n",
      "    Validation avg_loss => 0.260135\n",
      "\n",
      "  Epoch 165 => avg_loss: 0.196714\n",
      "    Validation avg_loss => 0.259024\n",
      "\n",
      "  Epoch 166 => avg_loss: 0.196322\n",
      "    Validation avg_loss => 0.257950\n",
      "\n",
      "  Epoch 167 => avg_loss: 0.195922\n",
      "    Validation avg_loss => 0.257357\n",
      "\n",
      "  Epoch 168 => avg_loss: 0.193911\n",
      "    Validation avg_loss => 0.258885\n",
      "\n",
      "  Epoch 169 => avg_loss: 0.194152\n",
      "    Validation avg_loss => 0.258063\n",
      "\n",
      "  Epoch 170 => avg_loss: 0.192096\n",
      "    Validation avg_loss => 0.258737\n",
      "\n",
      "  Epoch 171 => avg_loss: 0.192455\n",
      "    Validation avg_loss => 0.257443\n",
      "\n",
      "  Epoch 172 => avg_loss: 0.190874\n",
      "    Validation avg_loss => 0.256488\n",
      "\n",
      "  Epoch 173 => avg_loss: 0.190325\n",
      "    Validation avg_loss => 0.256323\n",
      "\n",
      "  Epoch 174 => avg_loss: 0.189203\n",
      "    Validation avg_loss => 0.260906\n",
      "\n",
      "  Epoch 175 => avg_loss: 0.187275\n",
      "    Validation avg_loss => 0.257015\n",
      "\n",
      "  Epoch 176 => avg_loss: 0.186455\n",
      "    Validation avg_loss => 0.260464\n",
      "\n",
      "  Epoch 177 => avg_loss: 0.186080\n",
      "    Validation avg_loss => 0.259031\n",
      "\n",
      "  Epoch 178 => avg_loss: 0.185879\n",
      "    Validation avg_loss => 0.261071\n",
      "\n",
      "  Epoch 179 => avg_loss: 0.185044\n",
      "    Validation avg_loss => 0.256821\n",
      "\n",
      "  Epoch 180 => avg_loss: 0.183920\n",
      "    Validation avg_loss => 0.255514\n",
      "\n",
      "  Epoch 181 => avg_loss: 0.182998\n",
      "    Validation avg_loss => 0.255774\n",
      "\n",
      "  Epoch 182 => avg_loss: 0.182244\n",
      "    Validation avg_loss => 0.257057\n",
      "\n",
      "  Epoch 183 => avg_loss: 0.181554\n",
      "    Validation avg_loss => 0.255414\n",
      "\n",
      "  Epoch 184 => avg_loss: 0.179878\n",
      "    Validation avg_loss => 0.259357\n",
      "\n",
      "  Epoch 185 => avg_loss: 0.180837\n",
      "    Validation avg_loss => 0.256163\n",
      "\n",
      "  Epoch 186 => avg_loss: 0.177520\n",
      "    Validation avg_loss => 0.256089\n",
      "\n",
      "  Epoch 187 => avg_loss: 0.177949\n",
      "    Validation avg_loss => 0.254370\n",
      "\n",
      "  Epoch 188 => avg_loss: 0.178165\n",
      "    Validation avg_loss => 0.258044\n",
      "\n",
      "  Epoch 189 => avg_loss: 0.176632\n",
      "    Validation avg_loss => 0.258341\n",
      "\n",
      "  Epoch 190 => avg_loss: 0.176397\n",
      "    Validation avg_loss => 0.256016\n",
      "\n",
      "  Epoch 191 => avg_loss: 0.174917\n",
      "    Validation avg_loss => 0.259269\n",
      "\n",
      "  Epoch 192 => avg_loss: 0.174123\n",
      "    Validation avg_loss => 0.255848\n",
      "\n",
      "  Epoch 193 => avg_loss: 0.173518\n",
      "    Validation avg_loss => 0.257606\n",
      "\n",
      "  Epoch 194 => avg_loss: 0.172671\n",
      "    Validation avg_loss => 0.259525\n",
      "\n",
      "  Epoch 195 => avg_loss: 0.172017\n",
      "    Validation avg_loss => 0.259242\n",
      "\n",
      "  Epoch 196 => avg_loss: 0.171501\n",
      "    Validation avg_loss => 0.258158\n",
      "\n",
      "  Epoch 197 => avg_loss: 0.170723\n",
      "    Validation avg_loss => 0.258156\n",
      "\n",
      "  Epoch 198 => avg_loss: 0.169455\n",
      "    Validation avg_loss => 0.257900\n",
      "\n",
      "  Epoch 199 => avg_loss: 0.169379\n",
      "    Validation avg_loss => 0.257490\n",
      "\n"
     ]
    }
   ],
   "source": [
    "train_model = False\n",
    "\n",
    "if train_model:\n",
    "    history = train_and_evaluate(model, loss_function, optimizer, dataloader_train, dataloader_dev, epochs=EPOCHS, verbose=True, device=device)"
   ]
  },
  {
   "cell_type": "markdown",
   "id": "9005bd0e",
   "metadata": {
    "papermill": {
     "duration": 0.260085,
     "end_time": "2022-03-31T23:43:55.147085",
     "exception": false,
     "start_time": "2022-03-31T23:43:54.887000",
     "status": "completed"
    },
    "tags": []
   },
   "source": [
    "# Saving..."
   ]
  },
  {
   "cell_type": "code",
   "execution_count": 320,
   "id": "97df34de",
   "metadata": {
    "execution": {
     "iopub.execute_input": "2022-03-31T23:43:55.687386Z",
     "iopub.status.busy": "2022-03-31T23:43:55.686739Z",
     "iopub.status.idle": "2022-03-31T23:43:55.702630Z",
     "shell.execute_reply": "2022-03-31T23:43:55.702081Z",
     "shell.execute_reply.started": "2022-03-31T22:11:46.659124Z"
    },
    "papermill": {
     "duration": 0.290321,
     "end_time": "2022-03-31T23:43:55.702775",
     "exception": false,
     "start_time": "2022-03-31T23:43:55.412454",
     "status": "completed"
    },
    "tags": []
   },
   "outputs": [],
   "source": [
    "if train_model:\n",
    "    model.save_weights(os.path.join(models_saves_path,'nernet_weights.pth'))"
   ]
  },
  {
   "cell_type": "code",
   "execution_count": 218,
   "id": "61d23eb8",
   "metadata": {
    "execution": {
     "iopub.execute_input": "2022-03-31T23:44:06.618677Z",
     "iopub.status.busy": "2022-03-31T23:44:06.617335Z",
     "iopub.status.idle": "2022-03-31T23:44:06.998690Z",
     "shell.execute_reply": "2022-03-31T23:44:06.998156Z",
     "shell.execute_reply.started": "2022-03-31T22:11:46.664934Z"
    },
    "papermill": {
     "duration": 0.984485,
     "end_time": "2022-03-31T23:44:06.998822",
     "exception": false,
     "start_time": "2022-03-31T23:44:06.014337",
     "status": "completed"
    },
    "tags": []
   },
   "outputs": [
    {
     "data": {
      "image/png": "[encoded data removed]",
      "text/plain": [
       "<Figure size 432x288 with 1 Axes>"
      ]
     },
     "metadata": {
      "needs_background": "light"
     },
     "output_type": "display_data"
    }
   ],
   "source": [
    "import matplotlib.pyplot as plt\n",
    "\n",
    "if train_model:\n",
    "    plt.plot([i for i in range(len(history['train_history']))], history['train_history'], label='train')\n",
    "    plt.plot([i for i in range(len(history['valid_history']))], history['valid_history'], label='validation')\n",
    "    plt.xlabel('epochs')\n",
    "    plt.ylabel('loss')\n",
    "    plt.title('Model learning')\n",
    "    plt.legend()\n",
    "    plt.show()"
   ]
  },
  {
   "cell_type": "markdown",
   "id": "6fe41381",
   "metadata": {},
   "source": [
    "# Evaluating metrics..."
   ]
  },
  {
   "cell_type": "code",
   "execution_count": 219,
   "id": "a7f76dde",
   "metadata": {
    "papermill": {
     "duration": 0.260407,
     "end_time": "2022-03-31T23:44:10.630580",
     "exception": false,
     "start_time": "2022-03-31T23:44:10.370173",
     "status": "completed"
    },
    "tags": []
   },
   "outputs": [],
   "source": [
    "def remove_indices_from_lists(y_pred, y_true, black_list):\n",
    "    '''\n",
    "    Removes from y_pred and y_true the values contained in black_list that matches with y_true\n",
    "    '''\n",
    "    y_pred_refined, y_true_refined = [], []\n",
    "    for p,l in zip(y_pred, y_true):\n",
    "        if l not in black_list:\n",
    "            y_pred_refined.append(p) \n",
    "            y_true_refined.append(l)\n",
    "    return y_pred_refined, y_true_refined\n",
    "\n",
    "def obtain_pred_labels(model, valid_dataset, device):\n",
    "    model.to(device)\n",
    "    model.eval() # dropout to 0\n",
    "\n",
    "    y_true_total = []\n",
    "    y_pred_total = []\n",
    "    \n",
    "    with torch.no_grad():\n",
    "        for sample in valid_dataset:\n",
    "            inputs = sample['inputs'].to(device)\n",
    "            y_true = sample['outputs']\n",
    "\n",
    "            y_pred = model(inputs)\n",
    "            y_pred = model.get_indices(y_pred)\n",
    "            \n",
    "            y_pred_total.append(y_pred.view(-1))\n",
    "            y_true_total.append(y_true.view(-1))\n",
    "\n",
    "    y_pred, y_true = torch.cat(y_pred_total, dim=0).cpu().numpy(), torch.cat(y_true_total, dim=0).cpu().numpy()\n",
    "    y_pred, y_true = remove_indices_from_lists(y_pred, y_true, [-1])\n",
    "    return y_pred, y_true"
   ]
  },
  {
   "cell_type": "code",
   "execution_count": 220,
   "id": "cbfedfd4",
   "metadata": {},
   "outputs": [],
   "source": [
    "y_pred, y_true = obtain_pred_labels(model, dataloader_dev, device)"
   ]
  },
  {
   "cell_type": "code",
   "execution_count": 221,
   "id": "27aba241",
   "metadata": {},
   "outputs": [
    {
     "name": "stdout",
     "output_type": "stream",
     "text": [
      "              precision    recall  f1-score   support\n",
      "\n",
      "      B-CORP       0.74      0.56      0.64       133\n",
      "        B-CW       0.54      0.46      0.50       170\n",
      "       B-GRP       0.75      0.65      0.70       189\n",
      "       B-LOC       0.81      0.80      0.81       243\n",
      "       B-PER       0.88      0.86      0.87       300\n",
      "      B-PROD       0.56      0.42      0.48       149\n",
      "      I-CORP       0.72      0.61      0.66       119\n",
      "        I-CW       0.59      0.67      0.63       261\n",
      "       I-GRP       0.82      0.79      0.80       376\n",
      "       I-LOC       0.73      0.77      0.75       153\n",
      "       I-PER       0.87      0.90      0.89       329\n",
      "      I-PROD       0.50      0.57      0.53        87\n",
      "           O       0.96      0.97      0.97     10230\n",
      "\n",
      "    accuracy                           0.92     12739\n",
      "   macro avg       0.73      0.70      0.71     12739\n",
      "weighted avg       0.92      0.92      0.92     12739\n",
      "\n"
     ]
    }
   ],
   "source": [
    "from sklearn.metrics import classification_report\n",
    "\n",
    "print( classification_report(y_true, y_pred, target_names=dataset_train.id2label) )"
   ]
  },
  {
   "cell_type": "code",
   "execution_count": 222,
   "id": "d3edc49e",
   "metadata": {},
   "outputs": [
    {
     "data": {
      "text/plain": [
       "<sklearn.metrics._plot.confusion_matrix.ConfusionMatrixDisplay at 0x7f20eb2ebd60>"
      ]
     },
     "execution_count": 222,
     "metadata": {},
     "output_type": "execute_result"
    },
    {
     "data": {
      "image/png": "[encoded data removed]",
      "text/plain": [
       "<Figure size 792x792 with 2 Axes>"
      ]
     },
     "metadata": {
      "needs_background": "light"
     },
     "output_type": "display_data"
    }
   ],
   "source": [
    "from sklearn.metrics import ConfusionMatrixDisplay, confusion_matrix\n",
    "\n",
    "cm = confusion_matrix(y_true, y_pred, normalize='pred') # normalized over predicted label: the sum of each column is 1\n",
    "cmd = ConfusionMatrixDisplay(cm, display_labels=dataset_train.id2label)\n",
    "fig, ax = plt.subplots(figsize=(11,11))\n",
    "cmd.plot(ax=ax)"
   ]
  },
  {
   "cell_type": "markdown",
   "id": "f69d4b82",
   "metadata": {},
   "source": [
    "# Testing usability..."
   ]
  },
  {
   "cell_type": "code",
   "execution_count": 91,
   "id": "d830fdfe",
   "metadata": {},
   "outputs": [
    {
     "name": "stdout",
     "output_type": "stream",
     "text": [
      "Creating student...\n",
      "Loading model...\n",
      "Init done\n"
     ]
    }
   ],
   "source": [
    "from FinalModel import FinalModel\n",
    "student = FinalModel(models_saves_path)"
   ]
  },
  {
   "cell_type": "code",
   "execution_count": 22,
   "id": "3367a475",
   "metadata": {},
   "outputs": [],
   "source": [
    "data_eval_input = []\n",
    "data_eval_label = []\n",
    "for sentence in NERDataset.read_dataset(data_dev_path):\n",
    "    data_eval_input.append(sentence['inputs'])\n",
    "    data_eval_label.append(sentence['outputs'])"
   ]
  },
  {
   "cell_type": "code",
   "execution_count": 23,
   "id": "d124fa6d",
   "metadata": {},
   "outputs": [],
   "source": [
    "data_eval_predict = student.predict(data_eval_input)"
   ]
  },
  {
   "cell_type": "code",
   "execution_count": 24,
   "id": "5fb9b18b",
   "metadata": {},
   "outputs": [
    {
     "name": "stdout",
     "output_type": "stream",
     "text": [
      "[['B-PER', 'I-PER', 'O', 'O', 'O', 'O', 'O', 'O', 'B-LOC', 'I-GRP', 'O']]\n"
     ]
    }
   ],
   "source": [
    "y_true_sample = ['B-PER','I-PER','O','B-CORP','O','O','O','O','B-LOC','I-LOC','O']\n",
    "input_sample = ['John','Lucas','joined','Aiimi','as','data','scientist','in','New','York','.']\n",
    "\n",
    "print( student.predict([input_sample]) )"
   ]
  },
  {
   "cell_type": "code",
   "execution_count": 26,
   "id": "c4c0a97f",
   "metadata": {},
   "outputs": [
    {
     "name": "stdout",
     "output_type": "stream",
     "text": [
      "# accuracy: 0.9205\n",
      "# f1: 0.5689\n"
     ]
    }
   ],
   "source": [
    "from seqeval.metrics import accuracy_score, f1_score\n",
    "\n",
    "acc = accuracy_score(data_eval_label, data_eval_predict)\n",
    "f = f1_score(data_eval_label, data_eval_predict, average=\"macro\")\n",
    "\n",
    "print(f\"# accuracy: {acc:.4f}\")\n",
    "print(f\"# f1: {f:.4f}\")"
   ]
  },
  {
   "cell_type": "markdown",
   "id": "17a9e98e",
   "metadata": {},
   "source": [
    "With these values, I can see an increment of around 20% in f1 score w.r.t the FastText implementation. The result is that a bigger vocabulary is better than a smaller one but with lots of n-grams in order to deal with OOV words. In order to deal with them, a different approach could be tried in the next test, which is applying Conditional Random Field in the last layer of the network."
   ]
  },
  {
   "cell_type": "markdown",
   "id": "cc72a309",
   "metadata": {},
   "source": [
    "Testing a long phrase..."
   ]
  },
  {
   "cell_type": "code",
   "execution_count": 98,
   "id": "76213f39",
   "metadata": {},
   "outputs": [
    {
     "name": "stdout",
     "output_type": "stream",
     "text": [
      "83 83\n",
      "[('childhood', 'O'), ('friends', 'O'), ('bill', 'B-PER'), ('gates', 'O'), ('and', 'O'), ('paul', 'B-PER'), ('allen', 'I-PER'), ('sought', 'O'), ('to', 'O'), ('make', 'O'), ('a', 'O'), ('business', 'O'), ('using', 'O'), ('their', 'O'), ('skills', 'O'), ('in', 'O'), ('computer', 'O'), ('programming.', 'O'), ('in', 'O'), ('1972,', 'O'), ('they', 'O'), ('founded', 'O'), ('traf-o-data,', 'O'), ('which', 'O'), ('sold', 'O'), ('a', 'O'), ('rudimentary', 'O'), ('computer', 'O'), ('to', 'O'), ('track', 'O'), ('and', 'O'), ('analyze', 'O'), ('automobile', 'O'), ('traffic', 'O'), ('data', 'O'), ('.', 'O'), ('gates', 'O'), ('enrolled', 'O'), ('at', 'O'), ('harvard', 'B-GRP'), ('university', 'I-GRP'), ('while', 'O'), ('allen', 'O'), ('pursued', 'O'), ('a', 'O'), ('degree', 'O'), ('in', 'O'), ('computer', 'O'), ('science', 'O'), ('at', 'O'), ('washington', 'B-GRP'), ('state', 'I-GRP'), ('university', 'I-GRP'), (',', 'O'), ('though', 'O'), ('he', 'O'), ('later', 'O'), ('dropped', 'O'), ('out', 'O'), ('to', 'O'), ('work', 'O'), ('at', 'O'), ('honeywell', 'B-LOC'), ('.', 'O'), ('the', 'O'), ('january', 'O'), ('1975', 'O'), ('issue', 'O'), ('of', 'O'), ('popular', 'O'), ('electronics', 'O'), ('featured', 'O'), ('micro', 'B-CW'), ('instrumentation', 'O'), ('and', 'O'), ('telemetry', 'O'), ('systems', 'O'), ('(', 'O'), ('mits', 'O'), (')', 'O'), ('altair', 'B-PROD'), ('8800', 'I-PROD'), ('microcomputer', 'O')]\n"
     ]
    }
   ],
   "source": [
    "long_sample = [ 'childhood', 'friends', 'bill', 'gates', 'and', 'paul', 'allen', 'sought', 'to', 'make', 'a', 'business', 'using', 'their', 'skills', 'in', 'computer', \n",
    "                'programming.', 'in', '1972,', 'they', 'founded', 'traf-o-data,', 'which', 'sold', 'a', 'rudimentary', 'computer', 'to', 'track', 'and', 'analyze', \n",
    "                'automobile', 'traffic', 'data', '.', 'gates', 'enrolled', 'at', 'harvard', 'university', 'while', 'allen', 'pursued', 'a', 'degree', 'in', 'computer', \n",
    "                'science', 'at', 'washington', 'state', 'university', ',', 'though', 'he', 'later', 'dropped', 'out', 'to', 'work', 'at', 'honeywell', '.', 'the', 'january', \n",
    "                '1975', 'issue', 'of', 'popular', 'electronics', 'featured', 'micro', 'instrumentation', 'and', 'telemetry', \"systems\", '(', 'mits', ')', 'altair', '8800', 'microcomputer']\n",
    "long_sample_predictions = student.predict([long_sample])\n",
    "print(len(long_sample), len(long_sample_predictions[0]))\n",
    "print(list(zip(long_sample,long_sample_predictions[0])))"
   ]
  },
  {
   "cell_type": "markdown",
   "id": "15baf7b6",
   "metadata": {},
   "source": [
    "Saving global variables..."
   ]
  },
  {
   "cell_type": "code",
   "execution_count": 83,
   "id": "c5d97abf",
   "metadata": {},
   "outputs": [],
   "source": [
    "np.save(os.path.join(models_saves_path, 'global_params.npy'), globalParams)"
   ]
  },
  {
   "cell_type": "code",
   "execution_count": 13,
   "id": "0303d31a",
   "metadata": {},
   "outputs": [
    {
     "data": {
      "text/plain": [
       "{'PAD_TOKEN': '<pad>',\n",
       " 'PAD_INDEX': -1,\n",
       " 'UNK_TOKEN': '<unk>',\n",
       " 'window_size': 41,\n",
       " 'window_shift': 33,\n",
       " 'embedding_shape': (400002, 300),\n",
       " 'n_labels': 13}"
      ]
     },
     "execution_count": 13,
     "metadata": {},
     "output_type": "execute_result"
    }
   ],
   "source": [
    "globalParams = np.load(os.path.join(models_saves_path, 'global_params.npy'), allow_pickle=True).tolist()\n",
    "globalParams"
   ]
  },
  {
   "cell_type": "code",
   "execution_count": null,
   "id": "047d3796",
   "metadata": {},
   "outputs": [],
   "source": []
  }
 ],
 "metadata": {
  "kernelspec": {
   "display_name": "Python 3",
   "language": "python",
   "name": "python3"
  },
  "language_info": {
   "codemirror_mode": {
    "name": "ipython",
    "version": 3
   },
   "file_extension": ".py",
   "mimetype": "text/x-python",
   "name": "python",
   "nbconvert_exporter": "python",
   "pygments_lexer": "ipython3",
   "version": "3.9.11"
  },
  "papermill": {
   "default_parameters": {},
   "duration": 5413.597386,
   "end_time": "2022-03-31T23:44:13.855326",
   "environment_variables": {},
   "exception": null,
   "input_path": "__notebook__.ipynb",
   "output_path": "__notebook__.ipynb",
   "parameters": {},
   "start_time": "2022-03-31T22:14:00.257940",
   "version": "2.3.3"
  }
 },
 "nbformat": 4,
 "nbformat_minor": 5
}
