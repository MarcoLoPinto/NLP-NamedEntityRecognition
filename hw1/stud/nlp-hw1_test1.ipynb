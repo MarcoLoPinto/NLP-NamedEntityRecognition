{
 "cells": [
  {
   "cell_type": "markdown",
   "id": "55fc4c57",
   "metadata": {},
   "source": [
    "DISCLAIMER: Check \"model/\" folder for the complete code!"
   ]
  },
  {
   "cell_type": "markdown",
   "id": "3fe2040e",
   "metadata": {
    "papermill": {
     "duration": 0.078963,
     "end_time": "2022-03-31T22:14:09.386664",
     "exception": false,
     "start_time": "2022-03-31T22:14:09.307701",
     "status": "completed"
    },
    "tags": []
   },
   "source": [
    "# Prerequisites"
   ]
  },
  {
   "cell_type": "markdown",
   "id": "14c7d9ea",
   "metadata": {
    "papermill": {
     "duration": 0.049261,
     "end_time": "2022-03-31T22:14:09.495750",
     "exception": false,
     "start_time": "2022-03-31T22:14:09.446489",
     "status": "completed"
    },
    "tags": []
   },
   "source": [
    "Check versions installed:"
   ]
  },
  {
   "cell_type": "code",
   "execution_count": 1,
   "id": "dfa94920",
   "metadata": {
    "execution": {
     "iopub.execute_input": "2022-03-31T22:14:09.612659Z",
     "iopub.status.busy": "2022-03-31T22:14:09.611867Z",
     "iopub.status.idle": "2022-03-31T22:14:12.132557Z",
     "shell.execute_reply": "2022-03-31T22:14:12.131844Z",
     "shell.execute_reply.started": "2022-03-31T20:28:57.375577Z"
    },
    "papermill": {
     "duration": 2.582616,
     "end_time": "2022-03-31T22:14:12.132745",
     "exception": false,
     "start_time": "2022-03-31T22:14:09.550129",
     "status": "completed"
    },
    "tags": []
   },
   "outputs": [
    {
     "name": "stderr",
     "output_type": "stream",
     "text": [
      "/home/marco/miniconda3/envs/nlp2022-hw1/lib/python3.9/site-packages/tqdm/auto.py:22: TqdmWarning: IProgress not found. Please update jupyter and ipywidgets. See https://ipywidgets.readthedocs.io/en/stable/user_install.html\n",
      "  from .autonotebook import tqdm as notebook_tqdm\n"
     ]
    }
   ],
   "source": [
    "import flask\n",
    "import requests\n",
    "import sklearn\n",
    "import numpy as np\n",
    "import tqdm\n",
    "import torch\n",
    "import rich\n",
    "# import seqeval # NOT INSTALLED"
   ]
  },
  {
   "cell_type": "code",
   "execution_count": 2,
   "id": "d263ce00",
   "metadata": {
    "execution": {
     "iopub.execute_input": "2022-03-31T22:14:12.240236Z",
     "iopub.status.busy": "2022-03-31T22:14:12.239169Z",
     "iopub.status.idle": "2022-03-31T22:14:12.246436Z",
     "shell.execute_reply": "2022-03-31T22:14:12.246893Z",
     "shell.execute_reply.started": "2022-03-31T20:28:59.771324Z"
    },
    "papermill": {
     "duration": 0.063977,
     "end_time": "2022-03-31T22:14:12.247068",
     "exception": false,
     "start_time": "2022-03-31T22:14:12.183091",
     "status": "completed"
    },
    "tags": []
   },
   "outputs": [
    {
     "name": "stdout",
     "output_type": "stream",
     "text": [
      "flask 2.0.3\n",
      "requests 2.27.1\n",
      "sklearn 1.0.2\n",
      "numpy 1.21.2\n",
      "tqdm 4.63.0\n",
      "torch 1.9.0+cu102\n"
     ]
    }
   ],
   "source": [
    "print('flask',flask.__version__)\n",
    "print('requests',requests.__version__)\n",
    "print('sklearn',sklearn.__version__)\n",
    "print('numpy',np.__version__)\n",
    "print('tqdm',tqdm.__version__)\n",
    "print('torch',torch.__version__)\n",
    "# print('rich',rich.__version__) # CANNOT BE PRINTED"
   ]
  },
  {
   "cell_type": "markdown",
   "id": "eb68e720",
   "metadata": {
    "papermill": {
     "duration": 0.049733,
     "end_time": "2022-03-31T22:14:12.347623",
     "exception": false,
     "start_time": "2022-03-31T22:14:12.297890",
     "status": "completed"
    },
    "tags": []
   },
   "source": [
    "My imports:"
   ]
  },
  {
   "cell_type": "code",
   "execution_count": 3,
   "id": "deead956",
   "metadata": {
    "_cell_guid": "b1076dfc-b9ad-4769-8c92-a6c4dae69d19",
    "_uuid": "8f2839f25d086af736a60e9eeb907d3b93b6e0e5",
    "execution": {
     "iopub.execute_input": "2022-03-31T22:14:12.452607Z",
     "iopub.status.busy": "2022-03-31T22:14:12.451664Z",
     "iopub.status.idle": "2022-03-31T22:14:12.453933Z",
     "shell.execute_reply": "2022-03-31T22:14:12.454381Z",
     "shell.execute_reply.started": "2022-03-31T20:28:59.782996Z"
    },
    "papermill": {
     "duration": 0.055954,
     "end_time": "2022-03-31T22:14:12.454537",
     "exception": false,
     "start_time": "2022-03-31T22:14:12.398583",
     "status": "completed"
    },
    "tags": []
   },
   "outputs": [],
   "source": [
    "import sys, os\n",
    "from collections import Counter\n",
    "\n",
    "import matplotlib.pyplot as plt"
   ]
  },
  {
   "cell_type": "markdown",
   "id": "5424a631",
   "metadata": {
    "papermill": {
     "duration": 0.049244,
     "end_time": "2022-03-31T22:14:12.552634",
     "exception": false,
     "start_time": "2022-03-31T22:14:12.503390",
     "status": "completed"
    },
    "tags": []
   },
   "source": [
    "Important paths for the notebook:"
   ]
  },
  {
   "cell_type": "code",
   "execution_count": 4,
   "id": "6fbfdcef",
   "metadata": {
    "execution": {
     "iopub.execute_input": "2022-03-31T22:14:12.655134Z",
     "iopub.status.busy": "2022-03-31T22:14:12.654206Z",
     "iopub.status.idle": "2022-03-31T22:14:12.655841Z",
     "shell.execute_reply": "2022-03-31T22:14:12.656413Z",
     "shell.execute_reply.started": "2022-03-31T20:28:59.800660Z"
    },
    "papermill": {
     "duration": 0.055973,
     "end_time": "2022-03-31T22:14:12.656573",
     "exception": false,
     "start_time": "2022-03-31T22:14:12.600600",
     "status": "completed"
    },
    "tags": []
   },
   "outputs": [],
   "source": [
    "homework_root_path = '../../'\n",
    "data_root_path = '../../data'\n",
    "\n",
    "data_train_path = os.path.join( data_root_path , 'train.tsv' )\n",
    "data_dev_path = os.path.join( data_root_path , 'dev.tsv' )\n",
    "\n",
    "models_classes_path = '../../model/test1/'\n",
    "models_saves_path = '../../model/test1/saves/'\n",
    "\n",
    "embedding_saves_path = '../../model/architectures/fasttext/'\n",
    "train_embedding_model = False\n",
    "\n",
    "load_model = True\n",
    "train_model = False\n",
    "save_model = False"
   ]
  },
  {
   "cell_type": "code",
   "execution_count": 5,
   "id": "4b0c798e",
   "metadata": {
    "execution": {
     "iopub.execute_input": "2022-03-31T22:14:12.809023Z",
     "iopub.status.busy": "2022-03-31T22:14:12.808258Z",
     "iopub.status.idle": "2022-03-31T22:14:12.811988Z",
     "shell.execute_reply": "2022-03-31T22:14:12.812486Z",
     "shell.execute_reply.started": "2022-03-31T20:28:59.818499Z"
    },
    "papermill": {
     "duration": 0.107653,
     "end_time": "2022-03-31T22:14:12.812655",
     "exception": false,
     "start_time": "2022-03-31T22:14:12.705002",
     "status": "completed"
    },
    "tags": []
   },
   "outputs": [
    {
     "data": {
      "text/plain": [
       "'cuda'"
      ]
     },
     "execution_count": 5,
     "metadata": {},
     "output_type": "execute_result"
    }
   ],
   "source": [
    "device = 'cuda' if torch.cuda.is_available() else 'cpu'\n",
    "device"
   ]
  },
  {
   "cell_type": "markdown",
   "id": "c7bc95ee",
   "metadata": {
    "papermill": {
     "duration": 0.048851,
     "end_time": "2022-03-31T22:14:13.015246",
     "exception": false,
     "start_time": "2022-03-31T22:14:12.966395",
     "status": "completed"
    },
    "tags": []
   },
   "source": [
    "Setting the seed for reproducibility:"
   ]
  },
  {
   "cell_type": "code",
   "execution_count": 6,
   "id": "1e1e06c9",
   "metadata": {
    "execution": {
     "iopub.execute_input": "2022-03-31T22:14:13.121157Z",
     "iopub.status.busy": "2022-03-31T22:14:13.120220Z",
     "iopub.status.idle": "2022-03-31T22:14:13.127565Z",
     "shell.execute_reply": "2022-03-31T22:14:13.127040Z",
     "shell.execute_reply.started": "2022-03-31T20:28:59.852666Z"
    },
    "papermill": {
     "duration": 0.061579,
     "end_time": "2022-03-31T22:14:13.127705",
     "exception": false,
     "start_time": "2022-03-31T22:14:13.066126",
     "status": "completed"
    },
    "tags": []
   },
   "outputs": [],
   "source": [
    "SEED = 28\n",
    "\n",
    "# random.seed(SEED) # not used\n",
    "np.random.seed(SEED)\n",
    "torch.manual_seed(SEED)\n",
    "torch.backends.cudnn.deterministic = True"
   ]
  },
  {
   "cell_type": "markdown",
   "id": "fd77f147",
   "metadata": {},
   "source": [
    "Path:"
   ]
  },
  {
   "cell_type": "code",
   "execution_count": 7,
   "id": "91a2cee8",
   "metadata": {},
   "outputs": [],
   "source": [
    "sys.path.append( models_classes_path )\n",
    "\n",
    "%load_ext autoreload\n",
    "%autoreload 2"
   ]
  },
  {
   "cell_type": "markdown",
   "id": "5a9214a0",
   "metadata": {
    "papermill": {
     "duration": 0.049393,
     "end_time": "2022-03-31T22:14:13.226777",
     "exception": false,
     "start_time": "2022-03-31T22:14:13.177384",
     "status": "completed"
    },
    "tags": []
   },
   "source": [
    "# Dataset Analysis"
   ]
  },
  {
   "cell_type": "markdown",
   "id": "f3f8b4bb",
   "metadata": {},
   "source": [
    "The first thing that will be done in this first test is to see the distribution of the labels"
   ]
  },
  {
   "cell_type": "code",
   "execution_count": 8,
   "id": "a2c1e283",
   "metadata": {
    "execution": {
     "iopub.execute_input": "2022-03-31T22:14:13.331683Z",
     "iopub.status.busy": "2022-03-31T22:14:13.330803Z",
     "iopub.status.idle": "2022-03-31T22:14:13.333516Z",
     "shell.execute_reply": "2022-03-31T22:14:13.332983Z",
     "shell.execute_reply.started": "2022-03-31T20:28:59.871354Z"
    },
    "papermill": {
     "duration": 0.058218,
     "end_time": "2022-03-31T22:14:13.333645",
     "exception": false,
     "start_time": "2022-03-31T22:14:13.275427",
     "status": "completed"
    },
    "tags": []
   },
   "outputs": [],
   "source": [
    "def read_dataset(file_path):\n",
    "    data = []\n",
    "    sentence = []\n",
    "    with open(file_path, \"r\") as data_file:\n",
    "        for row in data_file:\n",
    "            \n",
    "            row_parts = row.rstrip().split('\\t')\n",
    "            \n",
    "            if row_parts[0] == '#' and row_parts[1] == 'id':\n",
    "                if len(sentence) > 0:\n",
    "                    data.append( sentence )\n",
    "                sentence = []\n",
    "                continue\n",
    "            \n",
    "            if len(row_parts) > 1:\n",
    "                sentence.append( { 'word': row_parts[0] , 'tag':  row_parts[1]} )\n",
    "                \n",
    "    data_file.close()\n",
    "    return data"
   ]
  },
  {
   "cell_type": "code",
   "execution_count": 9,
   "id": "ff21cd80",
   "metadata": {
    "execution": {
     "iopub.execute_input": "2022-03-31T22:14:13.435893Z",
     "iopub.status.busy": "2022-03-31T22:14:13.435329Z",
     "iopub.status.idle": "2022-03-31T22:14:13.897727Z",
     "shell.execute_reply": "2022-03-31T22:14:13.897014Z",
     "shell.execute_reply.started": "2022-03-31T20:28:59.882098Z"
    },
    "papermill": {
     "duration": 0.514983,
     "end_time": "2022-03-31T22:14:13.897876",
     "exception": false,
     "start_time": "2022-03-31T22:14:13.382893",
     "status": "completed"
    },
    "tags": []
   },
   "outputs": [],
   "source": [
    "data_train = read_dataset(data_train_path)\n",
    "data_dev = read_dataset(data_dev_path)"
   ]
  },
  {
   "cell_type": "code",
   "execution_count": 10,
   "id": "9704f6e8",
   "metadata": {
    "execution": {
     "iopub.execute_input": "2022-03-31T22:14:14.005016Z",
     "iopub.status.busy": "2022-03-31T22:14:14.004356Z",
     "iopub.status.idle": "2022-03-31T22:14:14.007284Z",
     "shell.execute_reply": "2022-03-31T22:14:14.007706Z",
     "shell.execute_reply.started": "2022-03-31T20:29:00.405568Z"
    },
    "papermill": {
     "duration": 0.060301,
     "end_time": "2022-03-31T22:14:14.007860",
     "exception": false,
     "start_time": "2022-03-31T22:14:13.947559",
     "status": "completed"
    },
    "tags": []
   },
   "outputs": [
    {
     "data": {
      "text/plain": [
       "[{'word': 'it', 'tag': 'O'},\n",
       " {'word': 'lies', 'tag': 'O'},\n",
       " {'word': 'approximately', 'tag': 'O'},\n",
       " {'word': 'north', 'tag': 'O'},\n",
       " {'word': 'east', 'tag': 'O'},\n",
       " {'word': 'of', 'tag': 'O'},\n",
       " {'word': 'bolesławiec', 'tag': 'B-LOC'},\n",
       " {'word': ',', 'tag': 'O'},\n",
       " {'word': 'and', 'tag': 'O'},\n",
       " {'word': 'west', 'tag': 'O'},\n",
       " {'word': 'of', 'tag': 'O'},\n",
       " {'word': 'the', 'tag': 'O'},\n",
       " {'word': 'regional', 'tag': 'O'},\n",
       " {'word': 'capital', 'tag': 'O'},\n",
       " {'word': 'wrocław', 'tag': 'B-LOC'},\n",
       " {'word': '.', 'tag': 'O'}]"
      ]
     },
     "execution_count": 10,
     "metadata": {},
     "output_type": "execute_result"
    }
   ],
   "source": [
    "data_train[0]"
   ]
  },
  {
   "cell_type": "code",
   "execution_count": 11,
   "id": "8aab33d3",
   "metadata": {
    "execution": {
     "iopub.execute_input": "2022-03-31T22:14:14.114458Z",
     "iopub.status.busy": "2022-03-31T22:14:14.113654Z",
     "iopub.status.idle": "2022-03-31T22:14:14.116695Z",
     "shell.execute_reply": "2022-03-31T22:14:14.117108Z",
     "shell.execute_reply.started": "2022-03-31T20:29:00.416531Z"
    },
    "papermill": {
     "duration": 0.059388,
     "end_time": "2022-03-31T22:14:14.117279",
     "exception": false,
     "start_time": "2022-03-31T22:14:14.057891",
     "status": "completed"
    },
    "tags": []
   },
   "outputs": [
    {
     "data": {
      "text/plain": [
       "[{'word': 'on', 'tag': 'O'},\n",
       " {'word': 'the', 'tag': 'O'},\n",
       " {'word': 'day', 'tag': 'O'},\n",
       " {'word': 'of', 'tag': 'O'},\n",
       " {'word': 'the', 'tag': 'O'},\n",
       " {'word': 'referendum', 'tag': 'O'},\n",
       " {'word': 'michael', 'tag': 'B-PER'},\n",
       " {'word': 'ashcroft', 'tag': 'I-PER'},\n",
       " {'word': 'polling', 'tag': 'O'},\n",
       " {'word': 'team', 'tag': 'O'},\n",
       " {'word': 'questioned', 'tag': 'O'},\n",
       " {'word': '12,369', 'tag': 'O'},\n",
       " {'word': 'people', 'tag': 'O'},\n",
       " {'word': 'who', 'tag': 'O'},\n",
       " {'word': 'had', 'tag': 'O'},\n",
       " {'word': 'completed', 'tag': 'O'},\n",
       " {'word': 'voting', 'tag': 'O'},\n",
       " {'word': '.', 'tag': 'O'}]"
      ]
     },
     "execution_count": 11,
     "metadata": {},
     "output_type": "execute_result"
    }
   ],
   "source": [
    "data_dev[0]"
   ]
  },
  {
   "cell_type": "markdown",
   "id": "47ab62da",
   "metadata": {
    "papermill": {
     "duration": 0.049409,
     "end_time": "2022-03-31T22:14:14.217506",
     "exception": false,
     "start_time": "2022-03-31T22:14:14.168097",
     "status": "completed"
    },
    "tags": []
   },
   "source": [
    "checking the distribution of the categories:"
   ]
  },
  {
   "cell_type": "code",
   "execution_count": 12,
   "id": "c8d53c0a",
   "metadata": {
    "execution": {
     "iopub.execute_input": "2022-03-31T22:14:14.321719Z",
     "iopub.status.busy": "2022-03-31T22:14:14.320798Z",
     "iopub.status.idle": "2022-03-31T22:14:14.323100Z",
     "shell.execute_reply": "2022-03-31T22:14:14.323581Z",
     "shell.execute_reply.started": "2022-03-31T20:29:00.432450Z"
    },
    "papermill": {
     "duration": 0.056611,
     "end_time": "2022-03-31T22:14:14.323740",
     "exception": false,
     "start_time": "2022-03-31T22:14:14.267129",
     "status": "completed"
    },
    "tags": []
   },
   "outputs": [],
   "source": [
    "def get_labels_quantities(data):\n",
    "    count = Counter()\n",
    "    for sentence in data:\n",
    "        for value in sentence:\n",
    "            count[value['tag']] += 1\n",
    "    return count"
   ]
  },
  {
   "cell_type": "code",
   "execution_count": 13,
   "id": "37802148",
   "metadata": {
    "execution": {
     "iopub.execute_input": "2022-03-31T22:14:14.436202Z",
     "iopub.status.busy": "2022-03-31T22:14:14.435308Z",
     "iopub.status.idle": "2022-03-31T22:14:14.796299Z",
     "shell.execute_reply": "2022-03-31T22:14:14.796843Z",
     "shell.execute_reply.started": "2022-03-31T20:29:00.444439Z"
    },
    "papermill": {
     "duration": 0.424178,
     "end_time": "2022-03-31T22:14:14.797010",
     "exception": false,
     "start_time": "2022-03-31T22:14:14.372832",
     "status": "completed"
    },
    "tags": []
   },
   "outputs": [
    {
     "data": {
      "text/plain": [
       "<BarContainer object of 13 artists>"
      ]
     },
     "execution_count": 13,
     "metadata": {},
     "output_type": "execute_result"
    },
    {
     "data": {
      "image/png": "[encoded data removed]",
      "text/plain": [
       "<Figure size 1440x432 with 1 Axes>"
      ]
     },
     "metadata": {
      "needs_background": "light"
     },
     "output_type": "display_data"
    }
   ],
   "source": [
    "counts_train = get_labels_quantities(data_train)\n",
    "plt.figure(figsize=(20, 6))\n",
    "plt.bar(counts_train.keys(),counts_train.values(), width=0.8)"
   ]
  },
  {
   "cell_type": "markdown",
   "id": "26354dce",
   "metadata": {
    "papermill": {
     "duration": 0.051867,
     "end_time": "2022-03-31T22:14:14.900313",
     "exception": false,
     "start_time": "2022-03-31T22:14:14.848446",
     "status": "completed"
    },
    "tags": []
   },
   "source": [
    "The category 'O' is predominant, but it means 'no category' to us. Let's remove it from the equation:"
   ]
  },
  {
   "cell_type": "code",
   "execution_count": 14,
   "id": "704a5c5b",
   "metadata": {
    "execution": {
     "iopub.execute_input": "2022-03-31T22:14:15.034484Z",
     "iopub.status.busy": "2022-03-31T22:14:15.031462Z",
     "iopub.status.idle": "2022-03-31T22:14:15.273582Z",
     "shell.execute_reply": "2022-03-31T22:14:15.274008Z",
     "shell.execute_reply.started": "2022-03-31T20:29:00.861817Z"
    },
    "papermill": {
     "duration": 0.322436,
     "end_time": "2022-03-31T22:14:15.274174",
     "exception": false,
     "start_time": "2022-03-31T22:14:14.951738",
     "status": "completed"
    },
    "tags": []
   },
   "outputs": [
    {
     "data": {
      "text/plain": [
       "<BarContainer object of 12 artists>"
      ]
     },
     "execution_count": 14,
     "metadata": {},
     "output_type": "execute_result"
    },
    {
     "data": {
      "image/png": "[encoded data removed]",
      "text/plain": [
       "<Figure size 1440x432 with 1 Axes>"
      ]
     },
     "metadata": {
      "needs_background": "light"
     },
     "output_type": "display_data"
    }
   ],
   "source": [
    "del counts_train['O']\n",
    "plt.figure(figsize=(20, 6))\n",
    "plt.bar(counts_train.keys(),counts_train.values(), width=0.8)"
   ]
  },
  {
   "cell_type": "code",
   "execution_count": 15,
   "id": "fcfef528",
   "metadata": {
    "execution": {
     "iopub.execute_input": "2022-03-31T22:14:15.407239Z",
     "iopub.status.busy": "2022-03-31T22:14:15.406157Z",
     "iopub.status.idle": "2022-03-31T22:14:15.653860Z",
     "shell.execute_reply": "2022-03-31T22:14:15.653347Z",
     "shell.execute_reply.started": "2022-03-31T20:29:01.098300Z"
    },
    "papermill": {
     "duration": 0.325933,
     "end_time": "2022-03-31T22:14:15.653988",
     "exception": false,
     "start_time": "2022-03-31T22:14:15.328055",
     "status": "completed"
    },
    "tags": []
   },
   "outputs": [
    {
     "data": {
      "text/plain": [
       "<BarContainer object of 12 artists>"
      ]
     },
     "execution_count": 15,
     "metadata": {},
     "output_type": "execute_result"
    },
    {
     "data": {
      "image/png": "[encoded data removed]",
      "text/plain": [
       "<Figure size 1440x432 with 1 Axes>"
      ]
     },
     "metadata": {
      "needs_background": "light"
     },
     "output_type": "display_data"
    }
   ],
   "source": [
    "counts_dev = get_labels_quantities(data_dev)\n",
    "del counts_dev['O']\n",
    "plt.figure(figsize=(20, 6))\n",
    "plt.bar(counts_dev.keys(),counts_dev.values(), width=0.8)"
   ]
  },
  {
   "cell_type": "markdown",
   "id": "195ced11",
   "metadata": {},
   "source": [
    "# Dataset Class"
   ]
  },
  {
   "cell_type": "code",
   "execution_count": 16,
   "id": "1128bf6a",
   "metadata": {
    "execution": {
     "iopub.execute_input": "2022-03-31T22:14:47.792849Z",
     "iopub.status.busy": "2022-03-31T22:14:47.791088Z",
     "iopub.status.idle": "2022-03-31T22:14:47.793498Z",
     "shell.execute_reply": "2022-03-31T22:14:47.793910Z",
     "shell.execute_reply.started": "2022-03-31T20:29:31.992805Z"
    },
    "papermill": {
     "duration": 0.079922,
     "end_time": "2022-03-31T22:14:47.794067",
     "exception": false,
     "start_time": "2022-03-31T22:14:47.714145",
     "status": "completed"
    },
    "tags": []
   },
   "outputs": [
    {
     "name": "stdout",
     "output_type": "stream",
     "text": [
      "Overwriting ../../model/test1/NERDataset.py\n"
     ]
    }
   ],
   "source": [
    "%%writefile ../../model/test1/NERDataset.py\n",
    "\n",
    "from torch.utils.data import Dataset\n",
    "import numpy as np\n",
    "\n",
    "PAD_TOKEN = '<pad>'\n",
    "window_size = 44\n",
    "window_shift = window_size\n",
    "\n",
    "class NERDataset(Dataset):\n",
    "    def __init__(self, flile_path:str, window_size:int, pad_token:str, window_shift:int = -1):\n",
    "        \"\"\"\n",
    "        Args:\n",
    "            - file_path: path to the file to open\n",
    "            - window_size: the maximum size of a sentence. Bigger sentences generates two or more windows\n",
    "            - pad_token: the string format of the token (could be also None)\n",
    "            - window_shift: the amount of shift from the last window of the same sentence to make. if it's equal to window_size then the current window starts after the end of the other\n",
    "        \"\"\"\n",
    "        self.window_size = window_size\n",
    "        self.window_shift = window_shift if window_shift > 0 else window_size\n",
    "        self.pad_token = pad_token\n",
    "        self.ignore_index = -1\n",
    "        \n",
    "        data = NERDataset.read_dataset(flile_path)\n",
    "        self.create_label_mapping(data)\n",
    "        windowed_data = NERDataset.generate_windows(data, self.window_size, self.window_shift, self.generate_pad_element())\n",
    "        self.encoded_data = self.encode_data(windowed_data)\n",
    "        \n",
    "    def __len__(self):\n",
    "        return len(self.encoded_data)\n",
    "    \n",
    "    def __getitem__(self, idx):\n",
    "        if self.encoded_data is None:\n",
    "            raise RuntimeError(\"\"\"Data is not encoded yet!\"\"\")\n",
    "        return self.encoded_data[idx]\n",
    "    \n",
    "    @staticmethod\n",
    "    def read_dataset(file_path:str):\n",
    "        \"\"\"\n",
    "        Args:\n",
    "            - file_path: path to the file to open \\n\n",
    "        Returns:\n",
    "            list of lists (sentences) of dictionaries, each dictionary has: \\n\n",
    "                'word': a word in string format, e.g. 'hogwarts' \\n\n",
    "                'tag': label of the word in string format, e.g. 'O'\n",
    "        \"\"\"\n",
    "        data = []\n",
    "        sentence = []\n",
    "        with open(file_path, \"r\") as data_file:\n",
    "            for row in data_file:\n",
    "\n",
    "                row_parts = row.rstrip().split('\\t')\n",
    "\n",
    "                if row_parts[0] == '#' and row_parts[1] == 'id':\n",
    "                    if len(sentence) > 0:\n",
    "                        data.append( sentence )\n",
    "                    sentence = []\n",
    "                    continue\n",
    "\n",
    "                if len(row_parts) > 1:\n",
    "                    sentence.append( { 'word': row_parts[0] , 'tag':  row_parts[1]} )\n",
    "\n",
    "        data_file.close()\n",
    "        return data\n",
    "    \n",
    "    def create_label_mapping(self, data):\n",
    "        \"\"\"\n",
    "        Creates the mapping from label to id and from id to label \\n\n",
    "        Args:\n",
    "            - data: the data returned by read_dataset()\n",
    "        \"\"\"\n",
    "        labels = set()\n",
    "        for sentence in data:\n",
    "            for value in sentence:\n",
    "                labels.add(value['tag'])\n",
    "        labels = list(labels)\n",
    "        labels.sort()\n",
    "        self.label2id = {l:i for i,l in enumerate(labels)}\n",
    "        self.id2label = labels\n",
    "\n",
    "    def save_labels(self, path):\n",
    "        np.save(path, [self.label2id, self.id2label])\n",
    "\n",
    "    @staticmethod\n",
    "    def load_labels(path):\n",
    "        [label2id, id2label] = np.load(path, allow_pickle=True)\n",
    "        return [label2id, id2label]\n",
    "    \n",
    "    @staticmethod\n",
    "    def generate_windows(data, window_size, window_shift, pad_element = None):\n",
    "        \"\"\"\n",
    "        Args:\n",
    "            - data: the data returned by read_dataset()\n",
    "            - window_size: the maximum size of a sentence. Bigger sentences generates two or more windows\n",
    "            - window_shift: the amount of shift from the last window of the same sentence to make. if it's equal to window_size then the current window starts after the end of the other\n",
    "            - pad_element: element to be put as pad (could be string, dictionary or None) \\n\n",
    "        Returns:\n",
    "            list of lists (windows) of dictionaries, each dictionary has: \\n\n",
    "                'word': a word in string format, e.g. 'hogwarts' \\n\n",
    "                'tag': label of the word in string format, e.g. 'O'\n",
    "        \"\"\"\n",
    "        windowed_data = []\n",
    "        for sentence in data:\n",
    "            windowed_sentences = [sentence[i:i+window_size] for i in range(0, len(sentence), window_shift)]\n",
    "            for window in windowed_sentences:\n",
    "                window = window + [pad_element]*(window_size - len(window))\n",
    "                windowed_data.append(window)\n",
    "            if pad_element not in windowed_data[-1]: # Adding additional None values as dummy sentence in order to determine the end of a sentence\n",
    "                windowed_data.append([pad_element]*window_size)\n",
    "        return windowed_data\n",
    "    \n",
    "    def generate_pad_element(self):\n",
    "        \"\"\"\n",
    "        Returns:\n",
    "            the pad element as a dictionary\n",
    "        \"\"\"\n",
    "        return { 'word': self.pad_token , 'tag':  self.ignore_index} # tag is -1, to be ignored by the loss and evaluation method!!!!\n",
    "    \n",
    "    def encode_data(self, data):\n",
    "        \"\"\"\n",
    "        Args:\n",
    "            - data: the data returned by read_dataset() or generate_windows() \\n\n",
    "        Returns:\n",
    "            list of dictionaries, each dictionary has: \\n\n",
    "                'inputs': sentence/window in list format, e.g. ['this','is',...] \\n\n",
    "                'outputs': labels of the sentence encoded into integers in list format, e.g. [2, 3,...] \n",
    "        \"\"\"\n",
    "        encoded_data = []\n",
    "        for window in data:\n",
    "            encoded_inputs = []\n",
    "            encoded_outputs = []\n",
    "            for word in window:\n",
    "                encoded_inputs.append( word['word'] )\n",
    "                tag = word['tag'] if word['word'] == self.pad_token else self.label2id[word['tag']]\n",
    "                encoded_outputs.append( tag )\n",
    "            encoded_data.append( { 'inputs':encoded_inputs , 'outputs':encoded_outputs } )\n",
    "        return encoded_data"
   ]
  },
  {
   "cell_type": "code",
   "execution_count": 17,
   "id": "d3e84cef",
   "metadata": {},
   "outputs": [],
   "source": [
    "from NERDataset import NERDataset, window_size, window_shift, PAD_TOKEN"
   ]
  },
  {
   "cell_type": "markdown",
   "id": "95b14772",
   "metadata": {
    "papermill": {
     "duration": 0.053801,
     "end_time": "2022-03-31T22:14:15.762038",
     "exception": false,
     "start_time": "2022-03-31T22:14:15.708237",
     "status": "completed"
    },
    "tags": []
   },
   "source": [
    "# Word Embedding"
   ]
  },
  {
   "cell_type": "markdown",
   "id": "0911f3ac",
   "metadata": {},
   "source": [
    "The first word embedding that will be tried is FastText: the reason behind it is to remove the hassle of dealing with OOV words. The next test that will be done is to use an embedding that does not deal with OOV words (e.g. GloVe) so to use the unknown token. The implementation could be easier and also it won't have all the n-grams vocabularies (which uses lots of RAM by using it)"
   ]
  },
  {
   "cell_type": "code",
   "execution_count": 18,
   "id": "3a3037b0",
   "metadata": {
    "execution": {
     "iopub.execute_input": "2022-03-31T22:14:15.987036Z",
     "iopub.status.busy": "2022-03-31T22:14:15.985247Z",
     "iopub.status.idle": "2022-03-31T22:14:15.989509Z",
     "shell.execute_reply": "2022-03-31T22:14:15.989035Z",
     "shell.execute_reply.started": "2022-03-31T20:29:01.327398Z"
    },
    "papermill": {
     "duration": 0.061805,
     "end_time": "2022-03-31T22:14:15.989640",
     "exception": false,
     "start_time": "2022-03-31T22:14:15.927835",
     "status": "completed"
    },
    "tags": []
   },
   "outputs": [],
   "source": [
    "def get_sentences(data):\n",
    "    sentences = []\n",
    "    for data_sentence in data:\n",
    "        sentences.append( [wd['word'] for wd in data_sentence] )\n",
    "    return sentences"
   ]
  },
  {
   "cell_type": "code",
   "execution_count": 19,
   "id": "b138cb00",
   "metadata": {
    "execution": {
     "iopub.execute_input": "2022-03-31T22:14:16.107333Z",
     "iopub.status.busy": "2022-03-31T22:14:16.106651Z",
     "iopub.status.idle": "2022-03-31T22:14:46.331171Z",
     "shell.execute_reply": "2022-03-31T22:14:46.331652Z",
     "shell.execute_reply.started": "2022-03-31T20:29:01.342490Z"
    },
    "papermill": {
     "duration": 30.287763,
     "end_time": "2022-03-31T22:14:46.331839",
     "exception": false,
     "start_time": "2022-03-31T22:14:16.044076",
     "status": "completed"
    },
    "tags": []
   },
   "outputs": [
    {
     "name": "stderr",
     "output_type": "stream",
     "text": [
      "/home/marco/miniconda3/envs/nlp2022-hw1/lib/python3.9/site-packages/gensim/similarities/__init__.py:15: UserWarning: The gensim.similarities.levenshtein submodule is disabled, because the optional Levenshtein package <https://pypi.org/project/python-Levenshtein/> is unavailable. Install Levenhstein (e.g. `pip install python-Levenshtein`) to suppress this warning.\n",
      "  warnings.warn(msg)\n"
     ]
    },
    {
     "name": "stdout",
     "output_type": "stream",
     "text": [
      "Loading embedding model...\n"
     ]
    }
   ],
   "source": [
    "from gensim.models import FastText\n",
    "\n",
    "data_train = NERDataset.read_dataset(data_train_path)\n",
    "data_dev = NERDataset.read_dataset(data_dev_path)\n",
    "\n",
    "if not train_embedding_model:\n",
    "    print('Loading embedding model...')\n",
    "    embedding_model = FastText.load(os.path.join(embedding_saves_path, 'embedding.model'))\n",
    "else:\n",
    "    print('Training embedding model...')\n",
    "    # initialize the model as empty, so to train in two phases...\n",
    "    embedding_model = FastText(vector_size=400, window=11, min_count=1, sg=1, hs=1, negative=0, seed=SEED)\n",
    "    # add <pad> and <unk> + the vocabulary...\n",
    "    supplement_sentences = get_sentences(data_train)\n",
    "    supplement_sentences.insert(0, [PAD_TOKEN]) # ,'<unk>']) # FastText doesn't need it\n",
    "    embedding_model.build_vocab( supplement_sentences )\n",
    "    embedding_model.train(get_sentences(data_train), total_examples=embedding_model.corpus_count, epochs=embedding_model.epochs)"
   ]
  },
  {
   "cell_type": "code",
   "execution_count": 20,
   "id": "211b2f61",
   "metadata": {},
   "outputs": [],
   "source": [
    "if train_embedding_model:\n",
    "    print('Saving embedding model...')\n",
    "    embedding_model.save(os.path.join(embedding_saves_path,'embedding.model'))"
   ]
  },
  {
   "cell_type": "code",
   "execution_count": 21,
   "id": "d8e3373f",
   "metadata": {
    "execution": {
     "iopub.execute_input": "2022-03-31T22:14:46.447461Z",
     "iopub.status.busy": "2022-03-31T22:14:46.445611Z",
     "iopub.status.idle": "2022-03-31T22:14:46.449687Z",
     "shell.execute_reply": "2022-03-31T22:14:46.449176Z",
     "shell.execute_reply.started": "2022-03-31T20:29:31.560216Z"
    },
    "papermill": {
     "duration": 0.06279,
     "end_time": "2022-03-31T22:14:46.449818",
     "exception": false,
     "start_time": "2022-03-31T22:14:46.387028",
     "status": "completed"
    },
    "tags": []
   },
   "outputs": [
    {
     "data": {
      "text/plain": [
       "(29966, 400)"
      ]
     },
     "execution_count": 21,
     "metadata": {},
     "output_type": "execute_result"
    }
   ],
   "source": [
    "len(embedding_model.wv.key_to_index), embedding_model.vector_size"
   ]
  },
  {
   "cell_type": "code",
   "execution_count": 22,
   "id": "ac840c14",
   "metadata": {
    "execution": {
     "iopub.execute_input": "2022-03-31T22:14:46.686288Z",
     "iopub.status.busy": "2022-03-31T22:14:46.685317Z",
     "iopub.status.idle": "2022-03-31T22:14:46.688869Z",
     "shell.execute_reply": "2022-03-31T22:14:46.689320Z",
     "shell.execute_reply.started": "2022-03-31T20:29:31.584276Z"
    },
    "papermill": {
     "duration": 0.069707,
     "end_time": "2022-03-31T22:14:46.689479",
     "exception": false,
     "start_time": "2022-03-31T22:14:46.619772",
     "status": "completed"
    },
    "scrolled": true,
    "tags": []
   },
   "outputs": [
    {
     "data": {
      "text/plain": [
       "array([ 2.67738458e-02, -7.08317086e-02, -7.91705102e-02, -6.70307502e-02,\n",
       "       -8.66013020e-02,  3.75388823e-02,  1.39982514e-02,  3.10069453e-02,\n",
       "       -1.30810989e-02,  4.59568202e-02, -3.54561992e-02,  5.52218482e-02,\n",
       "       -9.88587458e-03, -1.38216279e-02, -1.70378294e-02, -8.03057011e-03,\n",
       "       -4.27361168e-02, -2.15783268e-02,  5.81846423e-02,  1.63700860e-02,\n",
       "       -5.13822585e-02, -3.18123810e-02, -6.68677986e-02,  2.18897108e-02,\n",
       "       -9.37767979e-03,  6.36196928e-03,  8.83736089e-02, -3.03626098e-02,\n",
       "        2.26726346e-02, -1.93188444e-03,  1.81910843e-02,  1.64169632e-02,\n",
       "       -1.89311728e-02,  1.36086894e-02, -2.21720710e-03, -3.61943059e-02,\n",
       "        5.99874333e-02,  7.82933235e-02, -3.37397642e-02,  2.23634839e-02,\n",
       "        2.87898909e-02, -3.88477370e-02, -3.59860994e-02,  4.41911444e-02,\n",
       "       -9.11596939e-02, -4.57375199e-02, -7.49694370e-03,  6.07271791e-02,\n",
       "       -1.12447431e-02,  3.56148891e-02,  3.78009640e-02, -3.82102132e-02,\n",
       "        4.73623350e-02,  6.39886335e-02,  5.12997210e-02,  4.06935299e-03,\n",
       "       -6.44160807e-02, -7.87329581e-03, -4.35718987e-03,  2.74981484e-02,\n",
       "        1.41366888e-02, -1.30268494e-02, -1.32364007e-02, -3.29541788e-02,\n",
       "       -3.56697217e-02,  4.35608774e-02,  4.31276038e-02,  3.17926258e-02,\n",
       "       -2.01874152e-02, -1.20931072e-02,  4.70440574e-02,  2.43472145e-03,\n",
       "       -2.65056007e-02, -6.06728112e-03,  1.83641585e-03, -2.56462209e-02,\n",
       "        5.18057942e-02,  1.99951604e-02, -2.79146992e-02, -4.57705446e-02,\n",
       "        1.87874641e-02,  7.72331422e-03,  1.08435862e-02,  2.74961554e-02,\n",
       "       -4.35756855e-02, -1.53514910e-02,  5.43348752e-02, -1.83302183e-02,\n",
       "        3.65473256e-02, -5.65008074e-02, -3.41796726e-02, -1.49407042e-02,\n",
       "        7.16191297e-03, -2.94304527e-02,  2.38198228e-02, -3.59179005e-02,\n",
       "       -8.29397961e-02, -9.25926212e-03,  5.91401011e-02, -4.80498932e-03,\n",
       "       -1.44200539e-03, -4.46031988e-02,  8.54376331e-03, -5.92661882e-03,\n",
       "        4.71889898e-02, -3.97373252e-02, -6.14872761e-02, -1.47534944e-02,\n",
       "        1.11505687e-02, -4.38816138e-02,  3.39334160e-02,  9.23522934e-02,\n",
       "        1.75559465e-02, -2.44887397e-02,  7.54943816e-03,  5.66613600e-02,\n",
       "       -6.73348084e-02,  6.88278601e-02,  5.32615334e-02,  5.00501692e-02,\n",
       "       -2.23863777e-02,  9.85259116e-02,  4.09624949e-02,  5.66114113e-02,\n",
       "       -7.87442178e-02, -2.72267424e-02,  6.06255792e-02,  1.02321148e-01,\n",
       "        3.71084437e-02,  1.23631461e-02, -9.31666568e-02, -5.19947447e-02,\n",
       "        3.85437533e-02,  1.87745728e-02,  1.72351375e-02,  2.84222662e-02,\n",
       "       -2.84696091e-02,  3.41364555e-02, -3.03063949e-04, -1.39039643e-02,\n",
       "       -2.27175169e-02, -5.71749061e-02,  3.75818200e-02, -2.47426033e-02,\n",
       "       -1.99722946e-02, -1.45854466e-02, -1.34270033e-02,  1.88858453e-02,\n",
       "        4.00770679e-02, -6.00947291e-02,  1.56736057e-02,  2.16597272e-03,\n",
       "        2.63586808e-02, -2.14321967e-02,  5.28699830e-02,  3.44678983e-02,\n",
       "       -5.38333406e-05,  1.62920225e-02, -2.64121424e-02,  2.49587037e-02,\n",
       "        3.39206383e-02, -4.31139581e-03,  2.45751329e-02,  4.27437909e-02,\n",
       "        3.65197808e-02,  4.21443731e-02,  1.04425745e-02,  5.37532084e-02,\n",
       "       -4.75828908e-02,  1.15207195e-01, -9.77639854e-03, -1.82941498e-03,\n",
       "        4.99768741e-02, -2.47607902e-02,  1.75711289e-02, -8.01603645e-02,\n",
       "        1.72821358e-02,  5.13979979e-02,  3.27004716e-02,  6.32535107e-03,\n",
       "        1.03580892e-01, -3.93912978e-02,  2.11522002e-02,  1.33443335e-02,\n",
       "        8.98377299e-02, -3.89481783e-02, -1.11108132e-01,  6.73377812e-02,\n",
       "       -1.42659610e-02,  4.27872688e-02, -4.06554602e-02,  1.16028003e-02,\n",
       "       -1.84783414e-02,  6.61271811e-02,  8.52611847e-03, -2.19715070e-02,\n",
       "        6.86514750e-03,  3.42700034e-02,  5.49411662e-02, -2.62434259e-02,\n",
       "        2.09432039e-02, -2.15736218e-02, -8.52045119e-02,  8.46906528e-02,\n",
       "        6.08270383e-03, -2.72047427e-03,  1.58274285e-02,  1.62449330e-02,\n",
       "       -1.38267092e-02,  8.17112178e-02, -1.71123780e-02, -1.08866561e-02,\n",
       "       -4.01132554e-03,  1.07848905e-02, -2.61306334e-02, -5.92078548e-03,\n",
       "       -2.77437344e-02,  2.78353263e-02, -1.87983252e-02,  2.46238280e-02,\n",
       "       -6.21107668e-02,  4.39599250e-03, -2.47371998e-02,  2.28433050e-02,\n",
       "       -4.21477370e-02, -2.98705902e-02, -6.00825213e-02,  9.61326994e-03,\n",
       "        3.39948758e-02,  6.87852176e-03, -5.66102937e-02, -9.62301865e-02,\n",
       "        5.02421558e-02, -1.20195299e-02, -8.80277082e-02,  5.46799973e-02,\n",
       "       -2.96701416e-02,  7.14032799e-02, -1.71494503e-02,  2.60593463e-02,\n",
       "       -1.69672761e-02, -1.99580453e-02,  1.53700598e-02,  3.38296522e-03,\n",
       "       -2.46881470e-02, -1.96642559e-05, -4.22973558e-02, -4.83340211e-02,\n",
       "        1.50603997e-02, -1.57994486e-03,  8.37917905e-03, -2.93973777e-02,\n",
       "       -3.27659845e-02, -1.41115421e-02, -9.74809751e-02,  3.02681401e-02,\n",
       "       -5.26773334e-02, -1.03664994e-01,  2.47897562e-02, -7.53864199e-02,\n",
       "       -2.92279961e-04,  5.41925207e-02,  2.23437771e-02,  3.89931090e-02,\n",
       "       -6.64949045e-02, -5.28086629e-03, -7.80042112e-02, -2.99721994e-02,\n",
       "       -7.10076392e-02, -3.78031866e-03,  4.79188189e-02, -2.51847673e-02,\n",
       "        4.86146249e-02, -4.18864526e-02,  2.46595517e-02,  1.81189012e-02,\n",
       "       -6.74554631e-02,  1.97214726e-02, -1.93024054e-02, -2.93256505e-03,\n",
       "       -1.06487915e-01,  5.19978963e-02,  3.54469232e-02,  1.12756537e-02,\n",
       "       -2.86690844e-03, -1.31892134e-02,  1.63242761e-02,  2.65083238e-02,\n",
       "       -3.08939684e-02,  6.82024751e-03, -6.34685159e-04,  1.02174201e-03,\n",
       "       -6.22250028e-02,  6.43244684e-02,  6.83311882e-05, -1.38555458e-02,\n",
       "        6.76675364e-02,  1.75490715e-02,  7.61358626e-03,  6.97892904e-03,\n",
       "       -4.12195176e-02,  2.37617679e-02, -3.19165774e-02, -1.49804782e-02,\n",
       "       -1.48533089e-02,  4.91056740e-02,  3.82871106e-02, -7.03685544e-03,\n",
       "       -2.28118878e-02, -2.52499804e-02, -7.27600511e-03, -1.96842533e-02,\n",
       "        4.76724356e-02, -9.40402783e-03,  2.73550544e-02, -1.02667985e-02,\n",
       "       -1.96887776e-02, -5.72206825e-02, -6.20390512e-02,  3.09687983e-02,\n",
       "       -8.56501460e-02,  3.48200984e-02, -4.96400567e-03, -4.68627550e-02,\n",
       "       -2.48859450e-02, -1.29250558e-02, -1.05398661e-02, -1.12634813e-02,\n",
       "        4.85757738e-02, -6.73803792e-04, -7.77936876e-02,  8.48048627e-02,\n",
       "        3.68805639e-02,  3.58264223e-02,  3.99103425e-02, -1.66598447e-02,\n",
       "       -1.96952987e-02, -1.69785845e-03,  7.43949600e-03, -2.77957115e-02,\n",
       "        6.45543972e-04, -1.67095736e-02,  6.27552271e-02, -4.69171355e-05,\n",
       "        2.79897824e-02,  1.12590883e-02, -7.35865533e-03,  2.86840666e-02,\n",
       "        8.19251165e-02, -3.97536419e-02,  1.07633948e-01, -2.22292617e-02,\n",
       "        4.59533781e-02,  4.13037986e-02, -1.03420690e-02, -3.53021454e-03,\n",
       "       -1.58247333e-02,  3.41994166e-02,  5.82663603e-02, -3.22326943e-02,\n",
       "       -3.55639942e-02, -2.14784220e-02, -4.28527445e-02, -1.70461908e-02,\n",
       "       -8.35737884e-02,  7.95863685e-04, -2.79886685e-02, -2.04919465e-02,\n",
       "       -5.00169620e-02,  5.87934591e-02,  7.59305656e-02, -3.86410207e-02,\n",
       "       -5.75906187e-02, -4.43916768e-04,  2.44392753e-02,  2.45843362e-02,\n",
       "       -1.93268955e-02,  4.09930833e-02,  2.89085582e-02, -5.70397300e-04,\n",
       "       -7.36316815e-02,  6.97083678e-03, -2.45310590e-02, -6.36132881e-02,\n",
       "        1.43038660e-01, -1.59874093e-02, -2.49277893e-03, -3.94095369e-02,\n",
       "        1.05192073e-01, -1.28866695e-02, -5.63501269e-02,  1.30992709e-03,\n",
       "       -6.59457818e-02,  2.96280682e-02, -1.08844740e-02, -6.62934408e-03,\n",
       "        4.64911340e-03,  2.68694572e-02,  1.13989033e-01, -1.52226776e-01],\n",
       "      dtype=float32)"
      ]
     },
     "execution_count": 22,
     "metadata": {},
     "output_type": "execute_result"
    }
   ],
   "source": [
    "embedding_model.wv['affesf']"
   ]
  },
  {
   "cell_type": "markdown",
   "id": "d5ba665a",
   "metadata": {
    "papermill": {
     "duration": 0.056138,
     "end_time": "2022-03-31T22:14:46.801746",
     "exception": false,
     "start_time": "2022-03-31T22:14:46.745608",
     "status": "completed"
    },
    "tags": []
   },
   "source": [
    "Observing the space:"
   ]
  },
  {
   "cell_type": "code",
   "execution_count": 23,
   "id": "2bcc5227",
   "metadata": {
    "execution": {
     "iopub.execute_input": "2022-03-31T22:14:46.925098Z",
     "iopub.status.busy": "2022-03-31T22:14:46.922325Z",
     "iopub.status.idle": "2022-03-31T22:14:47.299728Z",
     "shell.execute_reply": "2022-03-31T22:14:47.299150Z",
     "shell.execute_reply.started": "2022-03-31T20:29:31.606374Z"
    },
    "papermill": {
     "duration": 0.440592,
     "end_time": "2022-03-31T22:14:47.299872",
     "exception": false,
     "start_time": "2022-03-31T22:14:46.859280",
     "status": "completed"
    },
    "tags": []
   },
   "outputs": [
    {
     "data": {
      "image/png": "[encoded data removed]",
      "text/plain": [
       "<Figure size 432x288 with 1 Axes>"
      ]
     },
     "metadata": {
      "needs_background": "light"
     },
     "output_type": "display_data"
    }
   ],
   "source": [
    "from sklearn.decomposition import PCA\n",
    "def plot_some_data():\n",
    "    # pick some words to visualise\n",
    "    words = ['Apple','apple','film','washington','comedy','university','wrestling','london','china','microsoft','comic','nintendo',PAD_TOKEN]\n",
    "    \n",
    "    # retrieve the trained embeddings\n",
    "    coords = [embedding_model.wv[word] for word in words]\n",
    "    \n",
    "\n",
    "    # perform PCA to reduce our Nd embeddings to 2d points that can be plotted\n",
    "    pca = PCA(n_components=2)\n",
    "    pca_result = pca.fit_transform(coords) # .t() transpose the embeddings\n",
    "    \n",
    "    for i,(x,y) in enumerate(pca_result):\n",
    "        plt.plot(x, y, 'ro')\n",
    "        plt.text(x, y, words[i], fontsize=12) # add a point label, shifted wrt to the point\n",
    "    plt.title('PCA on Embedding')\n",
    "    plt.show()\n",
    "    \n",
    "plot_some_data()"
   ]
  },
  {
   "cell_type": "code",
   "execution_count": 24,
   "id": "ffa5ddee",
   "metadata": {
    "execution": {
     "iopub.execute_input": "2022-03-31T22:14:47.429978Z",
     "iopub.status.busy": "2022-03-31T22:14:47.426271Z",
     "iopub.status.idle": "2022-03-31T22:14:47.434616Z",
     "shell.execute_reply": "2022-03-31T22:14:47.435025Z",
     "shell.execute_reply.started": "2022-03-31T20:29:31.977135Z"
    },
    "papermill": {
     "duration": 0.074387,
     "end_time": "2022-03-31T22:14:47.435208",
     "exception": false,
     "start_time": "2022-03-31T22:14:47.360821",
     "status": "completed"
    },
    "tags": []
   },
   "outputs": [
    {
     "name": "stdout",
     "output_type": "stream",
     "text": [
      "input_size:  29966 \n",
      "input_length:  41 \n",
      "n_labels:  12 \n",
      "hidden_size:  64\n",
      "\n",
      "dataset train samples:  14534\n",
      "dataset dev samples:  764\n",
      "\n",
      "pad element: <pad>\n",
      "window size: 44\n"
     ]
    }
   ],
   "source": [
    "input_size = len(embedding_model.wv.key_to_index) # how many different words?\n",
    "input_length = max([len(sentence_list) for sentence_list in data_train]) # maximum length of sentence\n",
    "n_labels = len(counts_train.keys())\n",
    "hidden_size = 64 # to choose\n",
    "\n",
    "print('input_size: ', input_size, '\\ninput_length: ', input_length, '\\nn_labels: ', n_labels, '\\nhidden_size: ', hidden_size)\n",
    "print()\n",
    "print('dataset train samples: ', len(data_train))\n",
    "print('dataset dev samples: ', len(data_dev))\n",
    "print()\n",
    "print('pad element:', PAD_TOKEN)\n",
    "print('window size:', window_size)"
   ]
  },
  {
   "cell_type": "markdown",
   "id": "f68cc73d",
   "metadata": {
    "papermill": {
     "duration": 0.055507,
     "end_time": "2022-03-31T22:14:47.546731",
     "exception": false,
     "start_time": "2022-03-31T22:14:47.491224",
     "status": "completed"
    },
    "tags": []
   },
   "source": [
    "# Dataset preprocessing"
   ]
  },
  {
   "cell_type": "markdown",
   "id": "c3c76bd8",
   "metadata": {
    "papermill": {
     "duration": 0.055431,
     "end_time": "2022-03-31T22:14:47.658180",
     "exception": false,
     "start_time": "2022-03-31T22:14:47.602749",
     "status": "completed"
    },
    "tags": []
   },
   "source": [
    "- Create window(s) from each sentence (e.g. window_size = window_shift = 3, None is used as \\<pad\\> for preprocessing here):<br>\n",
    "[[\"this\",\"place\",\"is\"],[\"very\",\"cold\",\"and\"],[\"dark\",None,None], ...]<br>\n",
    "Do this also for the labels.\n",
    "- Encode each text using the vocabulary and the label indexes<br>\n",
    "Labels have also the tag -1 for padding, while the sentences have both \\<pad\\> and \\<unk\\>\n",
    "- Train"
   ]
  },
  {
   "cell_type": "code",
   "execution_count": 25,
   "id": "bcbbfcf1",
   "metadata": {
    "execution": {
     "iopub.execute_input": "2022-03-31T22:14:47.915216Z",
     "iopub.status.busy": "2022-03-31T22:14:47.914555Z",
     "iopub.status.idle": "2022-03-31T22:14:48.761482Z",
     "shell.execute_reply": "2022-03-31T22:14:48.760950Z",
     "shell.execute_reply.started": "2022-03-31T20:29:32.022000Z"
    },
    "papermill": {
     "duration": 0.909217,
     "end_time": "2022-03-31T22:14:48.761616",
     "exception": false,
     "start_time": "2022-03-31T22:14:47.852399",
     "status": "completed"
    },
    "scrolled": true,
    "tags": []
   },
   "outputs": [],
   "source": [
    "dataset_train = NERDataset(data_train_path, window_size, PAD_TOKEN)\n",
    "dataset_dev = NERDataset(data_dev_path, window_size, PAD_TOKEN)"
   ]
  },
  {
   "cell_type": "code",
   "execution_count": 26,
   "id": "6ff84257",
   "metadata": {
    "execution": {
     "iopub.execute_input": "2022-03-31T22:14:48.914385Z",
     "iopub.status.busy": "2022-03-31T22:14:48.909023Z",
     "iopub.status.idle": "2022-03-31T22:14:50.482420Z",
     "shell.execute_reply": "2022-03-31T22:14:50.482942Z",
     "shell.execute_reply.started": "2022-03-31T20:29:32.979451Z"
    },
    "papermill": {
     "duration": 1.665091,
     "end_time": "2022-03-31T22:14:50.483227",
     "exception": false,
     "start_time": "2022-03-31T22:14:48.818136",
     "status": "completed"
    },
    "scrolled": true,
    "tags": []
   },
   "outputs": [
    {
     "data": {
      "text/plain": [
       "{'inputs': ['it',\n",
       "  'lies',\n",
       "  'approximately',\n",
       "  'north',\n",
       "  'east',\n",
       "  'of',\n",
       "  'bolesławiec',\n",
       "  ',',\n",
       "  'and',\n",
       "  'west',\n",
       "  'of',\n",
       "  'the',\n",
       "  'regional',\n",
       "  'capital',\n",
       "  'wrocław',\n",
       "  '.',\n",
       "  '<pad>',\n",
       "  '<pad>',\n",
       "  '<pad>',\n",
       "  '<pad>',\n",
       "  '<pad>',\n",
       "  '<pad>',\n",
       "  '<pad>',\n",
       "  '<pad>',\n",
       "  '<pad>',\n",
       "  '<pad>',\n",
       "  '<pad>',\n",
       "  '<pad>',\n",
       "  '<pad>',\n",
       "  '<pad>',\n",
       "  '<pad>',\n",
       "  '<pad>',\n",
       "  '<pad>',\n",
       "  '<pad>',\n",
       "  '<pad>',\n",
       "  '<pad>',\n",
       "  '<pad>',\n",
       "  '<pad>',\n",
       "  '<pad>',\n",
       "  '<pad>',\n",
       "  '<pad>',\n",
       "  '<pad>',\n",
       "  '<pad>',\n",
       "  '<pad>'],\n",
       " 'outputs': [12,\n",
       "  12,\n",
       "  12,\n",
       "  12,\n",
       "  12,\n",
       "  12,\n",
       "  3,\n",
       "  12,\n",
       "  12,\n",
       "  12,\n",
       "  12,\n",
       "  12,\n",
       "  12,\n",
       "  12,\n",
       "  3,\n",
       "  12,\n",
       "  -1,\n",
       "  -1,\n",
       "  -1,\n",
       "  -1,\n",
       "  -1,\n",
       "  -1,\n",
       "  -1,\n",
       "  -1,\n",
       "  -1,\n",
       "  -1,\n",
       "  -1,\n",
       "  -1,\n",
       "  -1,\n",
       "  -1,\n",
       "  -1,\n",
       "  -1,\n",
       "  -1,\n",
       "  -1,\n",
       "  -1,\n",
       "  -1,\n",
       "  -1,\n",
       "  -1,\n",
       "  -1,\n",
       "  -1,\n",
       "  -1,\n",
       "  -1,\n",
       "  -1,\n",
       "  -1]}"
      ]
     },
     "execution_count": 26,
     "metadata": {},
     "output_type": "execute_result"
    }
   ],
   "source": [
    "dataset_train.encoded_data[0]"
   ]
  },
  {
   "cell_type": "code",
   "execution_count": 27,
   "id": "bec63b6a",
   "metadata": {
    "execution": {
     "iopub.execute_input": "2022-03-31T22:14:50.796515Z",
     "iopub.status.busy": "2022-03-31T22:14:50.791340Z",
     "iopub.status.idle": "2022-03-31T22:14:51.971471Z",
     "shell.execute_reply": "2022-03-31T22:14:51.972104Z",
     "shell.execute_reply.started": "2022-03-31T20:29:34.731337Z"
    },
    "papermill": {
     "duration": 1.351599,
     "end_time": "2022-03-31T22:14:51.972326",
     "exception": false,
     "start_time": "2022-03-31T22:14:50.620727",
     "status": "completed"
    },
    "scrolled": true,
    "tags": []
   },
   "outputs": [
    {
     "data": {
      "text/plain": [
       "{'inputs': ['on',\n",
       "  'the',\n",
       "  'day',\n",
       "  'of',\n",
       "  'the',\n",
       "  'referendum',\n",
       "  'michael',\n",
       "  'ashcroft',\n",
       "  'polling',\n",
       "  'team',\n",
       "  'questioned',\n",
       "  '12,369',\n",
       "  'people',\n",
       "  'who',\n",
       "  'had',\n",
       "  'completed',\n",
       "  'voting',\n",
       "  '.',\n",
       "  '<pad>',\n",
       "  '<pad>',\n",
       "  '<pad>',\n",
       "  '<pad>',\n",
       "  '<pad>',\n",
       "  '<pad>',\n",
       "  '<pad>',\n",
       "  '<pad>',\n",
       "  '<pad>',\n",
       "  '<pad>',\n",
       "  '<pad>',\n",
       "  '<pad>',\n",
       "  '<pad>',\n",
       "  '<pad>',\n",
       "  '<pad>',\n",
       "  '<pad>',\n",
       "  '<pad>',\n",
       "  '<pad>',\n",
       "  '<pad>',\n",
       "  '<pad>',\n",
       "  '<pad>',\n",
       "  '<pad>',\n",
       "  '<pad>',\n",
       "  '<pad>',\n",
       "  '<pad>',\n",
       "  '<pad>'],\n",
       " 'outputs': [12,\n",
       "  12,\n",
       "  12,\n",
       "  12,\n",
       "  12,\n",
       "  12,\n",
       "  4,\n",
       "  10,\n",
       "  12,\n",
       "  12,\n",
       "  12,\n",
       "  12,\n",
       "  12,\n",
       "  12,\n",
       "  12,\n",
       "  12,\n",
       "  12,\n",
       "  12,\n",
       "  -1,\n",
       "  -1,\n",
       "  -1,\n",
       "  -1,\n",
       "  -1,\n",
       "  -1,\n",
       "  -1,\n",
       "  -1,\n",
       "  -1,\n",
       "  -1,\n",
       "  -1,\n",
       "  -1,\n",
       "  -1,\n",
       "  -1,\n",
       "  -1,\n",
       "  -1,\n",
       "  -1,\n",
       "  -1,\n",
       "  -1,\n",
       "  -1,\n",
       "  -1,\n",
       "  -1,\n",
       "  -1,\n",
       "  -1,\n",
       "  -1,\n",
       "  -1]}"
      ]
     },
     "execution_count": 27,
     "metadata": {},
     "output_type": "execute_result"
    }
   ],
   "source": [
    "dataset_dev.encoded_data[0]"
   ]
  },
  {
   "cell_type": "code",
   "execution_count": 28,
   "id": "66ff1a51",
   "metadata": {},
   "outputs": [
    {
     "name": "stderr",
     "output_type": "stream",
     "text": [
      "/home/marco/miniconda3/envs/nlp2022-hw1/lib/python3.9/site-packages/numpy/lib/npyio.py:528: VisibleDeprecationWarning: Creating an ndarray from ragged nested sequences (which is a list-or-tuple of lists-or-tuples-or ndarrays with different lengths or shapes) is deprecated. If you meant to do this, you must specify 'dtype=object' when creating the ndarray.\n",
      "  arr = np.asanyarray(arr)\n"
     ]
    }
   ],
   "source": [
    "dataset_train.save_labels(os.path.join(models_saves_path, 'dataset_labels.npy'))"
   ]
  },
  {
   "cell_type": "code",
   "execution_count": 29,
   "id": "08de9ff6",
   "metadata": {
    "execution": {
     "iopub.execute_input": "2022-03-31T22:14:52.391104Z",
     "iopub.status.busy": "2022-03-31T22:14:52.390396Z",
     "iopub.status.idle": "2022-03-31T22:14:52.393529Z",
     "shell.execute_reply": "2022-03-31T22:14:52.393959Z",
     "shell.execute_reply.started": "2022-03-31T20:29:36.093036Z"
    },
    "papermill": {
     "duration": 0.214332,
     "end_time": "2022-03-31T22:14:52.394111",
     "exception": false,
     "start_time": "2022-03-31T22:14:52.179779",
     "status": "completed"
    },
    "tags": []
   },
   "outputs": [
    {
     "data": {
      "text/plain": [
       "({'B-CORP': 0,\n",
       "  'B-CW': 1,\n",
       "  'B-GRP': 2,\n",
       "  'B-LOC': 3,\n",
       "  'B-PER': 4,\n",
       "  'B-PROD': 5,\n",
       "  'I-CORP': 6,\n",
       "  'I-CW': 7,\n",
       "  'I-GRP': 8,\n",
       "  'I-LOC': 9,\n",
       "  'I-PER': 10,\n",
       "  'I-PROD': 11,\n",
       "  'O': 12},\n",
       " {'B-CORP': 0,\n",
       "  'B-CW': 1,\n",
       "  'B-GRP': 2,\n",
       "  'B-LOC': 3,\n",
       "  'B-PER': 4,\n",
       "  'B-PROD': 5,\n",
       "  'I-CORP': 6,\n",
       "  'I-CW': 7,\n",
       "  'I-GRP': 8,\n",
       "  'I-LOC': 9,\n",
       "  'I-PER': 10,\n",
       "  'I-PROD': 11,\n",
       "  'O': 12})"
      ]
     },
     "execution_count": 29,
     "metadata": {},
     "output_type": "execute_result"
    }
   ],
   "source": [
    "dataset_train.label2id , dataset_dev.label2id"
   ]
  },
  {
   "cell_type": "markdown",
   "id": "7ec97b88",
   "metadata": {
    "papermill": {
     "duration": 0.196716,
     "end_time": "2022-03-31T22:14:52.785982",
     "exception": false,
     "start_time": "2022-03-31T22:14:52.589266",
     "status": "completed"
    },
    "tags": []
   },
   "source": [
    "# The Model"
   ]
  },
  {
   "cell_type": "code",
   "execution_count": 30,
   "id": "785635d3",
   "metadata": {
    "execution": {
     "iopub.execute_input": "2022-03-31T22:14:53.190074Z",
     "iopub.status.busy": "2022-03-31T22:14:53.189008Z",
     "iopub.status.idle": "2022-03-31T22:14:53.193037Z",
     "shell.execute_reply": "2022-03-31T22:14:53.192571Z",
     "shell.execute_reply.started": "2022-03-31T20:29:36.103925Z"
    },
    "papermill": {
     "duration": 0.207508,
     "end_time": "2022-03-31T22:14:53.193162",
     "exception": false,
     "start_time": "2022-03-31T22:14:52.985654",
     "status": "completed"
    },
    "tags": []
   },
   "outputs": [],
   "source": [
    "from typing import List\n",
    "\n",
    "class Model:\n",
    "    def predict(self, tokens: List[List[str]]) -> List[List[str]]:\n",
    "        \"\"\"\n",
    "        A simple wrapper for your model\n",
    "\n",
    "        Args:\n",
    "            tokens: list of list of strings. The outer list represents the sentences, the inner one the tokens contained\n",
    "            within it. Ex: [ [\"This\", \"is\", \"the\", \"first\", \"homework\"], [\"Barack\", \"Obama\", \"was\", \"elected\"] ]\n",
    "\n",
    "        Returns:\n",
    "            list of list of predictions associated to each token in the respective position.\n",
    "            Ex: Ex: [ [\"O\", \"O\", \"O\", \"O\", \"O\"], [\"PER\", \"PER\", \"O\", \"O\"] ]\n",
    "\n",
    "        \"\"\"\n",
    "        raise NotImplementedError"
   ]
  },
  {
   "cell_type": "markdown",
   "id": "c7903bc9",
   "metadata": {
    "papermill": {
     "duration": 0.193582,
     "end_time": "2022-03-31T22:14:53.581957",
     "exception": false,
     "start_time": "2022-03-31T22:14:53.388375",
     "status": "completed"
    },
    "tags": []
   },
   "source": [
    "The code below will be the model that will be put in 'model/' folder.<br>\n",
    "The embedding in this case is the gensim model FastText itself:"
   ]
  },
  {
   "cell_type": "code",
   "execution_count": 31,
   "id": "3bfc83f4",
   "metadata": {
    "execution": {
     "iopub.execute_input": "2022-03-31T22:14:53.990854Z",
     "iopub.status.busy": "2022-03-31T22:14:53.990169Z",
     "iopub.status.idle": "2022-03-31T22:14:53.994819Z",
     "shell.execute_reply": "2022-03-31T22:14:53.994220Z",
     "shell.execute_reply.started": "2022-03-31T20:29:36.115666Z"
    },
    "papermill": {
     "duration": 0.21805,
     "end_time": "2022-03-31T22:14:53.994957",
     "exception": false,
     "start_time": "2022-03-31T22:14:53.776907",
     "status": "completed"
    },
    "tags": []
   },
   "outputs": [
    {
     "name": "stdout",
     "output_type": "stream",
     "text": [
      "Overwriting ../../model/test1/NERNet.py\n"
     ]
    }
   ],
   "source": [
    "%%writefile ../../model/test1/NERNet.py\n",
    "\n",
    "import torch.nn as nn\n",
    "import torch\n",
    "import numpy as np\n",
    "\n",
    "from NERDataset import NERDataset, PAD_TOKEN, window_size, window_shift\n",
    "\n",
    "class NERNet(nn.Module):\n",
    "    def __init__(self, gensim_embedding, output_size, hidden_size = 128, device = 'cpu'):\n",
    "        super(NERNet, self).__init__()\n",
    "        \n",
    "        bidirectional = True\n",
    "        lstm1_layers = 2\n",
    "        lstm1_dropout = 0.2 if lstm1_layers > 1 else 0\n",
    "        hidden_size_classifier = hidden_size*2 if bidirectional else hidden_size\n",
    "        self.device = device\n",
    "        \n",
    "        self.embedding = gensim_embedding.wv\n",
    "        \n",
    "        self.seq_encoder = nn.LSTM(\n",
    "            input_size=gensim_embedding.vector_size, \n",
    "            hidden_size=hidden_size, \n",
    "            bidirectional=bidirectional, \n",
    "            num_layers=lstm1_layers, \n",
    "            dropout=lstm1_dropout\n",
    "        ) \n",
    "        # self.lstm = nn.LSTM(input_size=hidden_size, hidden_size=hidden_size, dropout=0.48)\n",
    "        # self.dropout = nn.Dropout(0.4)\n",
    "        \n",
    "        self.classifier = nn.Linear(hidden_size_classifier, output_size)\n",
    "        \n",
    "    def forward(self, x):\n",
    "        for i in range(len(x)):\n",
    "            x[i] = self.embedding[x[i]]\n",
    "        x = torch.tensor(x).to(self.device)\n",
    "        x, (h, c) = self.seq_encoder(x)\n",
    "        # x = self.dropout(x)\n",
    "        x = self.classifier(x)\n",
    "        return x\n",
    "        \n",
    "    def predict(self, tokens):\n",
    "        \"\"\"\n",
    "        Args:\n",
    "            tokens: list of list of strings. The outer list represents the sentences, the inner one the tokens contained\n",
    "            within it. Ex: [ [\"This\", \"is\", \"the\", \"first\", \"homework\"], [\"Barack\", \"Obama\", \"was\", \"elected\"] ]\n",
    "        Returns:\n",
    "            list of list of predictions associated to each token in the respective position.\n",
    "            Ex: Ex: [ [\"O\", \"O\", \"O\", \"O\", \"O\"], [\"PER\", \"PER\", \"O\", \"O\"] ]\n",
    "        \"\"\"\n",
    "        self.eval() # dropout to 0\n",
    "        self.to(self.device)\n",
    "\n",
    "        predictions = []\n",
    "\n",
    "        with torch.no_grad():\n",
    "            for sentence in tokens:\n",
    "                windowed_sentence = NERDataset.generate_windows([sentence], window_size, window_size, pad_element = PAD_TOKEN)\n",
    "                inputs = np.array(windowed_sentence)\n",
    "                inputs = inputs.transpose( (1,0) ).tolist()\n",
    "                y_pred = self.get_indices( self(inputs) ).transpose(0,1)\n",
    "                y_pred = y_pred.reshape(-1).cpu().numpy().tolist()[:len(sentence)]\n",
    "                predictions.append( y_pred )\n",
    "                \n",
    "        return predictions\n",
    "\n",
    "    def get_indices(self, torch_outputs):\n",
    "        \"\"\"\n",
    "        Args:\n",
    "            torch_outputs (Tensor): a Tensor with shape (batch_size, max_len, label_vocab_size) or (max_len, batch_size, label_vocab_size) containing the logits outputed by the neural network.\n",
    "        Output:\n",
    "            The method returns a tensor.\n",
    "        \"\"\"\n",
    "        max_indices = torch.argmax(torch_outputs, -1) # resulting shape = (batch_size, max_len)\n",
    "        return max_indices\n",
    "    \n",
    "    def load_weights(self, path):\n",
    "        self.load_state_dict(torch.load(path, map_location=self.device))\n",
    "        self.eval()\n",
    "    \n",
    "    def save_weights(self, path):\n",
    "        torch.save(self.state_dict(), path)"
   ]
  },
  {
   "cell_type": "code",
   "execution_count": 32,
   "id": "5ececa71",
   "metadata": {},
   "outputs": [],
   "source": [
    "from NERNet import NERNet"
   ]
  },
  {
   "cell_type": "code",
   "execution_count": 33,
   "id": "eb5f9b85",
   "metadata": {
    "execution": {
     "iopub.execute_input": "2022-03-31T22:14:54.400997Z",
     "iopub.status.busy": "2022-03-31T22:14:54.400356Z",
     "iopub.status.idle": "2022-03-31T22:14:54.425182Z",
     "shell.execute_reply": "2022-03-31T22:14:54.424723Z",
     "shell.execute_reply.started": "2022-03-31T20:29:36.136002Z"
    },
    "papermill": {
     "duration": 0.22641,
     "end_time": "2022-03-31T22:14:54.425358",
     "exception": false,
     "start_time": "2022-03-31T22:14:54.198948",
     "status": "completed"
    },
    "tags": []
   },
   "outputs": [],
   "source": [
    "model = NERNet(gensim_embedding=embedding_model, output_size=len(dataset_train.id2label), device=device)"
   ]
  },
  {
   "cell_type": "code",
   "execution_count": 34,
   "id": "60bbf654",
   "metadata": {
    "execution": {
     "iopub.execute_input": "2022-03-31T22:14:54.822017Z",
     "iopub.status.busy": "2022-03-31T22:14:54.821056Z",
     "iopub.status.idle": "2022-03-31T22:14:54.823436Z",
     "shell.execute_reply": "2022-03-31T22:14:54.823882Z",
     "shell.execute_reply.started": "2022-03-31T20:29:36.184601Z"
    },
    "papermill": {
     "duration": 0.20449,
     "end_time": "2022-03-31T22:14:54.824045",
     "exception": false,
     "start_time": "2022-03-31T22:14:54.619555",
     "status": "completed"
    },
    "tags": []
   },
   "outputs": [
    {
     "name": "stdout",
     "output_type": "stream",
     "text": [
      "Loading weights...\n",
      "Loaded\n"
     ]
    }
   ],
   "source": [
    "if load_model:\n",
    "    print('Loading weights...')\n",
    "    model.load_weights(os.path.join(models_saves_path, 'nernet_weights.pth'))\n",
    "    print('Loaded')"
   ]
  },
  {
   "cell_type": "markdown",
   "id": "6e58b039",
   "metadata": {
    "papermill": {
     "duration": 0.326497,
     "end_time": "2022-03-31T22:14:55.381233",
     "exception": false,
     "start_time": "2022-03-31T22:14:55.054736",
     "status": "completed"
    },
    "tags": []
   },
   "source": [
    "# Training Phase"
   ]
  },
  {
   "cell_type": "code",
   "execution_count": 35,
   "id": "061f0fb5",
   "metadata": {
    "execution": {
     "iopub.execute_input": "2022-03-31T22:14:55.865999Z",
     "iopub.status.busy": "2022-03-31T22:14:55.865007Z",
     "iopub.status.idle": "2022-03-31T22:14:55.866999Z",
     "shell.execute_reply": "2022-03-31T22:14:55.867492Z",
     "shell.execute_reply.started": "2022-03-31T20:29:36.192347Z"
    },
    "papermill": {
     "duration": 0.204115,
     "end_time": "2022-03-31T22:14:55.867667",
     "exception": false,
     "start_time": "2022-03-31T22:14:55.663552",
     "status": "completed"
    },
    "tags": []
   },
   "outputs": [],
   "source": [
    "BATCH_SIZE = 32\n",
    "EPOCHS = 200"
   ]
  },
  {
   "cell_type": "markdown",
   "id": "fa2a794f",
   "metadata": {
    "papermill": {
     "duration": 0.198494,
     "end_time": "2022-03-31T22:14:56.262879",
     "exception": false,
     "start_time": "2022-03-31T22:14:56.064385",
     "status": "completed"
    },
    "tags": []
   },
   "source": [
    "Generating the Dataloader:"
   ]
  },
  {
   "cell_type": "code",
   "execution_count": 36,
   "id": "5197bedb",
   "metadata": {
    "execution": {
     "iopub.execute_input": "2022-03-31T22:14:56.662765Z",
     "iopub.status.busy": "2022-03-31T22:14:56.661814Z",
     "iopub.status.idle": "2022-03-31T22:14:56.663623Z",
     "shell.execute_reply": "2022-03-31T22:14:56.664069Z",
     "shell.execute_reply.started": "2022-03-31T20:29:36.203830Z"
    },
    "papermill": {
     "duration": 0.2055,
     "end_time": "2022-03-31T22:14:56.664253",
     "exception": false,
     "start_time": "2022-03-31T22:14:56.458753",
     "status": "completed"
    },
    "tags": []
   },
   "outputs": [],
   "source": [
    "from torch.utils.data import DataLoader\n",
    "\n",
    "dataloader_train = DataLoader(dataset_train, batch_size=BATCH_SIZE, shuffle=True)\n",
    "dataloader_dev = DataLoader(dataset_dev, batch_size=BATCH_SIZE, shuffle=False)"
   ]
  },
  {
   "cell_type": "code",
   "execution_count": 37,
   "id": "1a9de416",
   "metadata": {
    "execution": {
     "iopub.execute_input": "2022-03-31T22:14:57.065083Z",
     "iopub.status.busy": "2022-03-31T22:14:57.064510Z",
     "iopub.status.idle": "2022-03-31T22:14:57.082805Z",
     "shell.execute_reply": "2022-03-31T22:14:57.082242Z",
     "shell.execute_reply.started": "2022-03-31T20:29:36.216587Z"
    },
    "papermill": {
     "duration": 0.222557,
     "end_time": "2022-03-31T22:14:57.082942",
     "exception": false,
     "start_time": "2022-03-31T22:14:56.860385",
     "status": "completed"
    },
    "tags": []
   },
   "outputs": [
    {
     "data": {
      "text/plain": [
       "(44, 32)"
      ]
     },
     "execution_count": 37,
     "metadata": {},
     "output_type": "execute_result"
    }
   ],
   "source": [
    "for x in dataloader_train:\n",
    "    generic_element = x\n",
    "    break\n",
    "np.array(generic_element['inputs']).shape # (window_size, batch_size)"
   ]
  },
  {
   "cell_type": "markdown",
   "id": "1842c9db",
   "metadata": {
    "papermill": {
     "duration": 0.238463,
     "end_time": "2022-03-31T22:14:57.519837",
     "exception": false,
     "start_time": "2022-03-31T22:14:57.281374",
     "status": "completed"
    },
    "tags": []
   },
   "source": [
    "Using the optimizer:"
   ]
  },
  {
   "cell_type": "code",
   "execution_count": 38,
   "id": "953c0404",
   "metadata": {
    "execution": {
     "iopub.execute_input": "2022-03-31T22:14:57.931921Z",
     "iopub.status.busy": "2022-03-31T22:14:57.930683Z",
     "iopub.status.idle": "2022-03-31T22:14:57.932628Z",
     "shell.execute_reply": "2022-03-31T22:14:57.933062Z",
     "shell.execute_reply.started": "2022-03-31T20:29:36.252147Z"
    },
    "papermill": {
     "duration": 0.21099,
     "end_time": "2022-03-31T22:14:57.933235",
     "exception": false,
     "start_time": "2022-03-31T22:14:57.722245",
     "status": "completed"
    },
    "tags": []
   },
   "outputs": [],
   "source": [
    "import torch.optim as optim\n",
    "\n",
    "loss_function = torch.nn.CrossEntropyLoss(ignore_index=dataset_train.ignore_index) # !\n",
    "optimizer = optim.SGD(model.parameters(), lr=0.0016, momentum=0.9)"
   ]
  },
  {
   "cell_type": "markdown",
   "id": "b2036e60",
   "metadata": {
    "papermill": {
     "duration": 0.195298,
     "end_time": "2022-03-31T22:14:58.323776",
     "exception": false,
     "start_time": "2022-03-31T22:14:58.128478",
     "status": "completed"
    },
    "tags": []
   },
   "source": [
    "This training function was taken and modified from the notebook #5:"
   ]
  },
  {
   "cell_type": "code",
   "execution_count": 52,
   "id": "32322dde",
   "metadata": {
    "execution": {
     "iopub.execute_input": "2022-03-31T22:14:58.728664Z",
     "iopub.status.busy": "2022-03-31T22:14:58.722353Z",
     "iopub.status.idle": "2022-03-31T22:14:58.731515Z",
     "shell.execute_reply": "2022-03-31T22:14:58.730951Z",
     "shell.execute_reply.started": "2022-03-31T20:29:36.259144Z"
    },
    "papermill": {
     "duration": 0.214129,
     "end_time": "2022-03-31T22:14:58.731653",
     "exception": false,
     "start_time": "2022-03-31T22:14:58.517524",
     "status": "completed"
    },
    "tags": []
   },
   "outputs": [],
   "source": [
    "def train_and_evaluate(\n",
    "    model: torch.nn.Module,\n",
    "    loss_function,\n",
    "    optimizer: torch.optim.Optimizer,\n",
    "    train_dataloader: DataLoader,\n",
    "    valid_dataloader: DataLoader = None,\n",
    "    epochs: int = 5,\n",
    "    verbose: bool = True,\n",
    "    device = 'cpu'\n",
    "):\n",
    "\n",
    "    train_history = []\n",
    "    valid_history = []\n",
    "    \n",
    "    model.to(device)\n",
    "\n",
    "    for epoch in range(epochs):\n",
    "        losses = []\n",
    "        \n",
    "        model.train()\n",
    "\n",
    "        # batches of the training set\n",
    "        for step, sample in enumerate(train_dataloader):\n",
    "            inputs = sample['inputs']\n",
    "            labels = torch.stack( sample['outputs'] )\n",
    "            \n",
    "            optimizer.zero_grad()\n",
    "            predictions = model(inputs)\n",
    "            \n",
    "            predictions = predictions.view(-1, predictions.shape[-1]).to(device)\n",
    "            \n",
    "            labels = labels.view(-1).to(device) # [[1,2,3], [5,3,7]] -> [1,2,3,5,3,7]\n",
    "            \n",
    "            sample_loss = loss_function(predictions, labels)\n",
    "            sample_loss.backward()\n",
    "            optimizer.step()\n",
    "            losses.append(sample_loss.item())\n",
    "            \n",
    "\n",
    "        mean_loss = sum(losses) / len(losses)\n",
    "        train_history.append(mean_loss)\n",
    "        \n",
    "        if verbose or epoch == epochs - 1:\n",
    "            print(f'  Epoch {epoch:3d} => avg_loss: {mean_loss:0.6f}')\n",
    "        \n",
    "        if valid_dataloader:\n",
    "            valid_loss = evaluate(model, valid_dataloader, loss_function, device)\n",
    "            valid_history.append(valid_loss)\n",
    "            if verbose:\n",
    "                print(f'    Validation avg_loss => {valid_loss:0.6f}')\n",
    "                print()\n",
    "                \n",
    "        ''''''\n",
    "    return {'train_history':train_history, 'valid_history':valid_history}\n",
    "\n",
    "def evaluate(model, valid_dataset, loss_function, device):\n",
    "    valid_loss = 0.0\n",
    "    model.to(device)\n",
    "    # set dropout to 0!! Needed when we are in inference mode.\n",
    "    model.eval()\n",
    "    with torch.no_grad():\n",
    "        for sample in valid_dataset:\n",
    "            inputs = sample['inputs']\n",
    "            labels = torch.stack( sample['outputs'] )\n",
    "\n",
    "            predictions = model(inputs)\n",
    "            predictions = predictions.view(-1, predictions.shape[-1]).to(device)\n",
    "            labels = labels.view(-1).to(device)\n",
    "            sample_loss = loss_function(predictions, labels)\n",
    "            valid_loss += sample_loss.tolist()\n",
    "\n",
    "    return valid_loss / len(valid_dataset)"
   ]
  },
  {
   "cell_type": "code",
   "execution_count": 38,
   "id": "f71ff20d",
   "metadata": {
    "execution": {
     "iopub.execute_input": "2022-03-31T22:14:59.177230Z",
     "iopub.status.busy": "2022-03-31T22:14:59.176272Z",
     "iopub.status.idle": "2022-03-31T23:43:54.623282Z",
     "shell.execute_reply": "2022-03-31T23:43:54.623879Z",
     "shell.execute_reply.started": "2022-03-31T20:29:36.278255Z"
    },
    "papermill": {
     "duration": 5335.697332,
     "end_time": "2022-03-31T23:43:54.624051",
     "exception": false,
     "start_time": "2022-03-31T22:14:58.926719",
     "status": "completed"
    },
    "scrolled": true,
    "tags": []
   },
   "outputs": [
    {
     "name": "stdout",
     "output_type": "stream",
     "text": [
      "  Epoch   0 => avg_loss: 1.244432\n",
      "    Validation avg_loss => 0.983151\n",
      "\n",
      "  Epoch   1 => avg_loss: 0.981513\n",
      "    Validation avg_loss => 0.975432\n",
      "\n",
      "  Epoch   2 => avg_loss: 0.976420\n",
      "    Validation avg_loss => 0.970761\n",
      "\n",
      "  Epoch   3 => avg_loss: 0.971461\n",
      "    Validation avg_loss => 0.967228\n",
      "\n",
      "  Epoch   4 => avg_loss: 0.968939\n",
      "    Validation avg_loss => 0.964112\n",
      "\n",
      "  Epoch   5 => avg_loss: 0.966641\n",
      "    Validation avg_loss => 0.960901\n",
      "\n",
      "  Epoch   6 => avg_loss: 0.962516\n",
      "    Validation avg_loss => 0.957320\n",
      "\n",
      "  Epoch   7 => avg_loss: 0.957708\n",
      "    Validation avg_loss => 0.953051\n",
      "\n",
      "  Epoch   8 => avg_loss: 0.953968\n",
      "    Validation avg_loss => 0.947846\n",
      "\n",
      "  Epoch   9 => avg_loss: 0.947456\n",
      "    Validation avg_loss => 0.941456\n",
      "\n",
      "  Epoch  10 => avg_loss: 0.941052\n",
      "    Validation avg_loss => 0.934092\n",
      "\n",
      "  Epoch  11 => avg_loss: 0.933708\n",
      "    Validation avg_loss => 0.926184\n",
      "\n",
      "  Epoch  12 => avg_loss: 0.926019\n",
      "    Validation avg_loss => 0.918551\n",
      "\n",
      "  Epoch  13 => avg_loss: 0.918422\n",
      "    Validation avg_loss => 0.911555\n",
      "\n",
      "  Epoch  14 => avg_loss: 0.911889\n",
      "    Validation avg_loss => 0.904773\n",
      "\n",
      "  Epoch  15 => avg_loss: 0.905457\n",
      "    Validation avg_loss => 0.897921\n",
      "\n",
      "  Epoch  16 => avg_loss: 0.899144\n",
      "    Validation avg_loss => 0.890609\n",
      "\n",
      "  Epoch  17 => avg_loss: 0.892475\n",
      "    Validation avg_loss => 0.883031\n",
      "\n",
      "  Epoch  18 => avg_loss: 0.885128\n",
      "    Validation avg_loss => 0.875410\n",
      "\n",
      "  Epoch  19 => avg_loss: 0.878431\n",
      "    Validation avg_loss => 0.867474\n",
      "\n",
      "  Epoch  20 => avg_loss: 0.871598\n",
      "    Validation avg_loss => 0.859365\n",
      "\n",
      "  Epoch  21 => avg_loss: 0.864229\n",
      "    Validation avg_loss => 0.851140\n",
      "\n",
      "  Epoch  22 => avg_loss: 0.856187\n",
      "    Validation avg_loss => 0.842732\n",
      "\n",
      "  Epoch  23 => avg_loss: 0.849254\n",
      "    Validation avg_loss => 0.834197\n",
      "\n",
      "  Epoch  24 => avg_loss: 0.840296\n",
      "    Validation avg_loss => 0.825429\n",
      "\n",
      "  Epoch  25 => avg_loss: 0.832713\n",
      "    Validation avg_loss => 0.816629\n",
      "\n",
      "  Epoch  26 => avg_loss: 0.824079\n",
      "    Validation avg_loss => 0.807664\n",
      "\n",
      "  Epoch  27 => avg_loss: 0.815852\n",
      "    Validation avg_loss => 0.798683\n",
      "\n",
      "  Epoch  28 => avg_loss: 0.806617\n",
      "    Validation avg_loss => 0.789677\n",
      "\n",
      "  Epoch  29 => avg_loss: 0.799071\n",
      "    Validation avg_loss => 0.780925\n",
      "\n",
      "  Epoch  30 => avg_loss: 0.789590\n",
      "    Validation avg_loss => 0.772434\n",
      "\n",
      "  Epoch  31 => avg_loss: 0.781020\n",
      "    Validation avg_loss => 0.763464\n",
      "\n",
      "  Epoch  32 => avg_loss: 0.773144\n",
      "    Validation avg_loss => 0.754906\n",
      "\n",
      "  Epoch  33 => avg_loss: 0.763285\n",
      "    Validation avg_loss => 0.746085\n",
      "\n",
      "  Epoch  34 => avg_loss: 0.754917\n",
      "    Validation avg_loss => 0.737217\n",
      "\n",
      "  Epoch  35 => avg_loss: 0.746351\n",
      "    Validation avg_loss => 0.728772\n",
      "\n",
      "  Epoch  36 => avg_loss: 0.738378\n",
      "    Validation avg_loss => 0.721063\n",
      "\n",
      "  Epoch  37 => avg_loss: 0.729622\n",
      "    Validation avg_loss => 0.714187\n",
      "\n",
      "  Epoch  38 => avg_loss: 0.723247\n",
      "    Validation avg_loss => 0.707931\n",
      "\n",
      "  Epoch  39 => avg_loss: 0.716036\n",
      "    Validation avg_loss => 0.702389\n",
      "\n",
      "  Epoch  40 => avg_loss: 0.711194\n",
      "    Validation avg_loss => 0.697521\n",
      "\n",
      "  Epoch  41 => avg_loss: 0.706312\n",
      "    Validation avg_loss => 0.693263\n",
      "\n",
      "  Epoch  42 => avg_loss: 0.701521\n",
      "    Validation avg_loss => 0.689291\n",
      "\n",
      "  Epoch  43 => avg_loss: 0.697598\n",
      "    Validation avg_loss => 0.685715\n",
      "\n",
      "  Epoch  44 => avg_loss: 0.693226\n",
      "    Validation avg_loss => 0.681920\n",
      "\n",
      "  Epoch  45 => avg_loss: 0.689277\n",
      "    Validation avg_loss => 0.678628\n",
      "\n",
      "  Epoch  46 => avg_loss: 0.686081\n",
      "    Validation avg_loss => 0.675191\n",
      "\n",
      "  Epoch  47 => avg_loss: 0.681521\n",
      "    Validation avg_loss => 0.671535\n",
      "\n",
      "  Epoch  48 => avg_loss: 0.677868\n",
      "    Validation avg_loss => 0.668875\n",
      "\n",
      "  Epoch  49 => avg_loss: 0.674051\n",
      "    Validation avg_loss => 0.664762\n",
      "\n",
      "  Epoch  50 => avg_loss: 0.670966\n",
      "    Validation avg_loss => 0.662085\n",
      "\n",
      "  Epoch  51 => avg_loss: 0.666523\n",
      "    Validation avg_loss => 0.658119\n",
      "\n",
      "  Epoch  52 => avg_loss: 0.663454\n",
      "    Validation avg_loss => 0.654811\n",
      "\n",
      "  Epoch  53 => avg_loss: 0.659527\n",
      "    Validation avg_loss => 0.651016\n",
      "\n",
      "  Epoch  54 => avg_loss: 0.655399\n",
      "    Validation avg_loss => 0.647801\n",
      "\n",
      "  Epoch  55 => avg_loss: 0.651795\n",
      "    Validation avg_loss => 0.643839\n",
      "\n",
      "  Epoch  56 => avg_loss: 0.647326\n",
      "    Validation avg_loss => 0.639965\n",
      "\n",
      "  Epoch  57 => avg_loss: 0.643593\n",
      "    Validation avg_loss => 0.636346\n",
      "\n",
      "  Epoch  58 => avg_loss: 0.639556\n",
      "    Validation avg_loss => 0.631497\n",
      "\n",
      "  Epoch  59 => avg_loss: 0.635388\n",
      "    Validation avg_loss => 0.627985\n",
      "\n",
      "  Epoch  60 => avg_loss: 0.629784\n",
      "    Validation avg_loss => 0.623026\n",
      "\n",
      "  Epoch  61 => avg_loss: 0.626215\n",
      "    Validation avg_loss => 0.618715\n",
      "\n",
      "  Epoch  62 => avg_loss: 0.621914\n",
      "    Validation avg_loss => 0.615951\n",
      "\n",
      "  Epoch  63 => avg_loss: 0.619207\n",
      "    Validation avg_loss => 0.610839\n",
      "\n",
      "  Epoch  64 => avg_loss: 0.614642\n",
      "    Validation avg_loss => 0.606498\n",
      "\n",
      "  Epoch  65 => avg_loss: 0.610633\n",
      "    Validation avg_loss => 0.603690\n",
      "\n",
      "  Epoch  66 => avg_loss: 0.606815\n",
      "    Validation avg_loss => 0.598882\n",
      "\n",
      "  Epoch  67 => avg_loss: 0.603498\n",
      "    Validation avg_loss => 0.596155\n",
      "\n",
      "  Epoch  68 => avg_loss: 0.599298\n",
      "    Validation avg_loss => 0.592396\n",
      "\n",
      "  Epoch  69 => avg_loss: 0.596417\n",
      "    Validation avg_loss => 0.588835\n",
      "\n",
      "  Epoch  70 => avg_loss: 0.592619\n",
      "    Validation avg_loss => 0.585350\n",
      "\n",
      "  Epoch  71 => avg_loss: 0.589549\n",
      "    Validation avg_loss => 0.584082\n",
      "\n",
      "  Epoch  72 => avg_loss: 0.586779\n",
      "    Validation avg_loss => 0.579727\n",
      "\n",
      "  Epoch  73 => avg_loss: 0.584156\n",
      "    Validation avg_loss => 0.576048\n",
      "\n",
      "  Epoch  74 => avg_loss: 0.580373\n",
      "    Validation avg_loss => 0.575036\n",
      "\n",
      "  Epoch  75 => avg_loss: 0.577686\n",
      "    Validation avg_loss => 0.572406\n",
      "\n",
      "  Epoch  76 => avg_loss: 0.574620\n",
      "    Validation avg_loss => 0.570409\n",
      "\n",
      "  Epoch  77 => avg_loss: 0.572310\n",
      "    Validation avg_loss => 0.564665\n",
      "\n",
      "  Epoch  78 => avg_loss: 0.569565\n",
      "    Validation avg_loss => 0.562993\n",
      "\n",
      "  Epoch  79 => avg_loss: 0.565995\n",
      "    Validation avg_loss => 0.560401\n",
      "\n",
      "  Epoch  80 => avg_loss: 0.563852\n",
      "    Validation avg_loss => 0.556735\n",
      "\n",
      "  Epoch  81 => avg_loss: 0.561212\n",
      "    Validation avg_loss => 0.556692\n",
      "\n",
      "  Epoch  82 => avg_loss: 0.557734\n",
      "    Validation avg_loss => 0.553768\n",
      "\n",
      "  Epoch  83 => avg_loss: 0.555502\n",
      "    Validation avg_loss => 0.550047\n",
      "\n",
      "  Epoch  84 => avg_loss: 0.553291\n",
      "    Validation avg_loss => 0.548557\n",
      "\n",
      "  Epoch  85 => avg_loss: 0.549795\n",
      "    Validation avg_loss => 0.546023\n",
      "\n",
      "  Epoch  86 => avg_loss: 0.547432\n",
      "    Validation avg_loss => 0.543442\n",
      "\n",
      "  Epoch  87 => avg_loss: 0.545084\n",
      "    Validation avg_loss => 0.541406\n",
      "\n",
      "  Epoch  88 => avg_loss: 0.541735\n",
      "    Validation avg_loss => 0.538761\n",
      "\n",
      "  Epoch  89 => avg_loss: 0.539423\n",
      "    Validation avg_loss => 0.536674\n",
      "\n",
      "  Epoch  90 => avg_loss: 0.536973\n",
      "    Validation avg_loss => 0.536954\n",
      "\n",
      "  Epoch  91 => avg_loss: 0.534309\n",
      "    Validation avg_loss => 0.532843\n",
      "\n",
      "  Epoch  92 => avg_loss: 0.531117\n",
      "    Validation avg_loss => 0.529991\n",
      "\n",
      "  Epoch  93 => avg_loss: 0.529535\n",
      "    Validation avg_loss => 0.528019\n",
      "\n",
      "  Epoch  94 => avg_loss: 0.526993\n",
      "    Validation avg_loss => 0.527768\n",
      "\n",
      "  Epoch  95 => avg_loss: 0.524225\n",
      "    Validation avg_loss => 0.523114\n",
      "\n",
      "  Epoch  96 => avg_loss: 0.521789\n",
      "    Validation avg_loss => 0.522522\n",
      "\n",
      "  Epoch  97 => avg_loss: 0.520252\n",
      "    Validation avg_loss => 0.517862\n",
      "\n",
      "  Epoch  98 => avg_loss: 0.517309\n",
      "    Validation avg_loss => 0.519032\n",
      "\n",
      "  Epoch  99 => avg_loss: 0.515649\n",
      "    Validation avg_loss => 0.513757\n",
      "\n",
      "  Epoch 100 => avg_loss: 0.513308\n",
      "    Validation avg_loss => 0.512556\n",
      "\n",
      "  Epoch 101 => avg_loss: 0.511626\n",
      "    Validation avg_loss => 0.514118\n",
      "\n",
      "  Epoch 102 => avg_loss: 0.509127\n",
      "    Validation avg_loss => 0.507991\n",
      "\n",
      "  Epoch 103 => avg_loss: 0.507023\n",
      "    Validation avg_loss => 0.507991\n",
      "\n",
      "  Epoch 104 => avg_loss: 0.505203\n",
      "    Validation avg_loss => 0.507152\n",
      "\n",
      "  Epoch 105 => avg_loss: 0.503287\n",
      "    Validation avg_loss => 0.503291\n",
      "\n",
      "  Epoch 106 => avg_loss: 0.501184\n",
      "    Validation avg_loss => 0.502445\n",
      "\n",
      "  Epoch 107 => avg_loss: 0.498982\n",
      "    Validation avg_loss => 0.497660\n",
      "\n",
      "  Epoch 108 => avg_loss: 0.496417\n",
      "    Validation avg_loss => 0.501597\n",
      "\n",
      "  Epoch 109 => avg_loss: 0.495521\n",
      "    Validation avg_loss => 0.496727\n",
      "\n",
      "  Epoch 110 => avg_loss: 0.493147\n",
      "    Validation avg_loss => 0.495247\n",
      "\n",
      "  Epoch 111 => avg_loss: 0.490398\n",
      "    Validation avg_loss => 0.490315\n",
      "\n",
      "  Epoch 112 => avg_loss: 0.488329\n",
      "    Validation avg_loss => 0.491107\n",
      "\n",
      "  Epoch 113 => avg_loss: 0.488146\n",
      "    Validation avg_loss => 0.487189\n",
      "\n",
      "  Epoch 114 => avg_loss: 0.486080\n",
      "    Validation avg_loss => 0.484451\n",
      "\n",
      "  Epoch 115 => avg_loss: 0.484313\n",
      "    Validation avg_loss => 0.483712\n",
      "\n",
      "  Epoch 116 => avg_loss: 0.482797\n",
      "    Validation avg_loss => 0.484083\n",
      "\n",
      "  Epoch 117 => avg_loss: 0.480887\n",
      "    Validation avg_loss => 0.483317\n",
      "\n",
      "  Epoch 118 => avg_loss: 0.479210\n",
      "    Validation avg_loss => 0.479376\n",
      "\n",
      "  Epoch 119 => avg_loss: 0.476845\n",
      "    Validation avg_loss => 0.477797\n",
      "\n",
      "  Epoch 120 => avg_loss: 0.475016\n",
      "    Validation avg_loss => 0.485126\n",
      "\n",
      "  Epoch 121 => avg_loss: 0.473823\n",
      "    Validation avg_loss => 0.477916\n",
      "\n",
      "  Epoch 122 => avg_loss: 0.471877\n",
      "    Validation avg_loss => 0.472117\n",
      "\n",
      "  Epoch 123 => avg_loss: 0.470896\n",
      "    Validation avg_loss => 0.472159\n",
      "\n",
      "  Epoch 124 => avg_loss: 0.469237\n",
      "    Validation avg_loss => 0.474396\n",
      "\n",
      "  Epoch 125 => avg_loss: 0.467564\n",
      "    Validation avg_loss => 0.476256\n",
      "\n",
      "  Epoch 126 => avg_loss: 0.465123\n",
      "    Validation avg_loss => 0.466849\n",
      "\n",
      "  Epoch 127 => avg_loss: 0.463684\n",
      "    Validation avg_loss => 0.467526\n",
      "\n",
      "  Epoch 128 => avg_loss: 0.462544\n",
      "    Validation avg_loss => 0.463676\n",
      "\n",
      "  Epoch 129 => avg_loss: 0.460996\n",
      "    Validation avg_loss => 0.463455\n",
      "\n",
      "  Epoch 130 => avg_loss: 0.459900\n",
      "    Validation avg_loss => 0.459540\n",
      "\n",
      "  Epoch 131 => avg_loss: 0.457997\n",
      "    Validation avg_loss => 0.463078\n",
      "\n",
      "  Epoch 132 => avg_loss: 0.456610\n",
      "    Validation avg_loss => 0.457838\n",
      "\n",
      "  Epoch 133 => avg_loss: 0.454963\n",
      "    Validation avg_loss => 0.459739\n",
      "\n",
      "  Epoch 134 => avg_loss: 0.453449\n",
      "    Validation avg_loss => 0.456119\n",
      "\n",
      "  Epoch 135 => avg_loss: 0.452223\n",
      "    Validation avg_loss => 0.456605\n",
      "\n",
      "  Epoch 136 => avg_loss: 0.451302\n",
      "    Validation avg_loss => 0.453520\n",
      "\n",
      "  Epoch 137 => avg_loss: 0.449527\n",
      "    Validation avg_loss => 0.452456\n",
      "\n",
      "  Epoch 138 => avg_loss: 0.448001\n",
      "    Validation avg_loss => 0.453065\n",
      "\n",
      "  Epoch 139 => avg_loss: 0.447385\n",
      "    Validation avg_loss => 0.450171\n",
      "\n",
      "  Epoch 140 => avg_loss: 0.446164\n",
      "    Validation avg_loss => 0.447666\n",
      "\n",
      "  Epoch 141 => avg_loss: 0.444233\n",
      "    Validation avg_loss => 0.447640\n",
      "\n",
      "  Epoch 142 => avg_loss: 0.442523\n",
      "    Validation avg_loss => 0.448024\n",
      "\n",
      "  Epoch 143 => avg_loss: 0.441509\n",
      "    Validation avg_loss => 0.447508\n",
      "\n",
      "  Epoch 144 => avg_loss: 0.439902\n",
      "    Validation avg_loss => 0.445612\n",
      "\n",
      "  Epoch 145 => avg_loss: 0.438580\n",
      "    Validation avg_loss => 0.441244\n",
      "\n",
      "  Epoch 146 => avg_loss: 0.438230\n",
      "    Validation avg_loss => 0.444289\n",
      "\n",
      "  Epoch 147 => avg_loss: 0.436317\n",
      "    Validation avg_loss => 0.441513\n",
      "\n",
      "  Epoch 148 => avg_loss: 0.435289\n",
      "    Validation avg_loss => 0.448979\n",
      "\n",
      "  Epoch 149 => avg_loss: 0.434333\n",
      "    Validation avg_loss => 0.442823\n",
      "\n",
      "  Epoch 150 => avg_loss: 0.432275\n",
      "    Validation avg_loss => 0.437801\n",
      "\n",
      "  Epoch 151 => avg_loss: 0.431465\n",
      "    Validation avg_loss => 0.435959\n",
      "\n",
      "  Epoch 152 => avg_loss: 0.430198\n",
      "    Validation avg_loss => 0.435042\n",
      "\n",
      "  Epoch 153 => avg_loss: 0.428893\n",
      "    Validation avg_loss => 0.434906\n",
      "\n",
      "  Epoch 154 => avg_loss: 0.427303\n",
      "    Validation avg_loss => 0.432825\n",
      "\n",
      "  Epoch 155 => avg_loss: 0.425984\n",
      "    Validation avg_loss => 0.433796\n",
      "\n",
      "  Epoch 156 => avg_loss: 0.424991\n",
      "    Validation avg_loss => 0.430955\n",
      "\n",
      "  Epoch 157 => avg_loss: 0.423969\n",
      "    Validation avg_loss => 0.434153\n",
      "\n",
      "  Epoch 158 => avg_loss: 0.425134\n",
      "    Validation avg_loss => 0.429387\n",
      "\n",
      "  Epoch 159 => avg_loss: 0.421852\n",
      "    Validation avg_loss => 0.427868\n",
      "\n",
      "  Epoch 160 => avg_loss: 0.420277\n",
      "    Validation avg_loss => 0.426820\n",
      "\n",
      "  Epoch 161 => avg_loss: 0.420797\n",
      "    Validation avg_loss => 0.430969\n",
      "\n",
      "  Epoch 162 => avg_loss: 0.419083\n",
      "    Validation avg_loss => 0.429961\n",
      "\n",
      "  Epoch 163 => avg_loss: 0.417510\n",
      "    Validation avg_loss => 0.426817\n",
      "\n",
      "  Epoch 164 => avg_loss: 0.417119\n",
      "    Validation avg_loss => 0.423006\n",
      "\n",
      "  Epoch 165 => avg_loss: 0.416705\n",
      "    Validation avg_loss => 0.425498\n",
      "\n",
      "  Epoch 166 => avg_loss: 0.414230\n",
      "    Validation avg_loss => 0.423902\n",
      "\n",
      "  Epoch 167 => avg_loss: 0.412654\n",
      "    Validation avg_loss => 0.420952\n",
      "\n",
      "  Epoch 168 => avg_loss: 0.412288\n",
      "    Validation avg_loss => 0.423810\n",
      "\n",
      "  Epoch 169 => avg_loss: 0.410765\n",
      "    Validation avg_loss => 0.420214\n",
      "\n",
      "  Epoch 170 => avg_loss: 0.410324\n",
      "    Validation avg_loss => 0.418059\n",
      "\n",
      "  Epoch 171 => avg_loss: 0.409335\n",
      "    Validation avg_loss => 0.422518\n",
      "\n",
      "  Epoch 172 => avg_loss: 0.408182\n",
      "    Validation avg_loss => 0.420015\n",
      "\n",
      "  Epoch 173 => avg_loss: 0.406837\n",
      "    Validation avg_loss => 0.416732\n",
      "\n",
      "  Epoch 174 => avg_loss: 0.406292\n",
      "    Validation avg_loss => 0.416365\n",
      "\n",
      "  Epoch 175 => avg_loss: 0.404784\n",
      "    Validation avg_loss => 0.413017\n",
      "\n",
      "  Epoch 176 => avg_loss: 0.403650\n",
      "    Validation avg_loss => 0.418492\n",
      "\n",
      "  Epoch 177 => avg_loss: 0.402673\n",
      "    Validation avg_loss => 0.413039\n",
      "\n",
      "  Epoch 178 => avg_loss: 0.402324\n",
      "    Validation avg_loss => 0.414703\n",
      "\n",
      "  Epoch 179 => avg_loss: 0.401749\n",
      "    Validation avg_loss => 0.412640\n",
      "\n",
      "  Epoch 180 => avg_loss: 0.400384\n",
      "    Validation avg_loss => 0.413479\n",
      "\n",
      "  Epoch 181 => avg_loss: 0.398956\n",
      "    Validation avg_loss => 0.413958\n",
      "\n",
      "  Epoch 182 => avg_loss: 0.397897\n",
      "    Validation avg_loss => 0.413436\n",
      "\n",
      "  Epoch 183 => avg_loss: 0.396771\n",
      "    Validation avg_loss => 0.411185\n",
      "\n",
      "  Epoch 184 => avg_loss: 0.395724\n",
      "    Validation avg_loss => 0.407897\n",
      "\n",
      "  Epoch 185 => avg_loss: 0.395105\n",
      "    Validation avg_loss => 0.405848\n",
      "\n",
      "  Epoch 186 => avg_loss: 0.394508\n",
      "    Validation avg_loss => 0.405714\n",
      "\n",
      "  Epoch 187 => avg_loss: 0.393319\n",
      "    Validation avg_loss => 0.405235\n",
      "\n",
      "  Epoch 188 => avg_loss: 0.391929\n",
      "    Validation avg_loss => 0.406575\n",
      "\n",
      "  Epoch 189 => avg_loss: 0.391747\n",
      "    Validation avg_loss => 0.405875\n",
      "\n",
      "  Epoch 190 => avg_loss: 0.391007\n",
      "    Validation avg_loss => 0.403771\n",
      "\n",
      "  Epoch 191 => avg_loss: 0.390214\n",
      "    Validation avg_loss => 0.404528\n",
      "\n",
      "  Epoch 192 => avg_loss: 0.388601\n",
      "    Validation avg_loss => 0.407376\n",
      "\n",
      "  Epoch 193 => avg_loss: 0.388590\n",
      "    Validation avg_loss => 0.400136\n",
      "\n",
      "  Epoch 194 => avg_loss: 0.387016\n",
      "    Validation avg_loss => 0.402402\n",
      "\n",
      "  Epoch 195 => avg_loss: 0.387638\n",
      "    Validation avg_loss => 0.402804\n",
      "\n",
      "  Epoch 196 => avg_loss: 0.386854\n",
      "    Validation avg_loss => 0.401150\n",
      "\n",
      "  Epoch 197 => avg_loss: 0.385390\n",
      "    Validation avg_loss => 0.398026\n",
      "\n",
      "  Epoch 198 => avg_loss: 0.383846\n",
      "    Validation avg_loss => 0.401060\n",
      "\n",
      "  Epoch 199 => avg_loss: 0.383369\n",
      "    Validation avg_loss => 0.404263\n",
      "\n"
     ]
    }
   ],
   "source": [
    "if train_model:\n",
    "    history = train_and_evaluate(model, loss_function, optimizer, dataloader_train, dataloader_dev, epochs=EPOCHS, verbose=True, device=device)"
   ]
  },
  {
   "cell_type": "markdown",
   "id": "9005bd0e",
   "metadata": {
    "papermill": {
     "duration": 0.260085,
     "end_time": "2022-03-31T23:43:55.147085",
     "exception": false,
     "start_time": "2022-03-31T23:43:54.887000",
     "status": "completed"
    },
    "tags": []
   },
   "source": [
    "# Saving..."
   ]
  },
  {
   "cell_type": "code",
   "execution_count": 39,
   "id": "97df34de",
   "metadata": {
    "execution": {
     "iopub.execute_input": "2022-03-31T23:43:55.687386Z",
     "iopub.status.busy": "2022-03-31T23:43:55.686739Z",
     "iopub.status.idle": "2022-03-31T23:43:55.702630Z",
     "shell.execute_reply": "2022-03-31T23:43:55.702081Z",
     "shell.execute_reply.started": "2022-03-31T22:11:46.659124Z"
    },
    "papermill": {
     "duration": 0.290321,
     "end_time": "2022-03-31T23:43:55.702775",
     "exception": false,
     "start_time": "2022-03-31T23:43:55.412454",
     "status": "completed"
    },
    "tags": []
   },
   "outputs": [],
   "source": [
    "if save_model:\n",
    "    model.save_weights(os.path.join(models_saves_path,'nernet_weights.pth'))"
   ]
  },
  {
   "cell_type": "code",
   "execution_count": 41,
   "id": "61d23eb8",
   "metadata": {
    "execution": {
     "iopub.execute_input": "2022-03-31T23:44:06.618677Z",
     "iopub.status.busy": "2022-03-31T23:44:06.617335Z",
     "iopub.status.idle": "2022-03-31T23:44:06.998690Z",
     "shell.execute_reply": "2022-03-31T23:44:06.998156Z",
     "shell.execute_reply.started": "2022-03-31T22:11:46.664934Z"
    },
    "papermill": {
     "duration": 0.984485,
     "end_time": "2022-03-31T23:44:06.998822",
     "exception": false,
     "start_time": "2022-03-31T23:44:06.014337",
     "status": "completed"
    },
    "tags": []
   },
   "outputs": [
    {
     "data": {
      "image/png": "[encoded data removed]",
      "text/plain": [
       "<Figure size 432x288 with 1 Axes>"
      ]
     },
     "metadata": {
      "needs_background": "light"
     },
     "output_type": "display_data"
    }
   ],
   "source": [
    "import matplotlib.pyplot as plt\n",
    "\n",
    "if train_model:\n",
    "    plt.plot([i for i in range(len(history['train_history']))], history['train_history'], label='train')\n",
    "    plt.plot([i for i in range(len(history['valid_history']))], history['valid_history'], label='validation')\n",
    "    plt.xlabel('epochs')\n",
    "    plt.ylabel('loss')\n",
    "    plt.title('Model learning')\n",
    "    plt.legend()\n",
    "    plt.show()"
   ]
  },
  {
   "cell_type": "markdown",
   "id": "6fe41381",
   "metadata": {},
   "source": [
    "# Evaluating metrics..."
   ]
  },
  {
   "cell_type": "code",
   "execution_count": 40,
   "id": "a7f76dde",
   "metadata": {
    "papermill": {
     "duration": 0.260407,
     "end_time": "2022-03-31T23:44:10.630580",
     "exception": false,
     "start_time": "2022-03-31T23:44:10.370173",
     "status": "completed"
    },
    "tags": []
   },
   "outputs": [],
   "source": [
    "def remove_indices_from_lists(y_pred, y_true, black_list):\n",
    "    '''\n",
    "    Removes from y_pred and y_true the values contained in black_list that matches with y_true\n",
    "    '''\n",
    "    y_pred_refined, y_true_refined = [], []\n",
    "    for p,l in zip(y_pred, y_true):\n",
    "        if l not in black_list:\n",
    "            y_pred_refined.append(p) \n",
    "            y_true_refined.append(l)\n",
    "    return y_pred_refined, y_true_refined\n",
    "\n",
    "def obtain_pred_labels(model, valid_dataset, device):\n",
    "    model.to(device)\n",
    "    model.eval() # dropout to 0\n",
    "\n",
    "    y_true_total = []\n",
    "    y_pred_total = []\n",
    "    \n",
    "    with torch.no_grad():\n",
    "        for sample in valid_dataset:\n",
    "            inputs = sample['inputs']\n",
    "            y_true = torch.stack( sample['outputs'] )\n",
    "\n",
    "            y_pred = model(inputs)\n",
    "            y_pred = model.get_indices(y_pred)\n",
    "            \n",
    "            y_pred_total.append(y_pred.view(-1))\n",
    "            y_true_total.append(y_true.view(-1))\n",
    "\n",
    "    y_pred, y_true = torch.cat(y_pred_total, dim=0).cpu().numpy(), torch.cat(y_true_total, dim=0).cpu().numpy()\n",
    "    y_pred, y_true = remove_indices_from_lists(y_pred, y_true, [-1])\n",
    "    return y_pred, y_true"
   ]
  },
  {
   "cell_type": "code",
   "execution_count": 41,
   "id": "cbfedfd4",
   "metadata": {},
   "outputs": [],
   "source": [
    "y_pred, y_true = obtain_pred_labels(model, dataloader_dev, device)"
   ]
  },
  {
   "cell_type": "code",
   "execution_count": 263,
   "id": "27aba241",
   "metadata": {},
   "outputs": [
    {
     "name": "stdout",
     "output_type": "stream",
     "text": [
      "              precision    recall  f1-score   support\n",
      "\n",
      "      B-CORP       0.59      0.33      0.43       133\n",
      "        B-CW       0.53      0.16      0.25       170\n",
      "       B-GRP       0.76      0.41      0.53       189\n",
      "       B-LOC       0.67      0.56      0.61       243\n",
      "       B-PER       0.73      0.71      0.72       300\n",
      "      B-PROD       0.47      0.11      0.17       149\n",
      "      I-CORP       0.54      0.36      0.43       119\n",
      "        I-CW       0.56      0.34      0.42       261\n",
      "       I-GRP       0.78      0.53      0.63       376\n",
      "       I-LOC       0.60      0.49      0.54       153\n",
      "       I-PER       0.75      0.74      0.74       329\n",
      "      I-PROD       0.40      0.14      0.21        87\n",
      "           O       0.91      0.98      0.95     10230\n",
      "\n",
      "    accuracy                           0.88     12739\n",
      "   macro avg       0.64      0.45      0.51     12739\n",
      "weighted avg       0.86      0.88      0.86     12739\n",
      "\n"
     ]
    }
   ],
   "source": [
    "from sklearn.metrics import classification_report\n",
    "\n",
    "print( classification_report(y_true, y_pred, target_names=dataset_train.id2label) )"
   ]
  },
  {
   "cell_type": "code",
   "execution_count": 266,
   "id": "d3edc49e",
   "metadata": {},
   "outputs": [
    {
     "data": {
      "text/plain": [
       "<sklearn.metrics._plot.confusion_matrix.ConfusionMatrixDisplay at 0x7f016821c190>"
      ]
     },
     "execution_count": 266,
     "metadata": {},
     "output_type": "execute_result"
    },
    {
     "data": {
      "image/png": "[encoded data removed]",
      "text/plain": [
       "<Figure size 792x792 with 2 Axes>"
      ]
     },
     "metadata": {
      "needs_background": "light"
     },
     "output_type": "display_data"
    }
   ],
   "source": [
    "from sklearn.metrics import ConfusionMatrixDisplay, confusion_matrix\n",
    "\n",
    "cm = confusion_matrix(y_true, y_pred, normalize='pred') # normalized over predicted label: the sum of each column is 1\n",
    "cmd = ConfusionMatrixDisplay(cm, display_labels=dataset_train.id2label)\n",
    "fig, ax = plt.subplots(figsize=(11,11))\n",
    "cmd.plot(ax=ax)"
   ]
  },
  {
   "cell_type": "markdown",
   "id": "f69d4b82",
   "metadata": {},
   "source": [
    "# Testing usability..."
   ]
  },
  {
   "cell_type": "code",
   "execution_count": 42,
   "id": "ab3ad0a4",
   "metadata": {},
   "outputs": [
    {
     "data": {
      "text/plain": [
       "tensor([[12, 12, 12, 12, 12, 12, 12, 12, 12, 12, 12]], device='cuda:0')"
      ]
     },
     "execution_count": 42,
     "metadata": {},
     "output_type": "execute_result"
    }
   ],
   "source": [
    "model.to(device)\n",
    "model.eval() # dropout to 0\n",
    "with torch.no_grad():\n",
    "    y_true_sample = ['B-PER','I-PER','O','B-CORP','O','O','O','O','B-CORP','I-CORP','O']\n",
    "    input_sample = ['John','Lucas','joined','Aiimi','as','data','scientist','in','New','York','.']\n",
    "    y_pred_sample = model([input_sample])\n",
    "    y_pred_sample = model.get_indices(y_pred_sample)\n",
    "y_pred_sample\n"
   ]
  },
  {
   "cell_type": "code",
   "execution_count": 43,
   "id": "fd0cb529",
   "metadata": {},
   "outputs": [
    {
     "data": {
      "text/plain": [
       "[[4, 10, 12, 12, 12, 12, 12, 12, 12, 12, 12]]"
      ]
     },
     "execution_count": 43,
     "metadata": {},
     "output_type": "execute_result"
    }
   ],
   "source": [
    "model.predict([['John','Lucas','joined','Aiimi','as','data','scientist','in','New','York','.']])"
   ]
  },
  {
   "cell_type": "code",
   "execution_count": 46,
   "id": "fb2c028e",
   "metadata": {},
   "outputs": [],
   "source": [
    "class StudentModel(Model):\n",
    "\n",
    "    # STUDENT: construct here your model\n",
    "    # this class should be loading your weights and vocabulary\n",
    "    def __init__(self):\n",
    "        #print('Creating student...')\n",
    "        [self.label2id, self.id2label] = NERDataset.load_labels('../../model/test1/saves/dataset_labels.npy')\n",
    "        device = 'cuda' if torch.cuda.is_available() else 'cpu'\n",
    "        #print('Creating model...')\n",
    "        self.model = NERNet( FastText.load('../../model/architectures/fasttext/embedding.model') , output_size=len(self.id2label) , device=device)\n",
    "        #print('Loading model...')\n",
    "        self.model.load_weights('../../model/test1/saves/nernet_weights.pth')\n",
    "        #print('Init done')\n",
    "\n",
    "    def predict(self, tokens: List[List[str]]) -> List[List[str]]:\n",
    "        # STUDENT: implement here your predict function\n",
    "        # remember to respect the same order of tokens!\n",
    "        #print('Predicting...')\n",
    "        predictions = self.model.predict(tokens)\n",
    "        for i in range(len(predictions)):\n",
    "           for j in range(len(predictions[i])):\n",
    "               predictions[i][j] = self.id2label[predictions[i][j]]\n",
    "        return predictions"
   ]
  },
  {
   "cell_type": "code",
   "execution_count": 47,
   "id": "d830fdfe",
   "metadata": {},
   "outputs": [
    {
     "name": "stdout",
     "output_type": "stream",
     "text": [
      "Creating student...\n",
      "Creating model...\n",
      "Loading model...\n",
      "Init done\n"
     ]
    }
   ],
   "source": [
    "student = StudentModel()"
   ]
  },
  {
   "cell_type": "code",
   "execution_count": 48,
   "id": "3367a475",
   "metadata": {},
   "outputs": [],
   "source": [
    "data_eval_input = []\n",
    "data_eval_label = []\n",
    "for sentence in data_dev:\n",
    "    data_eval_input.append([w['word'] for w in sentence])\n",
    "    data_eval_label.append([w['tag'] for w in sentence])"
   ]
  },
  {
   "cell_type": "code",
   "execution_count": 49,
   "id": "d124fa6d",
   "metadata": {},
   "outputs": [
    {
     "name": "stdout",
     "output_type": "stream",
     "text": [
      "Predicting...\n"
     ]
    }
   ],
   "source": [
    "data_eval_predict = student.predict(data_eval_input)"
   ]
  },
  {
   "cell_type": "code",
   "execution_count": 50,
   "id": "c4c0a97f",
   "metadata": {},
   "outputs": [
    {
     "name": "stdout",
     "output_type": "stream",
     "text": [
      "# accuracy: 0.8804\n",
      "# f1: 0.3764\n"
     ]
    }
   ],
   "source": [
    "from seqeval.metrics import accuracy_score, f1_score\n",
    "\n",
    "acc = accuracy_score(data_eval_label, data_eval_predict)\n",
    "f = f1_score(data_eval_label, data_eval_predict, average=\"macro\")\n",
    "\n",
    "print(f\"# accuracy: {acc:.4f}\")\n",
    "print(f\"# f1: {f:.4f}\")"
   ]
  },
  {
   "cell_type": "markdown",
   "id": "784f153d",
   "metadata": {},
   "source": [
    "FastText consumes a lot of RAM, another approach must be found. More tests are needed in order to determine the best embedding. The next test will be focusing on GloVe"
   ]
  },
  {
   "cell_type": "code",
   "execution_count": null,
   "id": "c5d97abf",
   "metadata": {},
   "outputs": [],
   "source": []
  }
 ],
 "metadata": {
  "kernelspec": {
   "display_name": "Python 3",
   "language": "python",
   "name": "python3"
  },
  "language_info": {
   "codemirror_mode": {
    "name": "ipython",
    "version": 3
   },
   "file_extension": ".py",
   "mimetype": "text/x-python",
   "name": "python",
   "nbconvert_exporter": "python",
   "pygments_lexer": "ipython3",
   "version": "3.9.11"
  },
  "papermill": {
   "default_parameters": {},
   "duration": 5413.597386,
   "end_time": "2022-03-31T23:44:13.855326",
   "environment_variables": {},
   "exception": null,
   "input_path": "__notebook__.ipynb",
   "output_path": "__notebook__.ipynb",
   "parameters": {},
   "start_time": "2022-03-31T22:14:00.257940",
   "version": "2.3.3"
  }
 },
 "nbformat": 4,
 "nbformat_minor": 5
}
