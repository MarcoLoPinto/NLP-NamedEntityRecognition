{
 "cells": [
  {
   "cell_type": "markdown",
   "id": "a7807900",
   "metadata": {},
   "source": [
    "DISCLAIMER: Check \"model/\" folder for the complete code!"
   ]
  },
  {
   "cell_type": "markdown",
   "id": "3fe2040e",
   "metadata": {
    "papermill": {
     "duration": 0.078963,
     "end_time": "2022-03-31T22:14:09.386664",
     "exception": false,
     "start_time": "2022-03-31T22:14:09.307701",
     "status": "completed"
    },
    "tags": []
   },
   "source": [
    "# Prerequisites"
   ]
  },
  {
   "cell_type": "code",
   "execution_count": 1,
   "id": "37e2eadd",
   "metadata": {},
   "outputs": [
    {
     "name": "stderr",
     "output_type": "stream",
     "text": [
      "/home/marco/miniconda3/envs/nlp2022-hw1/lib/python3.9/site-packages/tqdm/auto.py:22: TqdmWarning: IProgress not found. Please update jupyter and ipywidgets. See https://ipywidgets.readthedocs.io/en/stable/user_install.html\n",
      "  from .autonotebook import tqdm as notebook_tqdm\n"
     ]
    }
   ],
   "source": [
    "import sys, os\n",
    "\n",
    "import torch\n",
    "import numpy as np"
   ]
  },
  {
   "cell_type": "markdown",
   "id": "5424a631",
   "metadata": {
    "papermill": {
     "duration": 0.049244,
     "end_time": "2022-03-31T22:14:12.552634",
     "exception": false,
     "start_time": "2022-03-31T22:14:12.503390",
     "status": "completed"
    },
    "tags": []
   },
   "source": [
    "Important paths for the notebook:"
   ]
  },
  {
   "cell_type": "code",
   "execution_count": 2,
   "id": "6fbfdcef",
   "metadata": {
    "execution": {
     "iopub.execute_input": "2022-03-31T22:14:12.655134Z",
     "iopub.status.busy": "2022-03-31T22:14:12.654206Z",
     "iopub.status.idle": "2022-03-31T22:14:12.655841Z",
     "shell.execute_reply": "2022-03-31T22:14:12.656413Z",
     "shell.execute_reply.started": "2022-03-31T20:28:59.800660Z"
    },
    "papermill": {
     "duration": 0.055973,
     "end_time": "2022-03-31T22:14:12.656573",
     "exception": false,
     "start_time": "2022-03-31T22:14:12.600600",
     "status": "completed"
    },
    "tags": []
   },
   "outputs": [],
   "source": [
    "test_number = 5\n",
    "\n",
    "homework_root_path = '../../'\n",
    "data_root_path = '../../data/'\n",
    "\n",
    "data_train_path = os.path.join( data_root_path , 'train.tsv' )\n",
    "data_dev_path = os.path.join( data_root_path , 'dev.tsv' )\n",
    "\n",
    "models_classes_path = '../../model/test' + str(test_number) + '/'\n",
    "models_saves_path = '../../model/test' + str(test_number) + '/saves/'"
   ]
  },
  {
   "cell_type": "code",
   "execution_count": 3,
   "id": "4b0c798e",
   "metadata": {
    "execution": {
     "iopub.execute_input": "2022-03-31T22:14:12.809023Z",
     "iopub.status.busy": "2022-03-31T22:14:12.808258Z",
     "iopub.status.idle": "2022-03-31T22:14:12.811988Z",
     "shell.execute_reply": "2022-03-31T22:14:12.812486Z",
     "shell.execute_reply.started": "2022-03-31T20:28:59.818499Z"
    },
    "papermill": {
     "duration": 0.107653,
     "end_time": "2022-03-31T22:14:12.812655",
     "exception": false,
     "start_time": "2022-03-31T22:14:12.705002",
     "status": "completed"
    },
    "tags": []
   },
   "outputs": [
    {
     "data": {
      "text/plain": [
       "'cuda'"
      ]
     },
     "execution_count": 3,
     "metadata": {},
     "output_type": "execute_result"
    }
   ],
   "source": [
    "device = 'cuda' if torch.cuda.is_available() else 'cpu'\n",
    "device"
   ]
  },
  {
   "cell_type": "markdown",
   "id": "c7bc95ee",
   "metadata": {
    "papermill": {
     "duration": 0.048851,
     "end_time": "2022-03-31T22:14:13.015246",
     "exception": false,
     "start_time": "2022-03-31T22:14:12.966395",
     "status": "completed"
    },
    "tags": []
   },
   "source": [
    "Setting the seed for reproducibility:"
   ]
  },
  {
   "cell_type": "code",
   "execution_count": 4,
   "id": "1e1e06c9",
   "metadata": {
    "execution": {
     "iopub.execute_input": "2022-03-31T22:14:13.121157Z",
     "iopub.status.busy": "2022-03-31T22:14:13.120220Z",
     "iopub.status.idle": "2022-03-31T22:14:13.127565Z",
     "shell.execute_reply": "2022-03-31T22:14:13.127040Z",
     "shell.execute_reply.started": "2022-03-31T20:28:59.852666Z"
    },
    "papermill": {
     "duration": 0.061579,
     "end_time": "2022-03-31T22:14:13.127705",
     "exception": false,
     "start_time": "2022-03-31T22:14:13.066126",
     "status": "completed"
    },
    "tags": []
   },
   "outputs": [],
   "source": [
    "SEED = 28\n",
    "\n",
    "# random.seed(SEED) # not used\n",
    "np.random.seed(SEED)\n",
    "torch.manual_seed(SEED)\n",
    "torch.backends.cudnn.deterministic = True"
   ]
  },
  {
   "cell_type": "markdown",
   "id": "fd77f147",
   "metadata": {},
   "source": [
    "Path:"
   ]
  },
  {
   "cell_type": "code",
   "execution_count": 5,
   "id": "91a2cee8",
   "metadata": {},
   "outputs": [],
   "source": [
    "sys.path.append( models_classes_path )\n",
    "\n",
    "%load_ext autoreload\n",
    "%autoreload 2"
   ]
  },
  {
   "cell_type": "markdown",
   "id": "640ecaf2",
   "metadata": {},
   "source": [
    "# Global parameters"
   ]
  },
  {
   "cell_type": "markdown",
   "id": "d3f0b42f",
   "metadata": {},
   "source": [
    "These parameters are needed in various classes, so they will be saved so to be used in the final model:"
   ]
  },
  {
   "cell_type": "code",
   "execution_count": 6,
   "id": "26a4b136",
   "metadata": {},
   "outputs": [],
   "source": [
    "globalParams = {\n",
    "    'PAD_TOKEN': '<pad>',\n",
    "    'PAD_INDEX': -1,\n",
    "    'UNK_TOKEN': '<unk>',\n",
    "    'window_size': 41,\n",
    "    'window_shift': 41 - 20,\n",
    "    'max_word_length' : 28\n",
    "}"
   ]
  },
  {
   "cell_type": "markdown",
   "id": "69878b8e",
   "metadata": {},
   "source": [
    "# Using GloVe as embedding"
   ]
  },
  {
   "cell_type": "markdown",
   "id": "5b2d575a",
   "metadata": {},
   "source": [
    "After the first test done with \"test1\" and by seeing the results done in \"test2\", I sticked with GloVe word vector representation. <br>\n",
    "The padding and the unknown tokens were added at the extracted embedding layer and also at the vocabulary mappings."
   ]
  },
  {
   "cell_type": "code",
   "execution_count": 7,
   "id": "c352c495",
   "metadata": {},
   "outputs": [
    {
     "name": "stderr",
     "output_type": "stream",
     "text": [
      "/home/marco/miniconda3/envs/nlp2022-hw1/lib/python3.9/site-packages/gensim/similarities/__init__.py:15: UserWarning: The gensim.similarities.levenshtein submodule is disabled, because the optional Levenshtein package <https://pypi.org/project/python-Levenshtein/> is unavailable. Install Levenhstein (e.g. `pip install python-Levenshtein`) to suppress this warning.\n",
      "  warnings.warn(msg)\n"
     ]
    }
   ],
   "source": [
    "import gensim.downloader as gensim_api\n",
    "\n",
    "embedding_keyedvectors = gensim_api.load('glove-wiki-gigaword-300')"
   ]
  },
  {
   "cell_type": "markdown",
   "id": "08b1fc0c",
   "metadata": {},
   "source": [
    "Observing the space:"
   ]
  },
  {
   "cell_type": "code",
   "execution_count": 8,
   "id": "2bcc5227",
   "metadata": {
    "execution": {
     "iopub.execute_input": "2022-03-31T22:14:46.925098Z",
     "iopub.status.busy": "2022-03-31T22:14:46.922325Z",
     "iopub.status.idle": "2022-03-31T22:14:47.299728Z",
     "shell.execute_reply": "2022-03-31T22:14:47.299150Z",
     "shell.execute_reply.started": "2022-03-31T20:29:31.606374Z"
    },
    "papermill": {
     "duration": 0.440592,
     "end_time": "2022-03-31T22:14:47.299872",
     "exception": false,
     "start_time": "2022-03-31T22:14:46.859280",
     "status": "completed"
    },
    "tags": []
   },
   "outputs": [
    {
     "data": {
      "image/png": "[encoded data removed]",
      "text/plain": [
       "<Figure size 432x288 with 1 Axes>"
      ]
     },
     "metadata": {
      "needs_background": "light"
     },
     "output_type": "display_data"
    }
   ],
   "source": [
    "from sklearn.decomposition import PCA\n",
    "import matplotlib.pyplot as plt\n",
    "\n",
    "def plot_some_data():\n",
    "    # pick some words to visualise\n",
    "    words = ['film','washington','comedy','university','wrestling','london','china','microsoft','comic','nintendo']\n",
    "    \n",
    "    # retrieve the trained embeddings\n",
    "    coords = [embedding_keyedvectors[word] for word in words]\n",
    "    \n",
    "\n",
    "    # perform PCA to reduce our Nd embeddings to 2d points that can be plotted\n",
    "    pca = PCA(n_components=2)\n",
    "    pca_result = pca.fit_transform(coords) # .t() transpose the embeddings\n",
    "    \n",
    "    for i,(x,y) in enumerate(pca_result):\n",
    "        plt.plot(x, y, 'ro')\n",
    "        plt.text(x, y, words[i], fontsize=12) # add a point label, shifted wrt to the point\n",
    "    plt.title('PCA on Embedding')\n",
    "    plt.show()\n",
    "    \n",
    "plot_some_data()"
   ]
  },
  {
   "cell_type": "code",
   "execution_count": 9,
   "id": "fad86530",
   "metadata": {},
   "outputs": [],
   "source": [
    "def create_embedding_from_keyedvectors(keyedvectors, freeze = False):\n",
    "    vectors = keyedvectors.vectors\n",
    "    padding_idx = vectors.shape[0]\n",
    "    # pad vector is all zeros\n",
    "    pad = np.zeros((1, vectors.shape[1]))\n",
    "    # unk vector is the mean vector\n",
    "    unk = np.mean(vectors, axis=0, keepdims=True)\n",
    "    # concatenate\n",
    "    weights = torch.FloatTensor( np.concatenate((vectors,pad,unk)) )\n",
    "    return torch.nn.Embedding.from_pretrained(weights, padding_idx=padding_idx, freeze=freeze)"
   ]
  },
  {
   "cell_type": "code",
   "execution_count": 10,
   "id": "d37da158",
   "metadata": {},
   "outputs": [],
   "source": [
    "embedding_layer = create_embedding_from_keyedvectors(embedding_keyedvectors, freeze = True)"
   ]
  },
  {
   "cell_type": "code",
   "execution_count": 11,
   "id": "a7581392",
   "metadata": {},
   "outputs": [
    {
     "data": {
      "text/plain": [
       "(400002, 300)"
      ]
     },
     "execution_count": 11,
     "metadata": {},
     "output_type": "execute_result"
    }
   ],
   "source": [
    "embedding_layer.num_embeddings, embedding_layer.embedding_dim"
   ]
  },
  {
   "cell_type": "code",
   "execution_count": 12,
   "id": "c02f1b77",
   "metadata": {},
   "outputs": [],
   "source": [
    "def create_vocabulary_from_keyedvectors(keyedvectors, globalParams):\n",
    "    index_to_key = keyedvectors.index_to_key.copy()\n",
    "    key_to_index = keyedvectors.key_to_index.copy()\n",
    "    \n",
    "    index_to_key.append(globalParams['PAD_TOKEN'])\n",
    "    index_to_key.append(globalParams['UNK_TOKEN'])\n",
    "\n",
    "    key_to_index[globalParams['PAD_TOKEN']] = len(key_to_index)\n",
    "    key_to_index[globalParams['UNK_TOKEN']] = len(key_to_index)\n",
    "\n",
    "    return {'key_to_index':key_to_index, 'index_to_key':index_to_key}"
   ]
  },
  {
   "cell_type": "code",
   "execution_count": 13,
   "id": "e0530800",
   "metadata": {},
   "outputs": [],
   "source": [
    "vocabulary = create_vocabulary_from_keyedvectors(embedding_keyedvectors, globalParams)"
   ]
  },
  {
   "cell_type": "code",
   "execution_count": 14,
   "id": "8241a78b",
   "metadata": {},
   "outputs": [
    {
     "data": {
      "text/plain": [
       "('<pad>', '<unk>')"
      ]
     },
     "execution_count": 14,
     "metadata": {},
     "output_type": "execute_result"
    }
   ],
   "source": [
    "vocabulary['index_to_key'][-2], vocabulary['index_to_key'][-1]"
   ]
  },
  {
   "cell_type": "code",
   "execution_count": 15,
   "id": "e9c3eac2",
   "metadata": {},
   "outputs": [
    {
     "data": {
      "text/plain": [
       "(400000, 400001)"
      ]
     },
     "execution_count": 15,
     "metadata": {},
     "output_type": "execute_result"
    }
   ],
   "source": [
    "vocabulary['key_to_index'][globalParams['PAD_TOKEN']], vocabulary['key_to_index'][globalParams['UNK_TOKEN']]"
   ]
  },
  {
   "cell_type": "markdown",
   "id": "a6c44401",
   "metadata": {},
   "source": [
    "# Creating vocabulary for characters"
   ]
  },
  {
   "cell_type": "code",
   "execution_count": 16,
   "id": "36187a79",
   "metadata": {},
   "outputs": [],
   "source": [
    "def create_char_vocabulary(vocabulary, data = None):\n",
    "    chars = set()\n",
    "    for word in vocabulary['index_to_key']:\n",
    "        for c in word:\n",
    "            chars.add(c)\n",
    "\n",
    "    if data is not None:\n",
    "        for sentence in data:\n",
    "            for word in sentence['inputs']:\n",
    "                for char in word:\n",
    "                    if char != globalParams['PAD_TOKEN']:\n",
    "                        chars.add(char)\n",
    "    chars = list(chars)\n",
    "    chars.sort()\n",
    "    chars.insert(0,globalParams['UNK_TOKEN'])\n",
    "    chars.insert(0,globalParams['PAD_TOKEN'])\n",
    "\n",
    "    chars_dict = {}\n",
    "\n",
    "    chars_dict['key_to_index'] = {l:i for i,l in enumerate(chars)}\n",
    "    chars_dict['index_to_key'] = chars\n",
    "    return chars_dict"
   ]
  },
  {
   "cell_type": "code",
   "execution_count": 17,
   "id": "450fb6fd",
   "metadata": {},
   "outputs": [],
   "source": [
    "from NERDataset import NERDataset\n",
    "\n",
    "vocabulary_char = create_char_vocabulary(vocabulary, NERDataset.read_dataset(data_train_path))"
   ]
  },
  {
   "cell_type": "code",
   "execution_count": 18,
   "id": "89d12e8d",
   "metadata": {},
   "outputs": [
    {
     "name": "stdout",
     "output_type": "stream",
     "text": [
      "['<pad>', '<unk>', '!', '\"', '#', '$', '%', '&', \"'\", '(', ')', '*', '+', ',', '-', '.', '/', '0', '1', '2', '3', '4', '5', '6', '7', '8', '9', ':', ';', '<', '=', '>', '?', '@', '[', '\\\\', ']', '^', '_', '`', 'a', 'b', 'c', 'd', 'e', 'f', 'g', 'h', 'i', 'j', 'k', 'l', 'm', 'n', 'o', 'p', 'q', 'r', 's', 't', 'u', 'v', 'w', 'x', 'y', 'z', '{', '|', '}', '~', '¡', '¢', '£', '¤', '¥', '¨', 'ª', '«', '°', '²']\n"
     ]
    }
   ],
   "source": [
    "print( vocabulary_char['index_to_key'][0:80] )"
   ]
  },
  {
   "cell_type": "code",
   "execution_count": 19,
   "id": "05c46e28",
   "metadata": {},
   "outputs": [
    {
     "data": {
      "text/plain": [
       "577"
      ]
     },
     "execution_count": 19,
     "metadata": {},
     "output_type": "execute_result"
    }
   ],
   "source": [
    "len(vocabulary_char['index_to_key'])"
   ]
  },
  {
   "cell_type": "markdown",
   "id": "9b3e880b",
   "metadata": {},
   "source": [
    "# Dataset"
   ]
  },
  {
   "cell_type": "markdown",
   "id": "6d1b7c56",
   "metadata": {},
   "source": [
    "The dataset here is modified in order to process character-level input"
   ]
  },
  {
   "cell_type": "code",
   "execution_count": 43,
   "id": "779681a4",
   "metadata": {},
   "outputs": [],
   "source": [
    "from NERDataset import NERDataset"
   ]
  },
  {
   "cell_type": "code",
   "execution_count": 44,
   "id": "8621c7f4",
   "metadata": {},
   "outputs": [],
   "source": [
    "dataset_train = NERDataset(data_train_path, vocabulary = vocabulary, vocabulary_char = vocabulary_char, params = globalParams)\n",
    "dataset_dev = NERDataset(data_dev_path, vocabulary = None, params = globalParams)"
   ]
  },
  {
   "cell_type": "markdown",
   "id": "db98be9d",
   "metadata": {},
   "source": [
    "Checking how many OOVs are in the training"
   ]
  },
  {
   "cell_type": "code",
   "execution_count": 22,
   "id": "2c2e035a",
   "metadata": {},
   "outputs": [
    {
     "name": "stdout",
     "output_type": "stream",
     "text": [
      "3399 words not present out of 29966\n"
     ]
    }
   ],
   "source": [
    "words_in_train = list(set(word for sample in dataset_train for word in sample['inputs']))\n",
    "words_not_present = [w for w in words_in_train if w not in vocabulary['key_to_index']]\n",
    "print( len( words_not_present ) , 'words not present out of' , len(words_in_train))"
   ]
  },
  {
   "cell_type": "markdown",
   "id": "3f867a65",
   "metadata": {},
   "source": [
    "Saving everything for later"
   ]
  },
  {
   "cell_type": "code",
   "execution_count": 23,
   "id": "750cc849",
   "metadata": {},
   "outputs": [
    {
     "name": "stderr",
     "output_type": "stream",
     "text": [
      "/home/marco/miniconda3/envs/nlp2022-hw1/lib/python3.9/site-packages/numpy/lib/npyio.py:528: VisibleDeprecationWarning: Creating an ndarray from ragged nested sequences (which is a list-or-tuple of lists-or-tuples-or ndarrays with different lengths or shapes) is deprecated. If you meant to do this, you must specify 'dtype=object' when creating the ndarray.\n",
      "  arr = np.asanyarray(arr)\n"
     ]
    }
   ],
   "source": [
    "dataset_train.save_labels( os.path.join(models_saves_path,'dataset_labels.npy') )\n",
    "dataset_train.save_vocabulary( os.path.join(models_saves_path,'dataset_vocabulary.npy') )\n",
    "dataset_train.save_vocabulary_char( os.path.join(models_saves_path,'dataset_vocabulary_char.npy') )"
   ]
  },
  {
   "cell_type": "markdown",
   "id": "f86a635c",
   "metadata": {},
   "source": [
    "Creating the Dataloader:"
   ]
  },
  {
   "cell_type": "code",
   "execution_count": 86,
   "id": "5418b584",
   "metadata": {},
   "outputs": [],
   "source": [
    "BATCH_SIZE = 32\n",
    "EPOCHS = 12"
   ]
  },
  {
   "cell_type": "code",
   "execution_count": 25,
   "id": "e7143209",
   "metadata": {},
   "outputs": [],
   "source": [
    "prepare_batch = NERDataset.prepare_batch_fn(dataset_train.vocabulary, dataset_train.label2id, dataset_train.vocabulary_char, globalParams['UNK_TOKEN'])"
   ]
  },
  {
   "cell_type": "code",
   "execution_count": 26,
   "id": "5197bedb",
   "metadata": {
    "execution": {
     "iopub.execute_input": "2022-03-31T22:14:56.662765Z",
     "iopub.status.busy": "2022-03-31T22:14:56.661814Z",
     "iopub.status.idle": "2022-03-31T22:14:56.663623Z",
     "shell.execute_reply": "2022-03-31T22:14:56.664069Z",
     "shell.execute_reply.started": "2022-03-31T20:29:36.203830Z"
    },
    "papermill": {
     "duration": 0.2055,
     "end_time": "2022-03-31T22:14:56.664253",
     "exception": false,
     "start_time": "2022-03-31T22:14:56.458753",
     "status": "completed"
    },
    "tags": []
   },
   "outputs": [],
   "source": [
    "from torch.utils.data import DataLoader\n",
    "\n",
    "dataloader_train = DataLoader(dataset_train, batch_size=BATCH_SIZE, shuffle=True, collate_fn=prepare_batch)\n",
    "dataloader_dev = DataLoader(dataset_dev, batch_size=BATCH_SIZE, shuffle=False, collate_fn=prepare_batch)"
   ]
  },
  {
   "cell_type": "code",
   "execution_count": 27,
   "id": "1a9de416",
   "metadata": {
    "execution": {
     "iopub.execute_input": "2022-03-31T22:14:57.065083Z",
     "iopub.status.busy": "2022-03-31T22:14:57.064510Z",
     "iopub.status.idle": "2022-03-31T22:14:57.082805Z",
     "shell.execute_reply": "2022-03-31T22:14:57.082242Z",
     "shell.execute_reply.started": "2022-03-31T20:29:36.216587Z"
    },
    "papermill": {
     "duration": 0.222557,
     "end_time": "2022-03-31T22:14:57.082942",
     "exception": false,
     "start_time": "2022-03-31T22:14:56.860385",
     "status": "completed"
    },
    "tags": []
   },
   "outputs": [
    {
     "data": {
      "text/plain": [
       "(32, 41)"
      ]
     },
     "execution_count": 27,
     "metadata": {},
     "output_type": "execute_result"
    }
   ],
   "source": [
    "for x in dataloader_dev:\n",
    "    generic_element = x\n",
    "    break\n",
    "np.array(generic_element['inputs']).shape # (batch_size, window_size)"
   ]
  },
  {
   "cell_type": "code",
   "execution_count": 28,
   "id": "e0a1fb11",
   "metadata": {},
   "outputs": [
    {
     "name": "stdout",
     "output_type": "stream",
     "text": [
      "Input torch.Size([41])\n",
      "tensor([    13,      0,    122,      3,      0,   3160,    785,   9414,   4606,\n",
      "           145,   3385, 400001,     69,     38,     40,   1315,   2141,      2,\n",
      "        400000, 400000, 400000, 400000, 400000, 400000, 400000, 400000, 400000,\n",
      "        400000, 400000, 400000, 400000, 400000, 400000, 400000, 400000, 400000,\n",
      "        400000, 400000, 400000, 400000, 400000])\n",
      "Output torch.Size([41])\n",
      "tensor([12, 12, 12, 12, 12, 12,  4, 10, 12, 12, 12, 12, 12, 12, 12, 12, 12, 12,\n",
      "        -1, -1, -1, -1, -1, -1, -1, -1, -1, -1, -1, -1, -1, -1, -1, -1, -1, -1,\n",
      "        -1, -1, -1, -1, -1])\n",
      "Char torch.Size([41, 28])\n",
      "tensor([[54, 53,  0,  ...,  0,  0,  0],\n",
      "        [59, 47, 44,  ...,  0,  0,  0],\n",
      "        [43, 40, 64,  ...,  0,  0,  0],\n",
      "        ...,\n",
      "        [ 0,  0,  0,  ...,  0,  0,  0],\n",
      "        [ 0,  0,  0,  ...,  0,  0,  0],\n",
      "        [ 0,  0,  0,  ...,  0,  0,  0]])\n"
     ]
    }
   ],
   "source": [
    "print('Input', generic_element['inputs'][0].shape)\n",
    "print(generic_element['inputs'][0])\n",
    "print('Output', generic_element['outputs'][0].shape)\n",
    "print(generic_element['outputs'][0])\n",
    "print('Char', generic_element['chars'][0].shape)\n",
    "print(generic_element['chars'][0])"
   ]
  },
  {
   "cell_type": "code",
   "execution_count": 29,
   "id": "a5d9e2a3",
   "metadata": {},
   "outputs": [
    {
     "data": {
      "text/plain": [
       "torch.Size([32, 41])"
      ]
     },
     "execution_count": 29,
     "metadata": {},
     "output_type": "execute_result"
    }
   ],
   "source": [
    "generic_element['inputs'].shape"
   ]
  },
  {
   "cell_type": "code",
   "execution_count": 30,
   "id": "7b3cdde3",
   "metadata": {},
   "outputs": [
    {
     "name": "stdout",
     "output_type": "stream",
     "text": [
      "input_size:  400002 \n",
      "max input_length train:  41 \n",
      "max input_length dev:  41 \n",
      "n_labels:  13 \n",
      "max input_length_word_train 25\n"
     ]
    }
   ],
   "source": [
    "input_size = len(vocabulary['key_to_index']) # how many different words?\n",
    "input_length_train = max([len(sentence_list['inputs']) for sentence_list in dataset_train]) # maximum length of sentence\n",
    "input_length_word_train = max([len(word) for sentence_list in dataset_train for word in sentence_list['inputs']]) # maximum length of word\n",
    "input_length_dev = max([len(sentence_list['inputs']) for sentence_list in dataset_dev]) # maximum length of sentence (dev)\n",
    "n_labels = len(dataset_train.label2id)\n",
    "\n",
    "print(  'input_size: ', input_size, '\\nmax input_length train: ', input_length_train, \n",
    "        '\\nmax input_length dev: ', input_length_dev, '\\nn_labels: ', n_labels,\n",
    "        '\\nmax input_length_word_train', input_length_word_train)"
   ]
  },
  {
   "cell_type": "markdown",
   "id": "7ec97b88",
   "metadata": {
    "papermill": {
     "duration": 0.196716,
     "end_time": "2022-03-31T22:14:52.785982",
     "exception": false,
     "start_time": "2022-03-31T22:14:52.589266",
     "status": "completed"
    },
    "tags": []
   },
   "source": [
    "# The Model"
   ]
  },
  {
   "cell_type": "markdown",
   "id": "6c156f86",
   "metadata": {},
   "source": [
    "The model here is changed: it is added the character level processing!"
   ]
  },
  {
   "cell_type": "markdown",
   "id": "aac90aa8",
   "metadata": {},
   "source": [
    "The loss function if CRF is not used:"
   ]
  },
  {
   "cell_type": "code",
   "execution_count": 45,
   "id": "953c0404",
   "metadata": {
    "execution": {
     "iopub.execute_input": "2022-03-31T22:14:57.931921Z",
     "iopub.status.busy": "2022-03-31T22:14:57.930683Z",
     "iopub.status.idle": "2022-03-31T22:14:57.932628Z",
     "shell.execute_reply": "2022-03-31T22:14:57.933062Z",
     "shell.execute_reply.started": "2022-03-31T20:29:36.252147Z"
    },
    "papermill": {
     "duration": 0.21099,
     "end_time": "2022-03-31T22:14:57.933235",
     "exception": false,
     "start_time": "2022-03-31T22:14:57.722245",
     "status": "completed"
    },
    "tags": []
   },
   "outputs": [],
   "source": [
    "loss_function = torch.nn.CrossEntropyLoss(ignore_index=globalParams['PAD_INDEX']) # !"
   ]
  },
  {
   "cell_type": "markdown",
   "id": "173bea27",
   "metadata": {},
   "source": [
    "These are all the parameters needed to initialize the model:"
   ]
  },
  {
   "cell_type": "code",
   "execution_count": 151,
   "id": "90307266",
   "metadata": {},
   "outputs": [],
   "source": [
    "globalParams['n_labels'] = n_labels\n",
    "globalParams['use_crf'] = False\n",
    "globalParams['embedding_word_shape'] = ( embedding_layer.num_embeddings , embedding_layer.embedding_dim )\n",
    "globalParams['embedding_char_shape'] = ( len(vocabulary_char['index_to_key']) , embedding_layer.embedding_dim )\n",
    "globalParams['embedding_word_padding_idx'] = vocabulary['key_to_index'][globalParams['PAD_TOKEN']]\n",
    "globalParams['embedding_char_padding_idx'] = vocabulary_char['key_to_index'][globalParams['PAD_TOKEN']]\n",
    "globalParams['freeze_word_embedding'] = True\n",
    "globalParams['freeze_char_embedding'] = False\n",
    "globalParams['lstm_parameters'] = {\n",
    "    'hidden_size':128,\n",
    "    'bidirectional':True,\n",
    "    'num_layers':3,\n",
    "    'dropout':0.4\n",
    "}\n",
    "globalParams['general_dropout'] = 0.4"
   ]
  },
  {
   "cell_type": "markdown",
   "id": "15baf7b6",
   "metadata": {},
   "source": [
    "Saving global variables..."
   ]
  },
  {
   "cell_type": "code",
   "execution_count": 152,
   "id": "c5d97abf",
   "metadata": {},
   "outputs": [],
   "source": [
    "np.save(os.path.join(models_saves_path, 'global_params.npy'), globalParams)"
   ]
  },
  {
   "cell_type": "code",
   "execution_count": 153,
   "id": "0303d31a",
   "metadata": {},
   "outputs": [
    {
     "data": {
      "text/plain": [
       "{'PAD_TOKEN': '<pad>',\n",
       " 'PAD_INDEX': -1,\n",
       " 'UNK_TOKEN': '<unk>',\n",
       " 'window_size': 41,\n",
       " 'window_shift': 21,\n",
       " 'max_word_length': 28,\n",
       " 'n_labels': 13,\n",
       " 'use_crf': False,\n",
       " 'embedding_word_shape': (400002, 300),\n",
       " 'embedding_char_shape': (577, 300),\n",
       " 'embedding_word_padding_idx': 400000,\n",
       " 'embedding_char_padding_idx': 0,\n",
       " 'freeze_word_embedding': True,\n",
       " 'freeze_char_embedding': False,\n",
       " 'lstm_parameters': {'hidden_size': 128,\n",
       "  'bidirectional': True,\n",
       "  'num_layers': 3,\n",
       "  'dropout': 0.4},\n",
       " 'general_dropout': 0.4}"
      ]
     },
     "execution_count": 153,
     "metadata": {},
     "output_type": "execute_result"
    }
   ],
   "source": [
    "globalParams = np.load(os.path.join(models_saves_path, 'global_params.npy'), allow_pickle=True).tolist()\n",
    "globalParams"
   ]
  },
  {
   "cell_type": "markdown",
   "id": "86af82a0",
   "metadata": {},
   "source": [
    "# Putting everything together"
   ]
  },
  {
   "cell_type": "code",
   "execution_count": 226,
   "id": "60bbf654",
   "metadata": {
    "execution": {
     "iopub.execute_input": "2022-03-31T22:14:54.822017Z",
     "iopub.status.busy": "2022-03-31T22:14:54.821056Z",
     "iopub.status.idle": "2022-03-31T22:14:54.823436Z",
     "shell.execute_reply": "2022-03-31T22:14:54.823882Z",
     "shell.execute_reply.started": "2022-03-31T20:29:36.184601Z"
    },
    "papermill": {
     "duration": 0.20449,
     "end_time": "2022-03-31T22:14:54.824045",
     "exception": false,
     "start_time": "2022-03-31T22:14:54.619555",
     "status": "completed"
    },
    "tags": []
   },
   "outputs": [],
   "source": [
    "from FinalModel import FinalModel"
   ]
  },
  {
   "cell_type": "code",
   "execution_count": 227,
   "id": "dcc34d2d",
   "metadata": {},
   "outputs": [],
   "source": [
    "if 'embedding_layer' not in locals() or embedding_layer is None:\n",
    "    print('|WARN| embedding_layer NOT INITIALIZED')\n",
    "    embedding_layer = None\n",
    "\n",
    "if 'loss_function' not in locals() or loss_function is None:\n",
    "    print('|WARN| loss_function NOT INITIALIZED')\n",
    "    loss_function = None"
   ]
  },
  {
   "cell_type": "code",
   "execution_count": 228,
   "id": "eb126c2c",
   "metadata": {},
   "outputs": [
    {
     "name": "stdout",
     "output_type": "stream",
     "text": [
      "Creating final model...\n",
      "Creating model...\n",
      "Init done\n"
     ]
    }
   ],
   "source": [
    "# cross-entropy will not be used if there's the crf layer\n",
    "student = FinalModel(\n",
    "    models_saves_path, \n",
    "    model_save_file_name = 'nernet_weights_charenc.pth',\n",
    "    load_model = False, \n",
    "    custom_embedding_layer = embedding_layer, \n",
    "    loss_fn = loss_function\n",
    ")"
   ]
  },
  {
   "cell_type": "markdown",
   "id": "3ef0ab6e",
   "metadata": {},
   "source": [
    "Unfortunately, torch.summary or torchinfo doesn't work with some implementations of CRF, so a fallback was necessary"
   ]
  },
  {
   "cell_type": "code",
   "execution_count": 175,
   "id": "8a553f06",
   "metadata": {},
   "outputs": [],
   "source": [
    "from torchinfo import summary\n",
    "\n",
    "def print_summary(model):\n",
    "    print(model)\n",
    "    print('----------------------')\n",
    "    p = sum(p.numel() for p in model.parameters())\n",
    "    tp = sum(p.numel() for p in model.parameters() if p.requires_grad)\n",
    "    ntp = p - tp\n",
    "    print('parameters:', f'{p:,}')\n",
    "    print('trainable parameters:', f'{tp:,}')\n",
    "    print('non-trainable parameters:', f'{ntp:,}')\n",
    "\n",
    "def print_network_structure(model, params_dict, print_summary_extended = True):\n",
    "    if print_summary_extended:\n",
    "        s = summary(model, \n",
    "                input_data=(generic_element['inputs'], generic_element['chars']), \n",
    "                col_names=[\"kernel_size\", \"output_size\", \"num_params\"])\n",
    "        print(s)\n",
    "    else:\n",
    "        print_summary(model)\n",
    "\n",
    "    print('-------- Variables ----------')\n",
    "    return params_dict\n",
    "\n",
    "import matplotlib.pyplot as plt\n",
    "\n",
    "def display_history(dict_history):\n",
    "    plt.figure(figsize=(8,8))\n",
    "    plt.plot([i for i in range(len(dict_history['train_history']))], dict_history['train_history'], label='train')\n",
    "    plt.plot([i for i in range(len(dict_history['valid_loss_history']))], dict_history['valid_loss_history'], label='val_loss')\n",
    "    plt.plot([i for i in range(len(dict_history['valid_f1_history']))], dict_history['valid_f1_history'], label='val_f1')\n",
    "    plt.xlabel('epochs')\n",
    "    plt.ylabel('value')\n",
    "    plt.title('Model learning')\n",
    "    plt.legend()\n",
    "    plt.show()"
   ]
  },
  {
   "cell_type": "code",
   "execution_count": null,
   "id": "f1e8dba2",
   "metadata": {},
   "outputs": [],
   "source": [
    "print_network_structure(student.model, globalParams, True)"
   ]
  },
  {
   "cell_type": "markdown",
   "id": "6e58b039",
   "metadata": {
    "papermill": {
     "duration": 0.326497,
     "end_time": "2022-03-31T22:14:55.381233",
     "exception": false,
     "start_time": "2022-03-31T22:14:55.054736",
     "status": "completed"
    },
    "tags": []
   },
   "source": [
    "# Training Phase"
   ]
  },
  {
   "cell_type": "markdown",
   "id": "b2036e60",
   "metadata": {
    "papermill": {
     "duration": 0.195298,
     "end_time": "2022-03-31T22:14:58.323776",
     "exception": false,
     "start_time": "2022-03-31T22:14:58.128478",
     "status": "completed"
    },
    "tags": []
   },
   "source": [
    "This training function was taken and modified from the notebook #5:"
   ]
  },
  {
   "cell_type": "code",
   "execution_count": 159,
   "id": "a1b2c7d6",
   "metadata": {},
   "outputs": [],
   "source": [
    "from train_phase import train_and_evaluate"
   ]
  },
  {
   "cell_type": "code",
   "execution_count": 160,
   "id": "9a74a407",
   "metadata": {},
   "outputs": [],
   "source": [
    "import torch.optim as optim\n",
    "\n",
    "# optimizer = optim.SGD(student.model.parameters(), lr=0.0016, momentum=0.9)\n",
    "optimizer = optim.Adam(student.model.parameters(), lr=0.0016)\n",
    "\n",
    "data_eval_input = []\n",
    "data_eval_label = []\n",
    "for sentence in NERDataset.read_dataset(data_dev_path):\n",
    "    data_eval_input.append(sentence['inputs'])\n",
    "    data_eval_label.append(sentence['outputs'])"
   ]
  },
  {
   "cell_type": "code",
   "execution_count": 161,
   "id": "f71ff20d",
   "metadata": {
    "execution": {
     "iopub.execute_input": "2022-03-31T22:14:59.177230Z",
     "iopub.status.busy": "2022-03-31T22:14:59.176272Z",
     "iopub.status.idle": "2022-03-31T23:43:54.623282Z",
     "shell.execute_reply": "2022-03-31T23:43:54.623879Z",
     "shell.execute_reply.started": "2022-03-31T20:29:36.278255Z"
    },
    "papermill": {
     "duration": 5335.697332,
     "end_time": "2022-03-31T23:43:54.624051",
     "exception": false,
     "start_time": "2022-03-31T22:14:58.926719",
     "status": "completed"
    },
    "scrolled": true,
    "tags": []
   },
   "outputs": [
    {
     "name": "stdout",
     "output_type": "stream",
     "text": [
      "  Epoch   0 => avg_loss: 0.553594\n",
      "    Validation loss => 0.320372 f1-score => 0.453013\n",
      "  Epoch   1 => avg_loss: 0.333122\n",
      "    Validation loss => 0.255418 f1-score => 0.558100\n",
      "  Epoch   2 => avg_loss: 0.285555\n",
      "    Validation loss => 0.236504 f1-score => 0.580884\n",
      "  Epoch   3 => avg_loss: 0.260278\n",
      "    Validation loss => 0.217860 f1-score => 0.623817\n",
      "  Epoch   4 => avg_loss: 0.240004\n",
      "    Validation loss => 0.211948 f1-score => 0.643957\n",
      "  Epoch   5 => avg_loss: 0.226111\n",
      "    Validation loss => 0.200136 f1-score => 0.653759\n",
      "  Epoch   6 => avg_loss: 0.212766\n",
      "    Validation loss => 0.192918 f1-score => 0.654595\n",
      "  Epoch   7 => avg_loss: 0.205383\n",
      "    Validation loss => 0.198187 f1-score => 0.660510\n",
      "----- Warning stop activated! -----\n",
      "  Epoch   8 => avg_loss: 0.195710\n",
      "    Validation loss => 0.189264 f1-score => 0.671714\n",
      "----- Warning stop deactivated... -----\n",
      "  Epoch   9 => avg_loss: 0.185637\n",
      "    Validation loss => 0.184015 f1-score => 0.674745\n",
      "  Epoch  10 => avg_loss: 0.181414\n",
      "    Validation loss => 0.185861 f1-score => 0.665633\n",
      "----- Warning stop activated! -----\n",
      "  Epoch  11 => avg_loss: 0.176887\n",
      "    Validation loss => 0.187460 f1-score => 0.690858\n",
      "----- Forcing break -----\n"
     ]
    }
   ],
   "source": [
    "train_model = True\n",
    "\n",
    "if train_model:\n",
    "\n",
    "    history = train_and_evaluate(   student, optimizer, dataloader_train, dataloader_dev,\n",
    "                                    data_eval_input, data_eval_label, epochs=EPOCHS, verbose=True, device=device)"
   ]
  },
  {
   "cell_type": "code",
   "execution_count": 162,
   "id": "a7ff7daa",
   "metadata": {},
   "outputs": [
    {
     "data": {
      "image/png": "[encoded data removed]",
      "text/plain": [
       "<Figure size 576x576 with 1 Axes>"
      ]
     },
     "metadata": {
      "needs_background": "light"
     },
     "output_type": "display_data"
    }
   ],
   "source": [
    "display_history(history)"
   ]
  },
  {
   "cell_type": "markdown",
   "id": "9005bd0e",
   "metadata": {
    "papermill": {
     "duration": 0.260085,
     "end_time": "2022-03-31T23:43:55.147085",
     "exception": false,
     "start_time": "2022-03-31T23:43:54.887000",
     "status": "completed"
    },
    "tags": []
   },
   "source": [
    "# Saving..."
   ]
  },
  {
   "cell_type": "code",
   "execution_count": 163,
   "id": "97df34de",
   "metadata": {
    "execution": {
     "iopub.execute_input": "2022-03-31T23:43:55.687386Z",
     "iopub.status.busy": "2022-03-31T23:43:55.686739Z",
     "iopub.status.idle": "2022-03-31T23:43:55.702630Z",
     "shell.execute_reply": "2022-03-31T23:43:55.702081Z",
     "shell.execute_reply.started": "2022-03-31T22:11:46.659124Z"
    },
    "papermill": {
     "duration": 0.290321,
     "end_time": "2022-03-31T23:43:55.702775",
     "exception": false,
     "start_time": "2022-03-31T23:43:55.412454",
     "status": "completed"
    },
    "tags": []
   },
   "outputs": [],
   "source": [
    "save_model = True\n",
    "\n",
    "if save_model:\n",
    "    student.model.save_weights(os.path.join(models_saves_path,'nernet_weights_charenc.pth'))"
   ]
  },
  {
   "cell_type": "markdown",
   "id": "6fe41381",
   "metadata": {},
   "source": [
    "# Evaluating with other metrics..."
   ]
  },
  {
   "cell_type": "code",
   "execution_count": 164,
   "id": "a7f76dde",
   "metadata": {
    "papermill": {
     "duration": 0.260407,
     "end_time": "2022-03-31T23:44:10.630580",
     "exception": false,
     "start_time": "2022-03-31T23:44:10.370173",
     "status": "completed"
    },
    "tags": []
   },
   "outputs": [],
   "source": [
    "def remove_indices_from_lists(y_pred, y_true, black_list):\n",
    "    '''\n",
    "    Removes from y_pred and y_true the values contained in black_list that matches with y_true\n",
    "    '''\n",
    "    y_pred_refined, y_true_refined = [], []\n",
    "    for p,l in zip(y_pred, y_true):\n",
    "        if l not in black_list:\n",
    "            y_pred_refined.append(p) \n",
    "            y_true_refined.append(l)\n",
    "    return y_pred_refined, y_true_refined\n",
    "\n",
    "def obtain_pred_labels(model, valid_dataset, device):\n",
    "    model.to(device)\n",
    "    model.eval() # dropout to 0\n",
    "\n",
    "    y_true_total = []\n",
    "    y_pred_total = []\n",
    "    \n",
    "    with torch.no_grad():\n",
    "        for sample in valid_dataset:\n",
    "            inputs = sample['inputs'].to(device)\n",
    "            chars = sample['chars'].to(device)\n",
    "            y_true = sample['outputs']\n",
    "\n",
    "            y_pred = model( inputs, chars, mask = ~y_true.eq(-1) )\n",
    "            if model.crf is None:\n",
    "                y_pred = model.get_indices(y_pred)\n",
    "                y_pred = y_pred.view(-1)\n",
    "                y_true = y_true.view(-1)\n",
    "            else:\n",
    "                y_pred = torch.tensor([val for row in y_pred for val in row])\n",
    "                y_true = torch.tensor([val for row in y_true for val in row if val != -1])\n",
    "\n",
    "            y_pred_total.append(y_pred)\n",
    "            y_true_total.append(y_true)\n",
    "\n",
    "    y_pred, y_true = torch.cat(y_pred_total, dim=0).cpu().numpy(), torch.cat(y_true_total, dim=0).cpu().numpy()\n",
    "    assert len(y_pred) == len(y_true)\n",
    "    y_pred, y_true = remove_indices_from_lists(y_pred, y_true, [-1])\n",
    "    return y_pred, y_true"
   ]
  },
  {
   "cell_type": "code",
   "execution_count": 165,
   "id": "cbfedfd4",
   "metadata": {},
   "outputs": [],
   "source": [
    "y_pred, y_true = obtain_pred_labels(student.model, dataloader_dev, device)"
   ]
  },
  {
   "cell_type": "code",
   "execution_count": 166,
   "id": "27aba241",
   "metadata": {},
   "outputs": [
    {
     "name": "stdout",
     "output_type": "stream",
     "text": [
      "              precision    recall  f1-score   support\n",
      "\n",
      "      B-CORP       0.75      0.65      0.70       136\n",
      "        B-CW       0.64      0.62      0.63       173\n",
      "       B-GRP       0.85      0.75      0.80       193\n",
      "       B-LOC       0.84      0.90      0.87       252\n",
      "       B-PER       0.87      0.92      0.89       315\n",
      "      B-PROD       0.56      0.61      0.59       157\n",
      "      I-CORP       0.75      0.69      0.72       121\n",
      "        I-CW       0.76      0.72      0.74       271\n",
      "       I-GRP       0.90      0.80      0.84       397\n",
      "       I-LOC       0.83      0.79      0.81       159\n",
      "       I-PER       0.88      0.94      0.91       349\n",
      "      I-PROD       0.64      0.64      0.64        91\n",
      "           O       0.97      0.98      0.98     11013\n",
      "\n",
      "    accuracy                           0.94     13627\n",
      "   macro avg       0.79      0.77      0.78     13627\n",
      "weighted avg       0.94      0.94      0.94     13627\n",
      "\n"
     ]
    }
   ],
   "source": [
    "from sklearn.metrics import classification_report\n",
    "\n",
    "print( classification_report(y_true, y_pred, target_names=dataset_train.id2label) )"
   ]
  },
  {
   "cell_type": "code",
   "execution_count": 167,
   "id": "d3edc49e",
   "metadata": {},
   "outputs": [
    {
     "data": {
      "text/plain": [
       "<sklearn.metrics._plot.confusion_matrix.ConfusionMatrixDisplay at 0x7f5b47b3e3d0>"
      ]
     },
     "execution_count": 167,
     "metadata": {},
     "output_type": "execute_result"
    },
    {
     "data": {
      "image/png": "[encoded data removed]",
      "text/plain": [
       "<Figure size 792x792 with 2 Axes>"
      ]
     },
     "metadata": {
      "needs_background": "light"
     },
     "output_type": "display_data"
    }
   ],
   "source": [
    "from sklearn.metrics import ConfusionMatrixDisplay, confusion_matrix\n",
    "\n",
    "cm = confusion_matrix(y_true, y_pred, normalize='pred') # normalized over predicted label: the sum of each column is 1\n",
    "cmd = ConfusionMatrixDisplay(cm, display_labels=dataset_train.id2label)\n",
    "fig, ax = plt.subplots(figsize=(11,11))\n",
    "cmd.plot(ax=ax)"
   ]
  },
  {
   "cell_type": "code",
   "execution_count": 111,
   "id": "493b994e",
   "metadata": {},
   "outputs": [
    {
     "name": "stdout",
     "output_type": "stream",
     "text": [
      "# accuracy: 0.9440\n",
      "# f1: 0.6898\n"
     ]
    }
   ],
   "source": [
    "data_eval_input = []\n",
    "data_eval_label = []\n",
    "for sentence in NERDataset.read_dataset(data_dev_path):\n",
    "    data_eval_input.append(sentence['inputs'])\n",
    "    data_eval_label.append(sentence['outputs'])\n",
    "\n",
    "data_eval_predict = student.predict(data_eval_input)\n",
    "\n",
    "from seqeval.metrics import accuracy_score, f1_score\n",
    "\n",
    "acc = accuracy_score(data_eval_label, data_eval_predict)\n",
    "f = f1_score(data_eval_label, data_eval_predict, average=\"macro\")\n",
    "\n",
    "print(f\"# accuracy: {acc:.4f}\")\n",
    "print(f\"# f1: {f:.4f}\")"
   ]
  },
  {
   "cell_type": "markdown",
   "id": "f69d4b82",
   "metadata": {},
   "source": [
    "# Testing usability..."
   ]
  },
  {
   "cell_type": "code",
   "execution_count": 112,
   "id": "5fb9b18b",
   "metadata": {},
   "outputs": [
    {
     "name": "stdout",
     "output_type": "stream",
     "text": [
      "[['O', 'O', 'O', 'O', 'O', 'O', 'O', 'O', 'B-LOC', 'I-PER', 'O']]\n"
     ]
    }
   ],
   "source": [
    "y_true_sample = ['B-PER','I-PER','O','B-CORP','O','O','O','O','B-LOC','I-LOC','O']\n",
    "input_sample = ['John','Lucas','joined','Aiimi','as','data','scientist','in','New','York','.']\n",
    "\n",
    "print( student.predict([input_sample]) )"
   ]
  },
  {
   "cell_type": "markdown",
   "id": "cc72a309",
   "metadata": {},
   "source": [
    "Testing a long phrase..."
   ]
  },
  {
   "cell_type": "code",
   "execution_count": 113,
   "id": "76213f39",
   "metadata": {},
   "outputs": [
    {
     "name": "stdout",
     "output_type": "stream",
     "text": [
      "83 83\n",
      "[('childhood', 'O'), ('friends', 'O'), ('Bill', 'B-PER'), ('Gates', 'I-PER'), ('and', 'O'), ('Paul', 'B-PER'), ('Allen', 'I-PER'), ('sought', 'O'), ('to', 'O'), ('make', 'O'), ('a', 'O'), ('business', 'O'), ('using', 'O'), ('their', 'O'), ('skills', 'O'), ('in', 'O'), ('computer', 'O'), ('programming.', 'O'), ('in', 'O'), ('1972,', 'O'), ('they', 'O'), ('founded', 'O'), ('traf-o-data,', 'O'), ('which', 'O'), ('sold', 'O'), ('a', 'O'), ('rudimentary', 'O'), ('computer', 'O'), ('to', 'O'), ('track', 'O'), ('and', 'O'), ('analyze', 'O'), ('automobile', 'O'), ('traffic', 'O'), ('data', 'O'), ('.', 'O'), ('gates', 'O'), ('enrolled', 'O'), ('at', 'O'), ('harvard', 'B-GRP'), ('university', 'I-GRP'), ('while', 'O'), ('allen', 'O'), ('pursued', 'O'), ('a', 'O'), ('degree', 'O'), ('in', 'O'), ('computer', 'O'), ('science', 'O'), ('at', 'O'), ('washington', 'B-GRP'), ('state', 'I-GRP'), ('university', 'I-GRP'), (',', 'O'), ('though', 'O'), ('he', 'O'), ('later', 'O'), ('dropped', 'O'), ('out', 'O'), ('to', 'O'), ('work', 'O'), ('at', 'O'), ('honeywell', 'B-CORP'), ('.', 'O'), ('the', 'O'), ('january', 'O'), ('1975', 'O'), ('issue', 'O'), ('of', 'O'), ('popular', 'O'), ('electronics', 'O'), ('featured', 'O'), ('micro', 'O'), ('instrumentation', 'O'), ('and', 'O'), ('telemetry', 'O'), ('systems', 'O'), ('(', 'O'), ('mits', 'O'), (')', 'O'), ('altair', 'B-PROD'), ('8800', 'I-PROD'), ('microcomputer', 'O')]\n"
     ]
    }
   ],
   "source": [
    "long_sample = [ 'childhood', 'friends', 'Bill', 'Gates', 'and', 'Paul', 'Allen', 'sought', 'to', 'make', 'a', 'business', 'using', 'their', 'skills', 'in', 'computer', \n",
    "                'programming.', 'in', '1972,', 'they', 'founded', 'traf-o-data,', 'which', 'sold', 'a', 'rudimentary', 'computer', 'to', 'track', 'and', 'analyze', \n",
    "                'automobile', 'traffic', 'data', '.', 'gates', 'enrolled', 'at', 'harvard', 'university', 'while', 'allen', 'pursued', 'a', 'degree', 'in', 'computer', \n",
    "                'science', 'at', 'washington', 'state', 'university', ',', 'though', 'he', 'later', 'dropped', 'out', 'to', 'work', 'at', 'honeywell', '.', 'the', 'january', \n",
    "                '1975', 'issue', 'of', 'popular', 'electronics', 'featured', 'micro', 'instrumentation', 'and', 'telemetry', \"systems\", '(', 'mits', ')', 'altair', '8800', 'microcomputer']\n",
    "long_sample_predictions = student.predict([long_sample])\n",
    "print(len(long_sample), len(long_sample_predictions[0]))\n",
    "print(list(zip(long_sample,long_sample_predictions[0])))"
   ]
  },
  {
   "cell_type": "code",
   "execution_count": null,
   "id": "047d3796",
   "metadata": {},
   "outputs": [],
   "source": []
  }
 ],
 "metadata": {
  "kernelspec": {
   "display_name": "Python 3",
   "language": "python",
   "name": "python3"
  },
  "language_info": {
   "codemirror_mode": {
    "name": "ipython",
    "version": 3
   },
   "file_extension": ".py",
   "mimetype": "text/x-python",
   "name": "python",
   "nbconvert_exporter": "python",
   "pygments_lexer": "ipython3",
   "version": "3.9.11"
  },
  "papermill": {
   "default_parameters": {},
   "duration": 5413.597386,
   "end_time": "2022-03-31T23:44:13.855326",
   "environment_variables": {},
   "exception": null,
   "input_path": "__notebook__.ipynb",
   "output_path": "__notebook__.ipynb",
   "parameters": {},
   "start_time": "2022-03-31T22:14:00.257940",
   "version": "2.3.3"
  }
 },
 "nbformat": 4,
 "nbformat_minor": 5
}
